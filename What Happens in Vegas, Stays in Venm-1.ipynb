{
 "cells": [
  {
   "cell_type": "markdown",
   "metadata": {},
  },
  {
   "cell_type": "markdown",
   "metadata": {},
   "source": [
    "#### We added following 10 words to the dictionary:\n",
    "___Food: strawberry, weee, lamb___    \n",
    "___Utility: toothbrush, computer, desk, oven___    \n",
    "___Transportation: fedex, dhl, muni___"
   ]
  },
  {
   "cell_type": "code",
   "execution_count": 8,
   "metadata": {},
   "outputs": [],
   "source": [
    "import re\n",
    "import emoji\n",
    "import bisect\n",
    "import numpy as np\n",
    "import pandas as pd\n",
    "import seaborn as sns\n",
    "from scipy import stats\n",
    "from functools import reduce\n",
    "from functools import partial\n",
    "from collections import Counter\n",
    "import matplotlib.pyplot as plt\n",
    "from datetime import datetime\n",
    "from dateutil.relativedelta import relativedelta\n",
    "%matplotlib inline\n",
    "%load_ext autotime\n",
    "\n",
    "\n",
    "# Import Spark SQL related packages\n",
    "from pyspark.sql import functions as F\n",
    "from pyspark.sql import types as T\n",
    "from pyspark.sql import Window\n",
    "from pyspark.sql import SparkSession \n",
    "from pyspark.sql import Row\n",
    "from pyspark.sql.functions import dayofmonth\n",
    "from pyspark.sql.functions import when\n",
    "from pyspark.sql.functions import concat_ws\n",
    "from pyspark.sql.functions import lit\n",
    "\n",
    "# Import Spark MLlib related packages\n",
    "from pyspark.ml.feature import Tokenizer\n",
    "from pyspark.ml.linalg import Vectors\n",
    "from pyspark.ml import Pipeline\n",
    "from pyspark.ml.feature import VectorIndexer\n",
    "from pyspark.ml.evaluation import RegressionEvaluator\n",
    "\n",
    "# Import Spark MLlib model packages\n",
    "from pyspark.ml.regression import RandomForestRegressor\n",
    "from pyspark.ml.regression import LinearRegression\n",
    "from pyspark.ml.regression import GeneralizedLinearRegression\n",
    "\n",
    "import pyspark as ps\n",
    "conf = ps.SparkConf().setMaster(\"yarn-client\").setAppName(\"sparK-mer\")\n",
    "conf.set(\"spark.driver.memory\", \"15g\")\n",
    "conf.set(\"spark.executor.heartbeatInterval\",\"3600s\")\n",
    "\n",
    "%load_ext autotime"
   ]
  },
  {
   "cell_type": "code",
   "execution_count": 9,
   "metadata": {},
   "outputs": [
    {
     "data": {
      "text/plain": [
       "<pyspark.conf.SparkConf at 0x199a57611c8>"
      ]
     },
     "execution_count": 9,
     "metadata": {},
     "output_type": "execute_result"
    },
    {
     "name": "stdout",
     "output_type": "stream",
     "text": [
      "time: 7.02 ms\n"
     ]
    }
   ],
   "source": [
    "import pyspark as ps\n",
    "\n",
    "conf = ps.SparkConf().setMaster(\"yarn-client\").setAppName(\"sparK-mer\")\n",
    "conf.set(\"spark.driver.memory\", \"15g\")\n",
    "conf.set(\"spark.executor.heartbeatInterval\",\"3600s\")"
   ]
  },
  {
   "cell_type": "markdown",
   "metadata": {},
   "source": [
    "## Reading the Data"
   ]
  },
  {
   "cell_type": "code",
   "execution_count": 3,
   "metadata": {},
   "outputs": [
    {
     "name": "stdout",
     "output_type": "stream",
     "text": [
      "time: 2.89 ms\n"
     ]
    }
   ],
   "source": [
    "spark = SparkSession\\\n",
    "        .builder\\\n",
    "        .appName('HW2')\\\n",
    "        .getOrCreate()"
   ]
  },
  {
   "cell_type": "code",
   "execution_count": 4,
   "metadata": {},
   "outputs": [
    {
     "name": "stdout",
     "output_type": "stream",
     "text": [
      "time: 2.46 s\n"
     ]
    }
   ],
   "source": [
    "# Load the parquet data\n",
    "transactions = spark.read.parquet('VenmoSample.snappy.parquet')"
   ]
  },
  {
   "cell_type": "code",
   "execution_count": 5,
   "metadata": {},
   "outputs": [
    {
     "name": "stdout",
     "output_type": "stream",
     "text": [
      "+-------+-------+----------------+-------------------+------------+-----------+--------------------+\n",
      "|  user1|  user2|transaction_type|           datetime| description|is_business|            story_id|\n",
      "+-------+-------+----------------+-------------------+------------+-----------+--------------------+\n",
      "|1218774|1528945|         payment|2015-11-27 02:48:19|        Uber|      false|5657c473cd03c9af2...|\n",
      "|5109483|4782303|         payment|2015-06-17 04:37:04|      Costco|      false|5580f9702b64f70ab...|\n",
      "|4322148|3392963|         payment|2015-06-19 00:05:31|Sweaty balls|      false|55835ccb1a624b14a...|\n",
      "| 469894|1333620|          charge|2016-06-03 16:34:13|          🎥|      false|5751b185cd03c9af2...|\n",
      "|2960727|3442373|         payment|2016-05-29 16:23:42|           ⚡|      false|574b178ecd03c9af2...|\n",
      "+-------+-------+----------------+-------------------+------------+-----------+--------------------+\n",
      "only showing top 5 rows\n",
      "\n",
      "time: 1.67 s\n"
     ]
    }
   ],
   "source": [
    "transactions.show(5)"
   ]
  },
  {
   "cell_type": "code",
   "execution_count": 6,
   "metadata": {},
   "outputs": [
    {
     "name": "stdout",
     "output_type": "stream",
     "text": [
      "time: 926 ms\n"
     ]
    }
   ],
   "source": [
    "# Load the emoji data\n",
    "emoji_data = spark\\\n",
    "            .read\\\n",
    "            .option('header','true')\\\n",
    "            .option('inferSchema','true')\\\n",
    "            .csv(r'Venmo_Emoji_Classification_Dictionary.csv')"
   ]
  },
  {
   "cell_type": "code",
   "execution_count": 7,
   "metadata": {},
   "outputs": [
    {
     "name": "stdout",
     "output_type": "stream",
     "text": [
      "+-----+------+----+--------+--------------+------+-------+\n",
      "|Event|Travel|Food|Activity|Transportation|People|Utility|\n",
      "+-----+------+----+--------+--------------+------+-------+\n",
      "| 🇦🇺|    🏔|  🍇|      👾|            🚄|    😀|      ⚡|\n",
      "| 🇫🇷|     ⛰|  🍈|      🕴|            🚅|    😃|     💡|\n",
      "|   🎂|    🌋|  🍉|      🎪|            🚆|    😄|     🔌|\n",
      "|   🛍|    🗻|  🍊|      🎭|            🚇|    😁|     📺|\n",
      "| 🇨🇦|    🏕|  🍋|      🎨|            🚈|    😆|     🔌|\n",
      "+-----+------+----+--------+--------------+------+-------+\n",
      "only showing top 5 rows\n",
      "\n",
      "time: 156 ms\n"
     ]
    }
   ],
   "source": [
    "emoji_data.show(5)"
   ]
  },
  {
   "cell_type": "code",
   "execution_count": 8,
   "metadata": {},
   "outputs": [
    {
     "name": "stdout",
     "output_type": "stream",
     "text": [
      "time: 319 ms\n"
     ]
    }
   ],
   "source": [
    "# load the word dictionary data\n",
    "word_data = spark\\\n",
    "        .read\\\n",
    "        .option('header','true')\\\n",
    "        .option('inferSchema','true')\\\n",
    "        .csv(r'Venmo Word Classification Dictonary BAX-423 - Word_Dict.csv')"
   ]
  },
  {
   "cell_type": "code",
   "execution_count": 9,
   "metadata": {},
   "outputs": [
    {
     "name": "stdout",
     "output_type": "stream",
     "text": [
      "time: 30 ms\n"
     ]
    }
   ],
   "source": [
    "# There is space in the column, so rename the column names to clean form\n",
    "oldColumns = word_data.schema.names\n",
    "newColumns = [ 'People','Food','Event','Activity','Travel','Transportation','Utility','Cash','Illegal/Sarcasm']\n",
    "\n",
    "word_data = reduce(lambda word_data, idx: word_data.withColumnRenamed(oldColumns[idx], newColumns[idx]), range(len(oldColumns)), word_data)"
   ]
  },
  {
   "cell_type": "code",
   "execution_count": 10,
   "metadata": {},
   "outputs": [
    {
     "name": "stdout",
     "output_type": "stream",
     "text": [
      "+----------+---------+---------+--------+------+--------------+-----------+-----+---------------+\n",
      "|    People|     Food|    Event|Activity|Travel|Transportation|    Utility| Cash|Illegal/Sarcasm|\n",
      "+----------+---------+---------+--------+------+--------------+-----------+-----+---------------+\n",
      "|    friend|     food| birthday|    ball| beach|          lyft|       bill| atm |      addiction|\n",
      "|friendship|      bbq|christmas|    boat| place|          uber|      cable|bank |           drug|\n",
      "|      baby|     bean|    happy|     bar|    la|           cab|        fee|cash |          wangs|\n",
      "|       boy|    latte|     bday|    book| world|           bus|   electric|money|           weed|\n",
      "|      girl|breakfast|  wedding|    club| hotel|           car|electricity| buck|           anal|\n",
      "+----------+---------+---------+--------+------+--------------+-----------+-----+---------------+\n",
      "only showing top 5 rows\n",
      "\n",
      "time: 185 ms\n"
     ]
    }
   ],
   "source": [
    "word_data.show(5)"
   ]
  },
  {
   "cell_type": "markdown",
   "metadata": {},
   "source": [
    "### Q1: Use the text dictionary and the emoji dictionary to classify Venmo’s transactions in your sample dataset."
   ]
  },
  {
   "cell_type": "markdown",
   "metadata": {},
   "source": [
    "#### Generate a column hold all emojis in each transaction."
   ]
  },
  {
   "cell_type": "code",
   "execution_count": 11,
   "metadata": {},
   "outputs": [
    {
     "name": "stdout",
     "output_type": "stream",
     "text": [
      "time: 43.9 ms\n"
     ]
    }
   ],
   "source": [
    "def extract_emojis(description):\n",
    "    '''\n",
    "    Find emojis from description and save them in a list for each transaction\n",
    "    '''\n",
    "\n",
    "    emoji_str = ' '.join(element for element in description if element in emoji.UNICODE_EMOJI)\n",
    "    emoji_lst = list(emoji_str.split(' '))\n",
    "        \n",
    "    return emoji_lst\n",
    "\n",
    "find_emoji = F.udf(lambda description: extract_emojis(description))\n",
    "transactions = transactions.withColumn('emoji_list', find_emoji(F.col('description')))"
   ]
  },
  {
   "cell_type": "code",
   "execution_count": 12,
   "metadata": {},
   "outputs": [
    {
     "name": "stdout",
     "output_type": "stream",
     "text": [
      "time: 24.9 ms\n"
     ]
    }
   ],
   "source": [
    "# Transform column 'emoji_list' from string to array with string elements.\n",
    "transactions= transactions.withColumn(\n",
    "    \"emoji_list\",\n",
    "    F.split(F.regexp_replace(F.col(\"emoji_list\"), r\"(^\\[)|(\\]$)|(')\", \"\"), \", \"))"
   ]
  },
  {
   "cell_type": "markdown",
   "metadata": {},
   "source": [
    "#### Tokenize the words from description of transaction data and save them in a list for each row, save the lists as a column in transaction dataframe."
   ]
  },
  {
   "cell_type": "code",
   "execution_count": 13,
   "metadata": {},
   "outputs": [
    {
     "name": "stdout",
     "output_type": "stream",
     "text": [
      "time: 972 µs\n"
     ]
    }
   ],
   "source": [
    "def extract_words(description):\n",
    "    '''\n",
    "    Remove emojis from description and retain only words in the description\n",
    "    '''\n",
    "    \n",
    "    emoji_pattern = re.compile(\"[\"\n",
    "                           u\"\\U0001F600-\\U0001F64F\"  # emoticons\n",
    "                           u\"\\U0001F300-\\U0001F5FF\"  # symbols & pictographs\n",
    "                           u\"\\U0001F680-\\U0001F6FF\"  # transport & map symbols\n",
    "                           u\"\\U0001F1E0-\\U0001F1FF\"  # flags (iOS)\n",
    "                           u\"\\U00002702-\\U000027B0\"\n",
    "                           u\"\\U000024C2-\\U0001F251\"\n",
    "                           \"]+\", flags=re.UNICODE)\n",
    "    only_word = emoji_pattern.sub(r'', description)\n",
    "\n",
    "    return only_word"
   ]
  },
  {
   "cell_type": "code",
   "execution_count": 14,
   "metadata": {},
   "outputs": [
    {
     "name": "stdout",
     "output_type": "stream",
     "text": [
      "time: 14 ms\n"
     ]
    }
   ],
   "source": [
    "remove_emoji = F.udf(lambda description: extract_words(description))\n",
    "transactions = transactions.withColumn('description_clean', remove_emoji(F.col('description')))"
   ]
  },
  {
   "cell_type": "code",
   "execution_count": 15,
   "metadata": {},
   "outputs": [
    {
     "name": "stdout",
     "output_type": "stream",
     "text": [
      "time: 55 ms\n"
     ]
    }
   ],
   "source": [
    "# Then we tokenize the words in the description_clean to a list for each transaction\n",
    "tokenizer = Tokenizer(inputCol='description_clean', outputCol='words_list')\n",
    "transactions = tokenizer.transform(transactions)"
   ]
  },
  {
   "cell_type": "code",
   "execution_count": 16,
   "metadata": {},
   "outputs": [
    {
     "name": "stdout",
     "output_type": "stream",
     "text": [
      "+------------+----------+---------------+\n",
      "| description|emoji_list|     words_list|\n",
      "+------------+----------+---------------+\n",
      "|        Uber|        []|         [uber]|\n",
      "|      Costco|        []|       [costco]|\n",
      "|Sweaty balls|        []|[sweaty, balls]|\n",
      "|          🎥|      [🎥]|             []|\n",
      "|           ⚡|       [⚡]|             []|\n",
      "+------------+----------+---------------+\n",
      "only showing top 5 rows\n",
      "\n",
      "time: 899 ms\n"
     ]
    }
   ],
   "source": [
    "transactions.select(['description', 'emoji_list','words_list']).show(5)"
   ]
  },
  {
   "cell_type": "markdown",
   "metadata": {},
   "source": [
    "#### Create a dictionay holds emojis and words as keys and their categories as values."
   ]
  },
  {
   "cell_type": "code",
   "execution_count": 10,
   "metadata": {},
   "outputs": [
    {
     "name": "stdout",
     "output_type": "stream",
     "text": [
      "time: 1e+03 µs\n"
     ]
    }
   ],
   "source": [
    "# Generate emoji dictionary and word dictionary fron emoji_data and word_data dataframes\n",
    "def create_emoji_dict(category):\n",
    "    '''\n",
    "    Returns a dictionary where emoji is key and its category as value\n",
    "    '''\n",
    "    emoji_lst = emoji_data.select(category).collect()\n",
    "    emoji_array = [str(row[category]) for row in emoji_lst]\n",
    "    emoji_dict = { i : category for i in emoji_array }\n",
    "    return emoji_dict\n",
    "\n",
    "def create_word_dict(category):\n",
    "    '''\n",
    "    Returns a dictionary where word is key and its category as value\n",
    "    '''\n",
    "    word_lst = word_data.select(category).collect()\n",
    "    word_array = [str(row[category]) for row in word_lst]\n",
    "    word_dict = { i : category for i in word_array }\n",
    "    return word_dict\n",
    "\n",
    "def Merge_dict(dict1, dict2): \n",
    "    '''\n",
    "    Merge two dictionaries into one\n",
    "    '''\n",
    "    res = {**dict1, **dict2} \n",
    "    return res"
   ]
  },
  {
   "cell_type": "code",
   "execution_count": 18,
   "metadata": {},
   "outputs": [
    {
     "name": "stdout",
     "output_type": "stream",
     "text": [
      "time: 1.47 s\n"
     ]
    }
   ],
   "source": [
    "# Creat a disctionay contains emojis and corresponding categories\n",
    "\n",
    "emoji_categories = ['Event','Travel','Food','Activity','Transportation','People','Utility']\n",
    "word_categories = [ 'People','Food','Event','Activity','Travel','Transportation','Utility','Cash','Illegal/Sarcasm']\n",
    "\n",
    "category_dict = dict()\n",
    "   \n",
    "for category in emoji_categories:\n",
    "    sub_emoji_dict = create_emoji_dict(category)\n",
    "    category_dict = Merge_dict(category_dict, sub_emoji_dict)\n",
    "    \n",
    "for category in word_categories:\n",
    "    sub_word_dict = create_word_dict(category)\n",
    "    category_dict = Merge_dict(category_dict, sub_word_dict)\n",
    "\n",
    "category_dict[''] = 'None'"
   ]
  },
  {
   "cell_type": "markdown",
   "metadata": {},
   "source": [
    "#### Create a column hold the emoji and word catrgories of each transaction"
   ]
  },
  {
   "cell_type": "code",
   "execution_count": 19,
   "metadata": {
    "scrolled": false
   },
   "outputs": [
    {
     "name": "stdout",
     "output_type": "stream",
     "text": [
      "time: 999 µs\n"
     ]
    }
   ],
   "source": [
    "def match_category(word_lst):\n",
    "    '''\n",
    "    This function returns a list contains corresponding categories of the words in word_lst\n",
    "    '''\n",
    "    category_lst = [category_dict[word] if word in category_dict.keys() else 'Others' for word in word_lst]\n",
    "    \n",
    "    if len(category_lst)==0:\n",
    "        category_lst.append('None')\n",
    "    \n",
    "    return category_lst"
   ]
  },
  {
   "cell_type": "code",
   "execution_count": 20,
   "metadata": {},
   "outputs": [
    {
     "name": "stdout",
     "output_type": "stream",
     "text": [
      "time: 38 ms\n"
     ]
    }
   ],
   "source": [
    "#category_dict.update({'None':'Others'})\n",
    "find_categories = F.udf(lambda lst: match_category(lst))\n",
    "transactions = transactions.withColumn('emoji_categories', find_categories(F.col('emoji_list')))\n",
    "transactions = transactions.withColumn('words_category', find_categories(F.col('words_list')))"
   ]
  },
  {
   "cell_type": "markdown",
   "metadata": {},
   "source": [
    "#### Create a column hold the category of each transaction"
   ]
  },
  {
   "cell_type": "code",
   "execution_count": 21,
   "metadata": {},
   "outputs": [
    {
     "name": "stdout",
     "output_type": "stream",
     "text": [
      "root\n",
      " |-- user1: integer (nullable = true)\n",
      " |-- user2: integer (nullable = true)\n",
      " |-- transaction_type: string (nullable = true)\n",
      " |-- datetime: timestamp (nullable = true)\n",
      " |-- description: string (nullable = true)\n",
      " |-- is_business: boolean (nullable = true)\n",
      " |-- story_id: string (nullable = true)\n",
      " |-- emoji_list: array (nullable = true)\n",
      " |    |-- element: string (containsNull = true)\n",
      " |-- description_clean: string (nullable = true)\n",
      " |-- words_list: array (nullable = true)\n",
      " |    |-- element: string (containsNull = true)\n",
      " |-- emoji_categories: string (nullable = true)\n",
      " |-- words_category: string (nullable = true)\n",
      "\n",
      "time: 2 ms\n"
     ]
    }
   ],
   "source": [
    "transactions.printSchema()"
   ]
  },
  {
   "cell_type": "code",
   "execution_count": 22,
   "metadata": {},
   "outputs": [
    {
     "name": "stdout",
     "output_type": "stream",
     "text": [
      "+--------------------+----------+--------------------+----------------+--------------------+\n",
      "|         description|emoji_list|          words_list|emoji_categories|      words_category|\n",
      "+--------------------+----------+--------------------+----------------+--------------------+\n",
      "|                Uber|        []|              [uber]|          [None]|    [Transportation]|\n",
      "|              Costco|        []|            [costco]|          [None]|              [Food]|\n",
      "|        Sweaty balls|        []|     [sweaty, balls]|          [None]|    [Others, Others]|\n",
      "|                  🎥|      [🎥]|                  []|         [Event]|              [None]|\n",
      "|                   ⚡|       [⚡]|                  []|       [Utility]|              [None]|\n",
      "|          Chipotlaid|        []|        [chipotlaid]|          [None]|            [Others]|\n",
      "|     kitchen counter|        []|  [kitchen, counter]|          [None]|   [Utility, Others]|\n",
      "|                Food|        []|              [food]|          [None]|              [Food]|\n",
      "|               Zaxby|        []|             [zaxby]|          [None]|            [Others]|\n",
      "|           Fan sucks|        []|        [fan, sucks]|          [None]|    [Others, Others]|\n",
      "|                  👠|      [👠]|                  []|        [Others]|              [None]|\n",
      "|         Thanks babe|        []|      [thanks, babe]|          [None]|    [People, People]|\n",
      "|                  🍺|      [🍺]|                  []|          [Food]|              [None]|\n",
      "|                   ⛽|       [⛽]|                  []|[Transportation]|              [None]|\n",
      "|Hey man  it's bee...|        []|[hey, man, , it's...|          [None]|[Others, Others, ...|\n",
      "|         Getaway car|        []|      [getaway, car]|          [None]|[Others, Transpor...|\n",
      "|     🔮 gypsy things|      [🔮]|   [, gypsy, things]|        [Others]|[None, Others, Ot...|\n",
      "|                  🔴|      [🔴]|                  []|        [Others]|              [None]|\n",
      "|           Furniture|        []|         [furniture]|          [None]|           [Utility]|\n",
      "|bed bath mostly b...|        []|[bed, bath, mostl...|          [None]|[Utility, Others,...|\n",
      "+--------------------+----------+--------------------+----------------+--------------------+\n",
      "only showing top 20 rows\n",
      "\n",
      "time: 1.33 s\n"
     ]
    }
   ],
   "source": [
    "transactions.select('description','emoji_list','words_list','emoji_categories','words_category').show()"
   ]
  },
  {
   "cell_type": "code",
   "execution_count": 23,
   "metadata": {},
   "outputs": [
    {
     "name": "stdout",
     "output_type": "stream",
     "text": [
      "time: 2 ms\n"
     ]
    }
   ],
   "source": [
    "def union_categories(emoji_category, words_category):\n",
    "    '''\n",
    "    Count emoji 30% and words 70% towards the final category, \n",
    "    return the category with highest value as the category which is not 'Others'\n",
    "    for the transaction, if there are categories with same weight,\n",
    "    simply take the first category\n",
    "    '''\n",
    "    if (len(words_category)==1) & (words_category[0]=='None'):\n",
    "        transaction_cat = Counter({cat:1 for cat in emoji_category})\n",
    "        \n",
    "    elif (len(emoji_category)==1) & (emoji_category[0]=='None'):\n",
    "        transaction_cat = Counter({cat:1 for cat in words_category})\n",
    "        \n",
    "    else:\n",
    "        emoji_cat_dict = {cat:0.3 for cat in emoji_category}\n",
    "        word_cat_dict = {cat:0.7 for cat in words_category}\n",
    "        transaction_cat = (Counter(emoji_cat_dict) + Counter(word_cat_dict))\n",
    "    \n",
    "    if (len(transaction_cat) > 1) & ((transaction_cat).most_common()[0][0] == 'Others'):\n",
    "        transaction_cat = (transaction_cat).most_common()[1][0]\n",
    "    else:\n",
    "        transaction_cat = (transaction_cat).most_common()[0][0]\n",
    "    \n",
    "    return transaction_cat"
   ]
  },
  {
   "cell_type": "code",
   "execution_count": 24,
   "metadata": {},
   "outputs": [
    {
     "name": "stdout",
     "output_type": "stream",
     "text": [
      "time: 106 ms\n"
     ]
    }
   ],
   "source": [
    "# Transform column 'emoji_category' from string to array with string elements.\n",
    "transactions= transactions.withColumn(\"emoji_categories\", F.split(F.regexp_replace(F.col(\"emoji_categories\"), r\"(^\\[)|(\\]$)|(')\", \"\"), \", \"))\n",
    "\n",
    "# Transform column 'words_category' from string to array with string elements.\n",
    "transactions= transactions.withColumn(\"words_category\", F.split(F.regexp_replace(F.col(\"words_category\"), r\"(^\\[)|(\\]$)|(')\", \"\"), \", \"))"
   ]
  },
  {
   "cell_type": "code",
   "execution_count": 25,
   "metadata": {},
   "outputs": [
    {
     "name": "stdout",
     "output_type": "stream",
     "text": [
      "time: 21 ms\n"
     ]
    }
   ],
   "source": [
    "find_category = F.udf(lambda emoji_cat, words_cat: union_categories(emoji_cat, words_cat))\n",
    "transactions = transactions.withColumn('transaction_category', find_category(F.col('emoji_categories'),F.col('words_category')))"
   ]
  },
  {
   "cell_type": "code",
   "execution_count": 26,
   "metadata": {},
   "outputs": [
    {
     "name": "stdout",
     "output_type": "stream",
     "text": [
      "time: 20.1 ms\n"
     ]
    }
   ],
   "source": [
    "# Change transactions category whose category is 'None' to 'Others'\n",
    "transactions = transactions.withColumn(\"transaction_category\", \\\n",
    "              F.when(transactions[\"transaction_category\"] == 'None', 'Others').otherwise(transactions[\"transaction_category\"]))"
   ]
  },
  {
   "cell_type": "markdown",
   "metadata": {},
   "source": [
    "### Q2: What is the percent of emoji only transactions? Which are the top 5 most popular emoji? Which are the top three most popular emoji categories?"
   ]
  },
  {
   "cell_type": "code",
   "execution_count": 27,
   "metadata": {},
   "outputs": [
    {
     "name": "stdout",
     "output_type": "stream",
     "text": [
      "time: 985 µs\n"
     ]
    }
   ],
   "source": [
    "def if_emoji_only(words_lst):\n",
    "    '''\n",
    "    Return True if the transaction description only contains emoji, return false otherwise.\n",
    "    '''\n",
    "    \n",
    "    if (words_lst ==[]) | (words_lst ==['']):\n",
    "        return 'True'\n",
    "\n",
    "    else:\n",
    "        return 'False'"
   ]
  },
  {
   "cell_type": "code",
   "execution_count": 28,
   "metadata": {},
   "outputs": [
    {
     "name": "stdout",
     "output_type": "stream",
     "text": [
      "time: 14 ms\n"
     ]
    }
   ],
   "source": [
    "judge_emoji_only = F.udf(lambda word_lst: if_emoji_only(word_lst))\n",
    "transactions = transactions.withColumn('emoji_only', judge_emoji_only(F.col('words_list')))"
   ]
  },
  {
   "cell_type": "code",
   "execution_count": 29,
   "metadata": {},
   "outputs": [
    {
     "name": "stdout",
     "output_type": "stream",
     "text": [
      "time: 364 ms\n"
     ]
    }
   ],
   "source": [
    "tot = transactions.count()\n",
    "\n",
    "percent = transactions.groupBy(\"emoji_only\") \\\n",
    "  .count() \\\n",
    "  .withColumnRenamed('count', 'cnt_per_group') \\\n",
    "  .withColumn('perc_of_count_total', (F.col('cnt_per_group') / tot) * 100 )"
   ]
  },
  {
   "cell_type": "code",
   "execution_count": 30,
   "metadata": {
    "scrolled": false
   },
   "outputs": [
    {
     "name": "stdout",
     "output_type": "stream",
     "text": [
      "+----------+-------------------+\n",
      "|emoji_only|perc_of_count_total|\n",
      "+----------+-------------------+\n",
      "|     False|   74.5015736376229|\n",
      "|      True| 25.498426362377106|\n",
      "+----------+-------------------+\n",
      "\n",
      "time: 27.3 s\n"
     ]
    }
   ],
   "source": [
    "percent.select('emoji_only', 'perc_of_count_total').show()"
   ]
  },
  {
   "cell_type": "code",
   "execution_count": 31,
   "metadata": {},
   "outputs": [
    {
     "name": "stdout",
     "output_type": "stream",
     "text": [
      "+-----+-------+\n",
      "|emoji|  count|\n",
      "+-----+-------+\n",
      "|     |4514310|\n",
      "|   🍕| 215039|\n",
      "|   🍻| 145233|\n",
      "|   💸| 124727|\n",
      "|   🍷| 111157|\n",
      "|   🎉|  94327|\n",
      "+-----+-------+\n",
      "only showing top 6 rows\n",
      "\n",
      "time: 20.5 s\n"
     ]
    }
   ],
   "source": [
    "emoji_explode = transactions.select('emoji_list').withColumn(\"emoji\", F.explode((F.col(\"emoji_list\"))))\n",
    "emoji_explode.groupBy('emoji').count().sort(F.col(\"count\").desc()).show(6)"
   ]
  },
  {
   "cell_type": "code",
   "execution_count": 32,
   "metadata": {},
   "outputs": [
    {
     "name": "stdout",
     "output_type": "stream",
     "text": [
      "time: 159 ms\n"
     ]
    }
   ],
   "source": [
    "emoji_category_explode = transactions.where( \"emoji_categories[0] != 'None' \")"
   ]
  },
  {
   "cell_type": "code",
   "execution_count": 33,
   "metadata": {
    "scrolled": true
   },
   "outputs": [
    {
     "name": "stdout",
     "output_type": "stream",
     "text": [
      "+--------------+-------+\n",
      "|emoji_category|  count|\n",
      "+--------------+-------+\n",
      "|        Others|1852061|\n",
      "|          Food|1744390|\n",
      "|        People|1011889|\n",
      "|      Activity| 423988|\n",
      "|       Utility| 301868|\n",
      "|Transportation| 258830|\n",
      "|         Event| 163141|\n",
      "|        Travel| 107774|\n",
      "+--------------+-------+\n",
      "\n",
      "time: 58.1 s\n"
     ]
    }
   ],
   "source": [
    "emoji_category_explode = emoji_category_explode.select('emoji_categories').withColumn('emoji_category', F.explode((F.col('emoji_categories'))))\n",
    "emoji_category_explode.groupBy('emoji_category').count().sort(F.col(\"count\").desc()).show(10)"
   ]
  },
  {
   "cell_type": "markdown",
   "metadata": {},
   "source": [
    "### Q3: For each user, create a variable to indicate their spending behavior profile. For example, if a user has made 10 transactions, where 5 of them are food and the other 5 are activity, then the user’s spending profile will be 50% food and 50% activity."
   ]
  },
  {
   "cell_type": "markdown",
   "metadata": {},
   "source": [
    "#### Here, since we want the spending profile, so we filter out the transactions with transacton type 'charge'."
   ]
  },
  {
   "cell_type": "code",
   "execution_count": 34,
   "metadata": {},
   "outputs": [
    {
     "name": "stdout",
     "output_type": "stream",
     "text": [
      "time: 17 ms\n"
     ]
    }
   ],
   "source": [
    "category_count = transactions.filter('transaction_type == \"payment\"').select('user1','transaction_category')"
   ]
  },
  {
   "cell_type": "code",
   "execution_count": 35,
   "metadata": {
    "scrolled": true
   },
   "outputs": [
    {
     "name": "stdout",
     "output_type": "stream",
     "text": [
      "time: 107 ms\n"
     ]
    }
   ],
   "source": [
    "w = Window.partitionBy('user1')\n",
    "category_count = category_count.select('user1', 'transaction_category', F.count('user1').over(w).alias('transaction_count')).sort('user1', 'transaction_category')"
   ]
  },
  {
   "cell_type": "code",
   "execution_count": 36,
   "metadata": {},
   "outputs": [
    {
     "name": "stdout",
     "output_type": "stream",
     "text": [
      "time: 66 ms\n"
     ]
    }
   ],
   "source": [
    "category_count = category_count.select('user1', 'transaction_category','transaction_count')\\\n",
    "    .groupBy('user1', 'transaction_count', 'transaction_category')\\\n",
    "    .count()\\\n",
    "    .groupBy('user1')\\\n",
    "    .agg(F.collect_list(F.struct(F.col(\"transaction_category\"), F.round(F.col('count')/F.col('transaction_count'), 2))).alias(\"profile\"))\\\n",
    "    .orderBy(\"user1\")"
   ]
  },
  {
   "cell_type": "code",
   "execution_count": 37,
   "metadata": {
    "scrolled": true
   },
   "outputs": [
    {
     "name": "stdout",
     "output_type": "stream",
     "text": [
      "+-----+----------------------------------------------------------------------------------------------+\n",
      "|user1|profile                                                                                       |\n",
      "+-----+----------------------------------------------------------------------------------------------+\n",
      "|2    |[[Others, 1.0]]                                                                               |\n",
      "|3    |[[Others, 0.83], [Utility, 0.17]]                                                             |\n",
      "|4    |[[Activity, 0.2], [Food, 0.4], [Others, 0.2], [Travel, 0.2]]                                  |\n",
      "|10   |[[Activity, 0.1], [Food, 0.3], [Others, 0.4], [People, 0.2]]                                  |\n",
      "|11   |[[Event, 0.12], [Food, 0.12], [Others, 0.56], [People, 0.12], [Travel, 0.04], [Utility, 0.04]]|\n",
      "+-----+----------------------------------------------------------------------------------------------+\n",
      "only showing top 5 rows\n",
      "\n",
      "time: 2min 56s\n"
     ]
    }
   ],
   "source": [
    "category_count.show(5, truncate=False)"
   ]
  },
  {
   "cell_type": "markdown",
   "metadata": {},
   "source": [
    "### Q4: In the previous question, you got a static spending profile. However, life and social networks are evolving over time. Therefore, let’s explore how a user’s spending profile is evolving over her lifetime in Venmo. First of all, you need to analyze a user’s transactions in monthly intervals, starting from 0 (indicating ​their first transaction only) up to 12."
   ]
  },
  {
   "cell_type": "code",
   "execution_count": 38,
   "metadata": {},
   "outputs": [
    {
     "name": "stdout",
     "output_type": "stream",
     "text": [
      "time: 24 ms\n"
     ]
    }
   ],
   "source": [
    "# Choose useful columns from the transactions dataframe\n",
    "dynamic_profile = transactions.filter('transaction_type == \"payment\"').select('user1', 'datetime','transaction_category')"
   ]
  },
  {
   "cell_type": "markdown",
   "metadata": {},
   "source": [
    "#### Remove transaction that is more than 12 month since the user's first transaction"
   ]
  },
  {
   "cell_type": "code",
   "execution_count": 39,
   "metadata": {
    "scrolled": true
   },
   "outputs": [
    {
     "name": "stdout",
     "output_type": "stream",
     "text": [
      "time: 31 ms\n"
     ]
    }
   ],
   "source": [
    "w = Window.partitionBy('user1')\n",
    "dynamic_profile = dynamic_profile.withColumn('start_date', F.to_date(F.min('datetime').over(w)))"
   ]
  },
  {
   "cell_type": "markdown",
   "metadata": {},
   "source": [
    "#### Generate a column hold the profile number (0-11) for each transaction"
   ]
  },
  {
   "cell_type": "code",
   "execution_count": 40,
   "metadata": {},
   "outputs": [
    {
     "name": "stdout",
     "output_type": "stream",
     "text": [
      "time: 1.98 ms\n"
     ]
    }
   ],
   "source": [
    "from datetime import datetime\n",
    "from dateutil.relativedelta import relativedelta\n",
    "import bisect\n",
    "\n",
    "def generate_profile_num(datetime,start_date):\n",
    "    '''\n",
    "    Returns a profile number for the transaction according to the month since the startdate\n",
    "    '''\n",
    "    \n",
    "    transaction_date = datetime.date()\n",
    "    \n",
    "    profile_interval = [(start_date + relativedelta(months=+i)) for i in range(0,13)]\n",
    "    \n",
    "    # If transaction at start_date then its profile_num is 0, then 1st month is 1, 2nd month is 2...\n",
    "    # for transactons later than last day of 12 month since start_date, then profile_num is 13 for all\n",
    "    profile_num = bisect.bisect_left(profile_interval, transaction_date) \n",
    "    \n",
    "    return profile_num"
   ]
  },
  {
   "cell_type": "code",
   "execution_count": 41,
   "metadata": {},
   "outputs": [
    {
     "name": "stdout",
     "output_type": "stream",
     "text": [
      "time: 31 ms\n"
     ]
    }
   ],
   "source": [
    "get_profile_num = F.udf(lambda datetime, start_date: generate_profile_num(datetime, start_date))\n",
    "dynamic_profile = dynamic_profile.withColumn('profile_num', get_profile_num(F.col('datetime'),F.col('start_date')))"
   ]
  },
  {
   "cell_type": "code",
   "execution_count": null,
   "metadata": {},
   "outputs": [],
   "source": [
    "#result_pdf = dynamic_profile.select(\"*\").toPandas()"
   ]
  },
  {
   "cell_type": "code",
   "execution_count": null,
   "metadata": {},
   "outputs": [],
   "source": [
    "#result_pdf.to_csv('dynamic_profile.csv')"
   ]
  },
  {
   "cell_type": "code",
   "execution_count": 1,
   "metadata": {},
   "outputs": [],
   "source": [
    "dynamic_profile = spark.read.csv('dynamic_profile.csv', header=True)"
   ]
  },
  {
   "cell_type": "code",
   "execution_count": 2,
   "metadata": {},
   "outputs": [
    {
     "name": "stdout",
     "output_type": "stream",
     "text": [
      "+-------+-----+-------------------+--------------------+----------+-----------+\n",
      "|    _c0|user1|           datetime|transaction_category|start_date|profile_num|\n",
      "+-------+-----+-------------------+--------------------+----------+-----------+\n",
      "|3537545|   10|2013-03-03 04:47:10|                Food|2012-11-25|          4|\n",
      "|3537542|   10|2012-11-25 01:20:39|              People|2012-11-25|          0|\n",
      "|3537544|   10|2015-01-21 15:29:21|              Others|2012-11-25|         13|\n",
      "|3537541|   10|2016-01-30 06:42:13|              Others|2012-11-25|         13|\n",
      "|3537546|   10|2015-01-29 21:59:59|                Food|2012-11-25|         13|\n",
      "+-------+-----+-------------------+--------------------+----------+-----------+\n",
      "only showing top 5 rows\n",
      "\n"
     ]
    }
   ],
   "source": [
    "dynamic_profile.orderBy('user1').show(5)"
   ]
  },
  {
   "cell_type": "code",
   "execution_count": 3,
   "metadata": {},
   "outputs": [],
   "source": [
    "dynamic_profile_clean = dynamic_profile.where( \"profile_num <= 12\")"
   ]
  },
  {
   "cell_type": "code",
   "execution_count": 4,
   "metadata": {},
   "outputs": [
    {
     "name": "stdout",
     "output_type": "stream",
     "text": [
      "root\n",
      " |-- _c0: string (nullable = true)\n",
      " |-- user1: string (nullable = true)\n",
      " |-- datetime: string (nullable = true)\n",
      " |-- transaction_category: string (nullable = true)\n",
      " |-- start_date: string (nullable = true)\n",
      " |-- profile_num: string (nullable = true)\n",
      "\n"
     ]
    }
   ],
   "source": [
    "dynamic_profile_clean.printSchema()"
   ]
  },
  {
   "cell_type": "code",
   "execution_count": 5,
   "metadata": {
    "scrolled": true
   },
   "outputs": [
    {
     "name": "stdout",
     "output_type": "stream",
     "text": [
      "+-------+-----+-------------------+--------------------+----------+-----------+\n",
      "|    _c0|user1|           datetime|transaction_category|start_date|profile_num|\n",
      "+-------+-----+-------------------+--------------------+----------+-----------+\n",
      "|3537545|   10|2013-03-03 04:47:10|                Food|2012-11-25|          4|\n",
      "|3537547|   10|2012-12-31 04:44:12|              Others|2012-11-25|          2|\n",
      "|3537543|   10|2012-12-23 03:08:45|                Food|2012-11-25|          1|\n",
      "|3537548|   10|2013-03-10 21:38:51|              People|2012-11-25|          4|\n",
      "|3537542|   10|2012-11-25 01:20:39|              People|2012-11-25|          0|\n",
      "+-------+-----+-------------------+--------------------+----------+-----------+\n",
      "only showing top 5 rows\n",
      "\n"
     ]
    }
   ],
   "source": [
    "dynamic_profile_clean.orderBy('user1').show(5)"
   ]
  },
  {
   "cell_type": "markdown",
   "metadata": {},
   "source": [
    "#### Create a column hold the list of profile_num for each user and list of corresponding categories"
   ]
  },
  {
   "cell_type": "code",
   "execution_count": 16,
   "metadata": {},
   "outputs": [
    {
     "name": "stdout",
     "output_type": "stream",
     "text": [
      "time: 11 ms\n"
     ]
    }
   ],
   "source": [
    "profile_category_count = dynamic_profile_clean.withColumn(\"user1\", dynamic_profile_clean[\"user1\"].cast(T.IntegerType()))\n",
    "profile_category_count = dynamic_profile_clean.withColumn(\"profile_num\", dynamic_profile_clean[\"profile_num\"].cast(T.IntegerType()))"
   ]
  },
  {
   "cell_type": "code",
   "execution_count": 17,
   "metadata": {},
   "outputs": [
    {
     "name": "stdout",
     "output_type": "stream",
     "text": [
      "time: 24 ms\n"
     ]
    }
   ],
   "source": [
    "# Generate cumulative sum category list for each interval for each user\n",
    "windowval = (Window.partitionBy('user1').orderBy('profile_num')\n",
    "             .rangeBetween(Window.unboundedPreceding, 0))\n",
    "profile_category_count = profile_category_count.withColumn('category_list', F.collect_list('transaction_category').over(windowval))"
   ]
  },
  {
   "cell_type": "code",
   "execution_count": 18,
   "metadata": {},
   "outputs": [
    {
     "name": "stdout",
     "output_type": "stream",
     "text": [
      "time: 12 ms\n"
     ]
    }
   ],
   "source": [
    "profile_category_count = profile_category_count.select('user1', 'profile_num', 'category_list')\n",
    "profile_category_count = profile_category_count.dropDuplicates()"
   ]
  },
  {
   "cell_type": "code",
   "execution_count": 19,
   "metadata": {
    "scrolled": true
   },
   "outputs": [
    {
     "name": "stdout",
     "output_type": "stream",
     "text": [
      "+--------+-----------+----------------------------------------------------------------+\n",
      "|user1   |profile_num|category_list                                                   |\n",
      "+--------+-----------+----------------------------------------------------------------+\n",
      "|1000240 |0          |[Food]                                                          |\n",
      "|1000280 |0          |[Food]                                                          |\n",
      "|1000280 |7          |[Food, Travel]                                                  |\n",
      "|1000839 |0          |[People]                                                        |\n",
      "|1000839 |7          |[People, Others]                                                |\n",
      "|1000839 |8          |[People, Others, Others, People, Others]                        |\n",
      "|1000839 |9          |[People, Others, Others, People, Others, Others]                |\n",
      "|1000839 |10         |[People, Others, Others, People, Others, Others, Others, Others]|\n",
      "|10008810|0          |[Food]                                                          |\n",
      "|10017665|0          |[Utility]                                                       |\n",
      "+--------+-----------+----------------------------------------------------------------+\n",
      "only showing top 10 rows\n",
      "\n",
      "time: 7.59 s\n"
     ]
    }
   ],
   "source": [
    "profile_category_count.show(10, truncate = False)"
   ]
  },
  {
   "cell_type": "code",
   "execution_count": 20,
   "metadata": {},
   "outputs": [
    {
     "name": "stdout",
     "output_type": "stream",
     "text": [
      "time: 57.9 s\n"
     ]
    }
   ],
   "source": [
    "#result_pdf = profile_category_count.select(\"*\").toPandas()"
   ]
  },
  {
   "cell_type": "code",
   "execution_count": 21,
   "metadata": {},
   "outputs": [
    {
     "name": "stdout",
     "output_type": "stream",
     "text": [
      "time: 13.8 s\n"
     ]
    }
   ],
   "source": [
    "#result_pdf.to_csv('profile_category_count.csv')"
   ]
  },
  {
   "cell_type": "code",
   "execution_count": 15,
   "metadata": {},
   "outputs": [
    {
     "name": "stdout",
     "output_type": "stream",
     "text": [
      "time: 67 ms\n"
     ]
    }
   ],
   "source": [
    "user_spending_profile = profile_category_count.groupBy('user1')\\\n",
    "    .agg(F.collect_list(F.struct(F.col('profile_num'), F.col('category_list'))).alias(\"interval_category_list\"))\\\n",
    "    .orderBy(\"user1\")"
   ]
  },
  {
   "cell_type": "code",
   "execution_count": 14,
   "metadata": {
    "scrolled": true
   },
   "outputs": [
    {
     "name": "stdout",
     "output_type": "stream",
     "text": [
      "+--------+---------------------------------------------------------------------------------------------------------------------------------------------------------------------------------------------+\n",
      "|user1   |interval_category_list                                                                                                                                                                       |\n",
      "+--------+---------------------------------------------------------------------------------------------------------------------------------------------------------------------------------------------+\n",
      "|10      |[[0, [People]], [1, [People, Food]], [2, [People, Food, Others, Activity]], [4, [People, Food, Others, Activity, Food, People]], [5, [People, Food, Others, Activity, Food, People, Others]]]|\n",
      "|10000054|[[0, [Others]], [4, [Others, Illegal/Sarcasm]]]                                                                                                                                              |\n",
      "|1000006 |[[0, [Others]]]                                                                                                                                                                              |\n",
      "|1000007 |[[0, [People]], [12, [People, Others]]]                                                                                                                                                      |\n",
      "|1000009 |[[0, [Others]], [3, [Others, Others]], [7, [Others, Others, Others]], [10, [Others, Others, Others, Others]], [12, [Others, Others, Others, Others, Others]]]                                |\n",
      "|1000011 |[[0, [Food]]]                                                                                                                                                                                |\n",
      "|10000123|[[0, [Activity]], [3, [Activity, Others]]]                                                                                                                                                   |\n",
      "|10000128|[[0, [Others]], [3, [Others, Others]], [4, [Others, Others, Utility, Others]]]                                                                                                               |\n",
      "|1000013 |[[0, [Others]], [4, [Others, Food]], [12, [Others, Food, Utility, Food]]]                                                                                                                    |\n",
      "|1000016 |[[0, [Others]], [5, [Others, People]]]                                                                                                                                                       |\n",
      "+--------+---------------------------------------------------------------------------------------------------------------------------------------------------------------------------------------------+\n",
      "only showing top 10 rows\n",
      "\n",
      "time: 26.5 s\n"
     ]
    }
   ],
   "source": [
    "user_spending_profile.show(10, truncate = False)"
   ]
  },
  {
   "cell_type": "code",
   "execution_count": 15,
   "metadata": {},
   "outputs": [
    {
     "name": "stdout",
     "output_type": "stream",
     "text": [
      "time: 1.08 ms\n"
     ]
    }
   ],
   "source": [
    "def calculate_percentage(lst):\n",
    "    '''\n",
    "    Return a dictionary of category-percentage pair for each element in lst\n",
    "    '''\n",
    "    count = Counter(lst).items()\n",
    "\n",
    "    percentages = {x: round((float(y) / len(lst)),2) for x, y in count}\n",
    "    \n",
    "    return percentages"
   ]
  },
  {
   "cell_type": "code",
   "execution_count": 16,
   "metadata": {},
   "outputs": [
    {
     "name": "stdout",
     "output_type": "stream",
     "text": [
      "time: 375 ms\n"
     ]
    }
   ],
   "source": [
    "import numpy as np\n",
    "from collections import Counter\n",
    "import pandas as pd\n",
    "\n",
    "def full_profile(interval_category_list):\n",
    "    '''\n",
    "    Return fill profile with 13 elements representing 12 intervals in a list\n",
    "    '''\n",
    "    profile_num_lst = [x[0] for x in interval_category_list]\n",
    "    cumsum_lst = [x[1] for x in interval_category_list]\n",
    "    no_transaction_interval = [num for num in range(13) if num not in profile_num_lst]\n",
    "    \n",
    "    category_percent_lst = [calculate_percentage(x) for x in cumsum_lst]\n",
    "\n",
    "    category_percent_dict = {profile_num_lst[i]: category_percent_lst[i] for i in range(len(interval_category_list))}\n",
    "    \n",
    "    no_transaction_interval_dict = {num: category_percent_dict[max(i for i in profile_num_lst if i < num)] for num in no_transaction_interval }\n",
    "    \n",
    "    full_dict = Merge_dict(category_percent_dict, no_transaction_interval_dict)\n",
    "    \n",
    "    full_dict = dict(sorted(full_dict.items()))\n",
    "    \n",
    "    interval_category_percent_lst = [ [key, value] for key, value in full_dict.items()]\n",
    "    \n",
    "    return interval_category_percent_lst"
   ]
  },
  {
   "cell_type": "code",
   "execution_count": 17,
   "metadata": {},
   "outputs": [
    {
     "name": "stdout",
     "output_type": "stream",
     "text": [
      "time: 25.9 ms\n"
     ]
    }
   ],
   "source": [
    "get_full_profile = F.udf(lambda interval_category_list: full_profile(interval_category_list))\n",
    "full_spending_profile = user_spending_profile.withColumn('full_profile_list', get_full_profile(F.col('interval_category_list')))"
   ]
  },
  {
   "cell_type": "code",
   "execution_count": 18,
   "metadata": {
    "scrolled": true
   },
   "outputs": [
    {
     "name": "stdout",
     "output_type": "stream",
     "text": [
      "+--------+----------------------------------------------------------------------------------------------------------------------------------------------------------------------------------------------------------------------------------------------------------------------------------------------------------------------------------------------------------------------------------------------------------------------------------------------------------------------------------------------------------------------------------------------------------------------------------------------------------------------------------------------------------------------------------------------------------------------------+\n",
      "|user1   |full_profile_list                                                                                                                                                                                                                                                                                                                                                                                                                                                                                                                                                                                                                                                                                                           |\n",
      "+--------+----------------------------------------------------------------------------------------------------------------------------------------------------------------------------------------------------------------------------------------------------------------------------------------------------------------------------------------------------------------------------------------------------------------------------------------------------------------------------------------------------------------------------------------------------------------------------------------------------------------------------------------------------------------------------------------------------------------------------+\n",
      "|10      |[[0, {People=1.0}], [1, {People=0.5, Food=0.5}], [2, {People=0.25, Others=0.25, Activity=0.25, Food=0.25}], [3, {People=0.25, Others=0.25, Activity=0.25, Food=0.25}], [4, {People=0.33, Others=0.17, Activity=0.17, Food=0.33}], [5, {People=0.29, Others=0.29, Activity=0.14, Food=0.29}], [6, {People=0.29, Others=0.29, Activity=0.14, Food=0.29}], [7, {People=0.29, Others=0.29, Activity=0.14, Food=0.29}], [8, {People=0.29, Others=0.29, Activity=0.14, Food=0.29}], [9, {People=0.29, Others=0.29, Activity=0.14, Food=0.29}], [10, {People=0.29, Others=0.29, Activity=0.14, Food=0.29}], [11, {People=0.29, Others=0.29, Activity=0.14, Food=0.29}], [12, {People=0.29, Others=0.29, Activity=0.14, Food=0.29}]]|\n",
      "|10000054|[[0, {Others=1.0}], [1, {Others=1.0}], [2, {Others=1.0}], [3, {Others=1.0}], [4, {Others=0.5, Illegal/Sarcasm=0.5}], [5, {Others=0.5, Illegal/Sarcasm=0.5}], [6, {Others=0.5, Illegal/Sarcasm=0.5}], [7, {Others=0.5, Illegal/Sarcasm=0.5}], [8, {Others=0.5, Illegal/Sarcasm=0.5}], [9, {Others=0.5, Illegal/Sarcasm=0.5}], [10, {Others=0.5, Illegal/Sarcasm=0.5}], [11, {Others=0.5, Illegal/Sarcasm=0.5}], [12, {Others=0.5, Illegal/Sarcasm=0.5}]]                                                                                                                                                                                                                                                                     |\n",
      "|1000006 |[[0, {Others=1.0}], [1, {Others=1.0}], [2, {Others=1.0}], [3, {Others=1.0}], [4, {Others=1.0}], [5, {Others=1.0}], [6, {Others=1.0}], [7, {Others=1.0}], [8, {Others=1.0}], [9, {Others=1.0}], [10, {Others=1.0}], [11, {Others=1.0}], [12, {Others=1.0}]]                                                                                                                                                                                                                                                                                                                                                                                                                                                                  |\n",
      "|1000007 |[[0, {People=1.0}], [1, {People=1.0}], [2, {People=1.0}], [3, {People=1.0}], [4, {People=1.0}], [5, {People=1.0}], [6, {People=1.0}], [7, {People=1.0}], [8, {People=1.0}], [9, {People=1.0}], [10, {People=1.0}], [11, {People=1.0}], [12, {People=0.5, Others=0.5}]]                                                                                                                                                                                                                                                                                                                                                                                                                                                      |\n",
      "|1000009 |[[0, {Others=1.0}], [1, {Others=1.0}], [2, {Others=1.0}], [3, {Others=1.0}], [4, {Others=1.0}], [5, {Others=1.0}], [6, {Others=1.0}], [7, {Others=1.0}], [8, {Others=1.0}], [9, {Others=1.0}], [10, {Others=1.0}], [11, {Others=1.0}], [12, {Others=1.0}]]                                                                                                                                                                                                                                                                                                                                                                                                                                                                  |\n",
      "+--------+----------------------------------------------------------------------------------------------------------------------------------------------------------------------------------------------------------------------------------------------------------------------------------------------------------------------------------------------------------------------------------------------------------------------------------------------------------------------------------------------------------------------------------------------------------------------------------------------------------------------------------------------------------------------------------------------------------------------------+\n",
      "only showing top 5 rows\n",
      "\n",
      "time: 1min 8s\n"
     ]
    }
   ],
   "source": [
    "full_spending_profile.select('user1','full_profile_list').show(5, truncate = False)"
   ]
  },
  {
   "cell_type": "markdown",
   "metadata": {},
   "source": [
    "#### Compute the average and standard deviation of each spending category for each profile interval across all users."
   ]
  },
  {
   "cell_type": "code",
   "execution_count": 22,
   "metadata": {},
   "outputs": [
    {
     "name": "stdout",
     "output_type": "stream",
     "text": [
      "time: 440 ms\n"
     ]
    }
   ],
   "source": [
    "#profile_category_count = spark.read.csv('profile_category_count.csv', header=True)"
   ]
  },
  {
   "cell_type": "code",
   "execution_count": 23,
   "metadata": {},
   "outputs": [
    {
     "name": "stdout",
     "output_type": "stream",
     "text": [
      "root\n",
      " |-- _c0: string (nullable = true)\n",
      " |-- user1: string (nullable = true)\n",
      " |-- profile_num: string (nullable = true)\n",
      " |-- category_list: string (nullable = true)\n",
      "\n",
      "time: 2.91 ms\n"
     ]
    }
   ],
   "source": [
    "profile_category_count.printSchema()"
   ]
  },
  {
   "cell_type": "code",
   "execution_count": 24,
   "metadata": {},
   "outputs": [
    {
     "name": "stdout",
     "output_type": "stream",
     "text": [
      "time: 37 ms\n"
     ]
    }
   ],
   "source": [
    "# Transform column 'category_percent_list' from string to array with string elements.\n",
    "profile_category_count= profile_category_count.withColumn(\"category_list\", F.split(F.regexp_replace(F.col(\"category_list\"), r\"(^\\[)|(\\]$)|(')\", \"\"), \", \"))"
   ]
  },
  {
   "cell_type": "code",
   "execution_count": 25,
   "metadata": {
    "scrolled": false
   },
   "outputs": [
    {
     "name": "stdout",
     "output_type": "stream",
     "text": [
      "time: 1e+03 µs\n"
     ]
    }
   ],
   "source": [
    "emoji_categories = ['Event','Travel','Food','Activity','Transportation','People','Utility']\n",
    "word_categories = [ 'People','Food','Event','Activity','Travel','Transportation','Utility','Cash','Illegal/Sarcasm']\n",
    "\n",
    "all_categories = list(set(emoji_categories + word_categories))\n",
    "all_categories.append('Others')"
   ]
  },
  {
   "cell_type": "code",
   "execution_count": 26,
   "metadata": {
    "scrolled": true
   },
   "outputs": [
    {
     "name": "stdout",
     "output_type": "stream",
     "text": [
      "time: 998 µs\n"
     ]
    }
   ],
   "source": [
    "def calculate_percent_lst(category_list):\n",
    "    '''\n",
    "    Return each term percentage in the input list\n",
    "    '''\n",
    "    count = Counter(category_list).items()\n",
    "\n",
    "    percentages = [[x, round((float(y) / len(category_list)),2)] for x, y in count]\n",
    "    \n",
    "    if len(percentages) < len(all_categories):\n",
    "        zeor_category_lst = [[cat, 0] for cat in all_categories if cat not in category_list]\n",
    "        percentages = percentages + zeor_category_lst\n",
    "    \n",
    "    percentages = sorted(percentages)\n",
    "    \n",
    "    return percentages  "
   ]
  },
  {
   "cell_type": "code",
   "execution_count": 27,
   "metadata": {},
   "outputs": [
    {
     "name": "stdout",
     "output_type": "stream",
     "text": [
      "time: 24 ms\n"
     ]
    }
   ],
   "source": [
    "get_cats = F.udf(lambda category_list: calculate_percent_lst(category_list))\n",
    "profile_category_count = profile_category_count.withColumn('category_percent_list', get_cats(F.col('category_list')))"
   ]
  },
  {
   "cell_type": "code",
   "execution_count": 28,
   "metadata": {
    "scrolled": false
   },
   "outputs": [
    {
     "name": "stdout",
     "output_type": "stream",
     "text": [
      "root\n",
      " |-- _c0: string (nullable = true)\n",
      " |-- user1: string (nullable = true)\n",
      " |-- profile_num: string (nullable = true)\n",
      " |-- category_list: array (nullable = true)\n",
      " |    |-- element: string (containsNull = true)\n",
      " |-- category_percent_list: string (nullable = true)\n",
      "\n",
      "time: 1.96 ms\n"
     ]
    }
   ],
   "source": [
    "profile_category_count.printSchema()"
   ]
  },
  {
   "cell_type": "code",
   "execution_count": 29,
   "metadata": {
    "scrolled": true
   },
   "outputs": [
    {
     "name": "stdout",
     "output_type": "stream",
     "text": [
      "+---+--------+-----------+----------------------------------------------------------------------------------------------+----------------------------------------------------------------------------------------------------------------------------------------------------------------+\n",
      "|_c0|user1   |profile_num|category_list                                                                                 |category_percent_list                                                                                                                                           |\n",
      "+---+--------+-----------+----------------------------------------------------------------------------------------------+----------------------------------------------------------------------------------------------------------------------------------------------------------------+\n",
      "|0  |1000240 |0          |[Food]                                                                                        |[[Activity, 0], [Cash, 0], [Event, 0], [Food, 1.0], [Illegal/Sarcasm, 0], [Others, 0], [People, 0], [Transportation, 0], [Travel, 0], [Utility, 0]]             |\n",
      "|1  |1000280 |0          |[Food]                                                                                        |[[Activity, 0], [Cash, 0], [Event, 0], [Food, 1.0], [Illegal/Sarcasm, 0], [Others, 0], [People, 0], [Transportation, 0], [Travel, 0], [Utility, 0]]             |\n",
      "|2  |1000280 |7          |[Food, Travel]                                                                                |[[Activity, 0], [Cash, 0], [Event, 0], [Food, 0.5], [Illegal/Sarcasm, 0], [Others, 0], [People, 0], [Transportation, 0], [Travel, 0.5], [Utility, 0]]           |\n",
      "|3  |1000839 |0          |[People]                                                                                      |[[Activity, 0], [Cash, 0], [Event, 0], [Food, 0], [Illegal/Sarcasm, 0], [Others, 0], [People, 1.0], [Transportation, 0], [Travel, 0], [Utility, 0]]             |\n",
      "|4  |1000839 |7          |[People, Others]                                                                              |[[Activity, 0], [Cash, 0], [Event, 0], [Food, 0], [Illegal/Sarcasm, 0], [Others, 0.5], [People, 0.5], [Transportation, 0], [Travel, 0], [Utility, 0]]           |\n",
      "|5  |1000839 |8          |[People, Others, Others, People, Others]                                                      |[[Activity, 0], [Cash, 0], [Event, 0], [Food, 0], [Illegal/Sarcasm, 0], [Others, 0.6], [People, 0.4], [Transportation, 0], [Travel, 0], [Utility, 0]]           |\n",
      "|6  |1000839 |9          |[People, Others, Others, People, Others, Others]                                              |[[Activity, 0], [Cash, 0], [Event, 0], [Food, 0], [Illegal/Sarcasm, 0], [Others, 0.67], [People, 0.33], [Transportation, 0], [Travel, 0], [Utility, 0]]         |\n",
      "|7  |1000839 |10         |[People, Others, Others, People, Others, Others, Others, Others]                              |[[Activity, 0], [Cash, 0], [Event, 0], [Food, 0], [Illegal/Sarcasm, 0], [Others, 0.75], [People, 0.25], [Transportation, 0], [Travel, 0], [Utility, 0]]         |\n",
      "|8  |10008810|0          |[Food]                                                                                        |[[Activity, 0], [Cash, 0], [Event, 0], [Food, 1.0], [Illegal/Sarcasm, 0], [Others, 0], [People, 0], [Transportation, 0], [Travel, 0], [Utility, 0]]             |\n",
      "|9  |10017665|0          |[Utility]                                                                                     |[[Activity, 0], [Cash, 0], [Event, 0], [Food, 0], [Illegal/Sarcasm, 0], [Others, 0], [People, 0], [Transportation, 0], [Travel, 0], [Utility, 1.0]]             |\n",
      "|10 |10017665|3          |[Utility, Activity]                                                                           |[[Activity, 0.5], [Cash, 0], [Event, 0], [Food, 0], [Illegal/Sarcasm, 0], [Others, 0], [People, 0], [Transportation, 0], [Travel, 0], [Utility, 0.5]]           |\n",
      "|11 |10020776|0          |[Others]                                                                                      |[[Activity, 0], [Cash, 0], [Event, 0], [Food, 0], [Illegal/Sarcasm, 0], [Others, 1.0], [People, 0], [Transportation, 0], [Travel, 0], [Utility, 0]]             |\n",
      "|12 |10023519|0          |[Event]                                                                                       |[[Activity, 0], [Cash, 0], [Event, 1.0], [Food, 0], [Illegal/Sarcasm, 0], [Others, 0], [People, 0], [Transportation, 0], [Travel, 0], [Utility, 0]]             |\n",
      "|13 |10023519|5          |[Event, Others]                                                                               |[[Activity, 0], [Cash, 0], [Event, 0.5], [Food, 0], [Illegal/Sarcasm, 0], [Others, 0.5], [People, 0], [Transportation, 0], [Travel, 0], [Utility, 0]]           |\n",
      "|14 |10024817|0          |[Food]                                                                                        |[[Activity, 0], [Cash, 0], [Event, 0], [Food, 1.0], [Illegal/Sarcasm, 0], [Others, 0], [People, 0], [Transportation, 0], [Travel, 0], [Utility, 0]]             |\n",
      "|15 |10028788|0          |[Food]                                                                                        |[[Activity, 0], [Cash, 0], [Event, 0], [Food, 1.0], [Illegal/Sarcasm, 0], [Others, 0], [People, 0], [Transportation, 0], [Travel, 0], [Utility, 0]]             |\n",
      "|16 |10029175|0          |[Food]                                                                                        |[[Activity, 0], [Cash, 0], [Event, 0], [Food, 1.0], [Illegal/Sarcasm, 0], [Others, 0], [People, 0], [Transportation, 0], [Travel, 0], [Utility, 0]]             |\n",
      "|17 |10029175|2          |[Food, Others, Others]                                                                        |[[Activity, 0], [Cash, 0], [Event, 0], [Food, 0.33], [Illegal/Sarcasm, 0], [Others, 0.67], [People, 0], [Transportation, 0], [Travel, 0], [Utility, 0]]         |\n",
      "|18 |10035618|0          |[People]                                                                                      |[[Activity, 0], [Cash, 0], [Event, 0], [Food, 0], [Illegal/Sarcasm, 0], [Others, 0], [People, 1.0], [Transportation, 0], [Travel, 0], [Utility, 0]]             |\n",
      "|19 |1003644 |0          |[Others]                                                                                      |[[Activity, 0], [Cash, 0], [Event, 0], [Food, 0], [Illegal/Sarcasm, 0], [Others, 1.0], [People, 0], [Transportation, 0], [Travel, 0], [Utility, 0]]             |\n",
      "|20 |1003644 |1          |[Others, Activity]                                                                            |[[Activity, 0.5], [Cash, 0], [Event, 0], [Food, 0], [Illegal/Sarcasm, 0], [Others, 0.5], [People, 0], [Transportation, 0], [Travel, 0], [Utility, 0]]           |\n",
      "|21 |1003644 |7          |[Others, Activity, Food]                                                                      |[[Activity, 0.33], [Cash, 0], [Event, 0], [Food, 0.33], [Illegal/Sarcasm, 0], [Others, 0.33], [People, 0], [Transportation, 0], [Travel, 0], [Utility, 0]]      |\n",
      "|22 |1003644 |12         |[Others, Activity, Food, Activity]                                                            |[[Activity, 0.5], [Cash, 0], [Event, 0], [Food, 0.25], [Illegal/Sarcasm, 0], [Others, 0.25], [People, 0], [Transportation, 0], [Travel, 0], [Utility, 0]]       |\n",
      "|23 |10039797|0          |[Food]                                                                                        |[[Activity, 0], [Cash, 0], [Event, 0], [Food, 1.0], [Illegal/Sarcasm, 0], [Others, 0], [People, 0], [Transportation, 0], [Travel, 0], [Utility, 0]]             |\n",
      "|24 |1004042 |0          |[Food]                                                                                        |[[Activity, 0], [Cash, 0], [Event, 0], [Food, 1.0], [Illegal/Sarcasm, 0], [Others, 0], [People, 0], [Transportation, 0], [Travel, 0], [Utility, 0]]             |\n",
      "|25 |1004042 |2          |[Food, Others]                                                                                |[[Activity, 0], [Cash, 0], [Event, 0], [Food, 0.5], [Illegal/Sarcasm, 0], [Others, 0.5], [People, 0], [Transportation, 0], [Travel, 0], [Utility, 0]]           |\n",
      "|26 |1004042 |12         |[Food, Others, Others]                                                                        |[[Activity, 0], [Cash, 0], [Event, 0], [Food, 0.33], [Illegal/Sarcasm, 0], [Others, 0.67], [People, 0], [Transportation, 0], [Travel, 0], [Utility, 0]]         |\n",
      "|27 |1004266 |0          |[Others]                                                                                      |[[Activity, 0], [Cash, 0], [Event, 0], [Food, 0], [Illegal/Sarcasm, 0], [Others, 1.0], [People, 0], [Transportation, 0], [Travel, 0], [Utility, 0]]             |\n",
      "|28 |1004796 |0          |[Transportation]                                                                              |[[Activity, 0], [Cash, 0], [Event, 0], [Food, 0], [Illegal/Sarcasm, 0], [Others, 0], [People, 0], [Transportation, 1.0], [Travel, 0], [Utility, 0]]             |\n",
      "|29 |1004796 |1          |[Transportation, People]                                                                      |[[Activity, 0], [Cash, 0], [Event, 0], [Food, 0], [Illegal/Sarcasm, 0], [Others, 0], [People, 0.5], [Transportation, 0.5], [Travel, 0], [Utility, 0]]           |\n",
      "|30 |1004796 |2          |[Transportation, People, Others]                                                              |[[Activity, 0], [Cash, 0], [Event, 0], [Food, 0], [Illegal/Sarcasm, 0], [Others, 0.33], [People, 0.33], [Transportation, 0.33], [Travel, 0], [Utility, 0]]      |\n",
      "|31 |1004796 |6          |[Transportation, People, Others, Others]                                                      |[[Activity, 0], [Cash, 0], [Event, 0], [Food, 0], [Illegal/Sarcasm, 0], [Others, 0.5], [People, 0.25], [Transportation, 0.25], [Travel, 0], [Utility, 0]]       |\n",
      "|32 |10050363|0          |[Event]                                                                                       |[[Activity, 0], [Cash, 0], [Event, 1.0], [Food, 0], [Illegal/Sarcasm, 0], [Others, 0], [People, 0], [Transportation, 0], [Travel, 0], [Utility, 0]]             |\n",
      "|33 |1005171 |0          |[Illegal/Sarcasm]                                                                             |[[Activity, 0], [Cash, 0], [Event, 0], [Food, 0], [Illegal/Sarcasm, 1.0], [Others, 0], [People, 0], [Transportation, 0], [Travel, 0], [Utility, 0]]             |\n",
      "|34 |1005171 |2          |[Illegal/Sarcasm, Others]                                                                     |[[Activity, 0], [Cash, 0], [Event, 0], [Food, 0], [Illegal/Sarcasm, 0.5], [Others, 0.5], [People, 0], [Transportation, 0], [Travel, 0], [Utility, 0]]           |\n",
      "|35 |1005171 |3          |[Illegal/Sarcasm, Others, Utility, People]                                                    |[[Activity, 0], [Cash, 0], [Event, 0], [Food, 0], [Illegal/Sarcasm, 0.25], [Others, 0.25], [People, 0.25], [Transportation, 0], [Travel, 0], [Utility, 0.25]]   |\n",
      "|36 |1005171 |4          |[Illegal/Sarcasm, Others, Utility, People, Others]                                            |[[Activity, 0], [Cash, 0], [Event, 0], [Food, 0], [Illegal/Sarcasm, 0.2], [Others, 0.4], [People, 0.2], [Transportation, 0], [Travel, 0], [Utility, 0.2]]       |\n",
      "|37 |1005171 |6          |[Illegal/Sarcasm, Others, Utility, People, Others, Others]                                    |[[Activity, 0], [Cash, 0], [Event, 0], [Food, 0], [Illegal/Sarcasm, 0.17], [Others, 0.5], [People, 0.17], [Transportation, 0], [Travel, 0], [Utility, 0.17]]    |\n",
      "|38 |1005171 |7          |[Illegal/Sarcasm, Others, Utility, People, Others, Others, Food]                              |[[Activity, 0], [Cash, 0], [Event, 0], [Food, 0.14], [Illegal/Sarcasm, 0.14], [Others, 0.43], [People, 0.14], [Transportation, 0], [Travel, 0], [Utility, 0.14]]|\n",
      "|39 |1005171 |9          |[Illegal/Sarcasm, Others, Utility, People, Others, Others, Food, Others]                      |[[Activity, 0], [Cash, 0], [Event, 0], [Food, 0.12], [Illegal/Sarcasm, 0.12], [Others, 0.5], [People, 0.12], [Transportation, 0], [Travel, 0], [Utility, 0.12]] |\n",
      "|40 |1005171 |11         |[Illegal/Sarcasm, Others, Utility, People, Others, Others, Food, Others, People]              |[[Activity, 0], [Cash, 0], [Event, 0], [Food, 0.11], [Illegal/Sarcasm, 0.11], [Others, 0.44], [People, 0.22], [Transportation, 0], [Travel, 0], [Utility, 0.11]]|\n",
      "|41 |1005171 |12         |[Illegal/Sarcasm, Others, Utility, People, Others, Others, Food, Others, People, Others, Food]|[[Activity, 0], [Cash, 0], [Event, 0], [Food, 0.18], [Illegal/Sarcasm, 0.09], [Others, 0.45], [People, 0.18], [Transportation, 0], [Travel, 0], [Utility, 0.09]]|\n",
      "|42 |1005754 |0          |[Others]                                                                                      |[[Activity, 0], [Cash, 0], [Event, 0], [Food, 0], [Illegal/Sarcasm, 0], [Others, 1.0], [People, 0], [Transportation, 0], [Travel, 0], [Utility, 0]]             |\n",
      "|43 |10058197|0          |[Others]                                                                                      |[[Activity, 0], [Cash, 0], [Event, 0], [Food, 0], [Illegal/Sarcasm, 0], [Others, 1.0], [People, 0], [Transportation, 0], [Travel, 0], [Utility, 0]]             |\n",
      "|44 |10062439|0          |[Food]                                                                                        |[[Activity, 0], [Cash, 0], [Event, 0], [Food, 1.0], [Illegal/Sarcasm, 0], [Others, 0], [People, 0], [Transportation, 0], [Travel, 0], [Utility, 0]]             |\n",
      "|45 |10062514|0          |[Food]                                                                                        |[[Activity, 0], [Cash, 0], [Event, 0], [Food, 1.0], [Illegal/Sarcasm, 0], [Others, 0], [People, 0], [Transportation, 0], [Travel, 0], [Utility, 0]]             |\n",
      "|46 |10062979|0          |[Travel]                                                                                      |[[Activity, 0], [Cash, 0], [Event, 0], [Food, 0], [Illegal/Sarcasm, 0], [Others, 0], [People, 0], [Transportation, 0], [Travel, 1.0], [Utility, 0]]             |\n",
      "|47 |10063830|0          |[Event]                                                                                       |[[Activity, 0], [Cash, 0], [Event, 1.0], [Food, 0], [Illegal/Sarcasm, 0], [Others, 0], [People, 0], [Transportation, 0], [Travel, 0], [Utility, 0]]             |\n",
      "|48 |1006588 |0          |[Event]                                                                                       |[[Activity, 0], [Cash, 0], [Event, 1.0], [Food, 0], [Illegal/Sarcasm, 0], [Others, 0], [People, 0], [Transportation, 0], [Travel, 0], [Utility, 0]]             |\n",
      "|49 |1006620 |0          |[Activity]                                                                                    |[[Activity, 1.0], [Cash, 0], [Event, 0], [Food, 0], [Illegal/Sarcasm, 0], [Others, 0], [People, 0], [Transportation, 0], [Travel, 0], [Utility, 0]]             |\n",
      "+---+--------+-----------+----------------------------------------------------------------------------------------------+----------------------------------------------------------------------------------------------------------------------------------------------------------------+\n",
      "only showing top 50 rows\n",
      "\n",
      "time: 1.11 s\n"
     ]
    }
   ],
   "source": [
    "profile_category_count.show(50, truncate = False)"
   ]
  },
  {
   "cell_type": "code",
   "execution_count": 30,
   "metadata": {
    "scrolled": true
   },
   "outputs": [
    {
     "name": "stdout",
     "output_type": "stream",
     "text": [
      "root\n",
      " |-- _c0: string (nullable = true)\n",
      " |-- user1: string (nullable = true)\n",
      " |-- profile_num: string (nullable = true)\n",
      " |-- category_list: array (nullable = true)\n",
      " |    |-- element: string (containsNull = true)\n",
      " |-- category_percent_list: string (nullable = true)\n",
      "\n",
      "time: 1e+03 µs\n"
     ]
    }
   ],
   "source": [
    "profile_category_count.printSchema()"
   ]
  },
  {
   "cell_type": "code",
   "execution_count": 31,
   "metadata": {
    "scrolled": true
   },
   "outputs": [
    {
     "name": "stdout",
     "output_type": "stream",
     "text": [
      "time: 62 ms\n"
     ]
    }
   ],
   "source": [
    "# Transform column 'category_percent_list' from string to array with string elements.\n",
    "profile_category_count= profile_category_count.withColumn(\"category_percent_list\", F.split(F.regexp_replace(F.col(\"category_percent_list\"), r\"(^\\[)|(\\]$)|(')\", \"\"), \", \"))"
   ]
  },
  {
   "cell_type": "code",
   "execution_count": 32,
   "metadata": {},
   "outputs": [
    {
     "name": "stdout",
     "output_type": "stream",
     "text": [
      "time: 71 ms\n"
     ]
    }
   ],
   "source": [
    "with_percent = profile_category_count.select(\"user1\",'profile_num', \n",
    "                              profile_category_count.category_percent_list[1].alias('Activity'),\\\n",
    "                              profile_category_count.category_percent_list[3].alias('Cash'),\\\n",
    "                              profile_category_count.category_percent_list[5].alias('Event'),\\\n",
    "                              profile_category_count.category_percent_list[7].alias('Food'),\\\n",
    "                              profile_category_count.category_percent_list[9].alias('Illegal/Sarcasm'),\\\n",
    "                              profile_category_count.category_percent_list[11].alias('Others'), \\\n",
    "                              profile_category_count.category_percent_list[13].alias('People'),\\\n",
    "                              profile_category_count.category_percent_list[15].alias('Transportation'),\\\n",
    "                              profile_category_count.category_percent_list[17].alias('Travel'),\\\n",
    "                              profile_category_count.category_percent_list[19].alias('Utility'))"
   ]
  },
  {
   "cell_type": "code",
   "execution_count": 33,
   "metadata": {},
   "outputs": [
    {
     "name": "stdout",
     "output_type": "stream",
     "text": [
      "time: 240 ms\n"
     ]
    }
   ],
   "source": [
    "for cat in all_categories:\n",
    "    with_percent= with_percent.withColumn(cat, F.regexp_replace(F.col(cat), r\"]\", \"\"))\n",
    "    with_percent = with_percent.withColumn(cat, F.col(cat).cast(T.DoubleType()))\n",
    "    \n",
    "with_percent = with_percent.withColumn('profile_num', F.col('profile_num').cast(T.IntegerType()))\n",
    "with_percent = with_percent.withColumn('user1', F.col('user1').cast(T.IntegerType()))"
   ]
  },
  {
   "cell_type": "code",
   "execution_count": 34,
   "metadata": {},
   "outputs": [
    {
     "name": "stdout",
     "output_type": "stream",
     "text": [
      "root\n",
      " |-- user1: integer (nullable = true)\n",
      " |-- profile_num: integer (nullable = true)\n",
      " |-- Activity: double (nullable = true)\n",
      " |-- Cash: double (nullable = true)\n",
      " |-- Event: double (nullable = true)\n",
      " |-- Food: double (nullable = true)\n",
      " |-- Illegal/Sarcasm: double (nullable = true)\n",
      " |-- Others: double (nullable = true)\n",
      " |-- People: double (nullable = true)\n",
      " |-- Transportation: double (nullable = true)\n",
      " |-- Travel: double (nullable = true)\n",
      " |-- Utility: double (nullable = true)\n",
      "\n",
      "time: 1 ms\n"
     ]
    }
   ],
   "source": [
    "with_percent.printSchema()"
   ]
  },
  {
   "cell_type": "code",
   "execution_count": 35,
   "metadata": {},
   "outputs": [
    {
     "name": "stdout",
     "output_type": "stream",
     "text": [
      "time: 185 ms\n"
     ]
    }
   ],
   "source": [
    "# Break the with_percent to dataframes according to category\n",
    "with_percent_Activity = with_percent.filter('Activity != 0').select('user1','profile_num' ,'Activity')\n",
    "with_percent_Cash = with_percent.filter('Cash != 0').select('user1','profile_num' ,'Cash')\n",
    "with_percent_Event = with_percent.filter('Event != 0').select('user1','profile_num' ,'Event')\n",
    "with_percent_Food = with_percent.filter('Food != 0').select('user1','profile_num' ,'Food')\n",
    "with_percent_Illegal = with_percent.filter(F.col('Illegal/Sarcasm')!= 0).select('user1','profile_num' ,'Illegal/Sarcasm')\n",
    "with_percent_Others = with_percent.filter('Others != 0').select('user1','profile_num' ,'Others')\n",
    "with_percent_People = with_percent.filter('People != 0').select('user1','profile_num' ,'People')\n",
    "with_percent_Transportation = with_percent.filter('Transportation != 0').select('user1','profile_num' ,'Transportation')\n",
    "with_percent_Travel = with_percent.filter('Travel != 0').select('user1','profile_num' ,'Travel')\n",
    "with_percent_Utility = with_percent.filter('Utility != 0').select('user1','profile_num' ,'Utility')"
   ]
  },
  {
   "cell_type": "code",
   "execution_count": 36,
   "metadata": {},
   "outputs": [
    {
     "name": "stdout",
     "output_type": "stream",
     "text": [
      "time: 257 ms\n"
     ]
    }
   ],
   "source": [
    "# Calculate average and standard deviation for each category in each interval\n",
    "Activity_stats = with_percent_Activity.groupBy(\"profile_num\").agg(F.avg(F.col('Activity')),F.stddev(F.col('Activity'))).sort(F.col(\"profile_num\"))\n",
    "Cash_stats = with_percent_Cash.groupBy(\"profile_num\").agg(F.avg(F.col('Cash')),F.stddev(F.col('Cash'))).sort(F.col(\"profile_num\"))\n",
    "Event_stats = with_percent_Event.groupBy(\"profile_num\").agg(F.avg(F.col('Event')),F.stddev(F.col('Event'))).sort(F.col(\"profile_num\"))\n",
    "Food_stats = with_percent_Food.groupBy(\"profile_num\").agg(F.avg(F.col('Food')),F.stddev(F.col('Food'))).sort(F.col(\"profile_num\"))\n",
    "Illegal_stats = with_percent_Illegal.groupBy(\"profile_num\").agg(F.avg(F.col('Illegal/Sarcasm')),F.stddev(F.col('Illegal/Sarcasm'))).sort(F.col(\"profile_num\"))\n",
    "Others_stats = with_percent_Others.groupBy(\"profile_num\").agg(F.avg(F.col('Others')),F.stddev(F.col('Others'))).sort(F.col(\"profile_num\"))\n",
    "People_stats = with_percent_People.groupBy(\"profile_num\").agg(F.avg(F.col('People')),F.stddev(F.col('People'))).sort(F.col(\"profile_num\"))\n",
    "Transportation_stats = with_percent_Transportation.groupBy(\"profile_num\").agg(F.avg(F.col('Transportation')),F.stddev(F.col('Transportation'))).sort(F.col(\"profile_num\"))\n",
    "Travel_stats = with_percent_Travel.groupBy(\"profile_num\").agg(F.avg(F.col('Travel')),F.stddev(F.col('Travel'))).sort(F.col(\"profile_num\"))\n",
    "Utility_stats = with_percent_Utility.groupBy(\"profile_num\").agg(F.avg(F.col('Utility')),F.stddev(F.col('Utility'))).sort(F.col(\"profile_num\"))"
   ]
  },
  {
   "cell_type": "markdown",
   "metadata": {},
   "source": [
    "#### Draw the time series plots"
   ]
  },
  {
   "cell_type": "code",
   "execution_count": 37,
   "metadata": {
    "scrolled": true
   },
   "outputs": [
    {
     "data": {
      "text/plain": [
       "<matplotlib.collections.PolyCollection at 0x199b7e88a88>"
      ]
     },
     "execution_count": 37,
     "metadata": {},
     "output_type": "execute_result"
    },
    {
     "data": {
      "image/png": "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\n",
      "text/plain": [
       "<Figure size 576x288 with 1 Axes>"
      ]
     },
     "metadata": {
      "needs_background": "light"
     },
     "output_type": "display_data"
    },
    {
     "name": "stdout",
     "output_type": "stream",
     "text": [
      "time: 57.7 s\n"
     ]
    }
   ],
   "source": [
    "interval_avg_std_lst = Activity_stats.select('profile_num', 'avg(Activity)', 'stddev_samp(Activity)').collect()\n",
    "x = [element[0] for element in interval_avg_std_lst]\n",
    "avg = [element[1] for element in interval_avg_std_lst]\n",
    "std = [element[2] for element in interval_avg_std_lst]\n",
    "upper = [avg[i]+2*std[i] for i in x]\n",
    "lower = [avg[i]-2*std[i] for i in x]\n",
    "fig, ax = plt.subplots(figsize = (8,4))\n",
    "fig.suptitle(\"Average user profile for {}\".format('Activity'), fontsize=20)\n",
    "ax.plot(x, avg)\n",
    "ax.fill_between(x, lower, upper, color='b', alpha=.1)"
   ]
  },
  {
   "cell_type": "code",
   "execution_count": 38,
   "metadata": {},
   "outputs": [
    {
     "data": {
      "text/plain": [
       "<matplotlib.collections.PolyCollection at 0x199c2de4b48>"
      ]
     },
     "execution_count": 38,
     "metadata": {},
     "output_type": "execute_result"
    },
    {
     "data": {
      "image/png": "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\n",
      "text/plain": [
       "<Figure size 576x288 with 1 Axes>"
      ]
     },
     "metadata": {
      "needs_background": "light"
     },
     "output_type": "display_data"
    },
    {
     "name": "stdout",
     "output_type": "stream",
     "text": [
      "time: 57.5 s\n"
     ]
    }
   ],
   "source": [
    "interval_avg_std_lst = Cash_stats.select('profile_num', 'avg(Cash)', 'stddev_samp(Cash)').collect()\n",
    "x = [element[0] for element in interval_avg_std_lst]\n",
    "avg = [element[1] for element in interval_avg_std_lst]\n",
    "std = [element[2] for element in interval_avg_std_lst]\n",
    "upper = [avg[i]+2*std[i] for i in x]\n",
    "lower = [avg[i]-2*std[i] for i in x]\n",
    "fig, ax = plt.subplots(figsize = (8,4))\n",
    "fig.suptitle(\"Average user profile for {}\".format('Cash'), fontsize=20)\n",
    "ax.plot(x, avg)\n",
    "ax.fill_between(x, lower, upper, color='b', alpha=.1)"
   ]
  },
  {
   "cell_type": "code",
   "execution_count": 39,
   "metadata": {},
   "outputs": [
    {
     "data": {
      "text/plain": [
       "<matplotlib.collections.PolyCollection at 0x199d7fdbc48>"
      ]
     },
     "execution_count": 39,
     "metadata": {},
     "output_type": "execute_result"
    },
    {
     "data": {
      "image/png": "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\n",
      "text/plain": [
       "<Figure size 576x288 with 1 Axes>"
      ]
     },
     "metadata": {
      "needs_background": "light"
     },
     "output_type": "display_data"
    },
    {
     "name": "stdout",
     "output_type": "stream",
     "text": [
      "time: 59.5 s\n"
     ]
    }
   ],
   "source": [
    "interval_avg_std_lst = Event_stats.select('profile_num', 'avg(Event)', 'stddev_samp(Event)').collect()\n",
    "x = [element[0] for element in interval_avg_std_lst]\n",
    "avg = [element[1] for element in interval_avg_std_lst]\n",
    "std = [element[2] for element in interval_avg_std_lst]\n",
    "upper = [avg[i]+2*std[i] for i in x]\n",
    "lower = [avg[i]-2*std[i] for i in x]\n",
    "fig, ax = plt.subplots(figsize = (8,4))\n",
    "fig.suptitle(\"Average user profile for {}\".format('Event'), fontsize=20)\n",
    "ax.plot(x, avg)\n",
    "ax.fill_between(x, lower, upper, color='b', alpha=.1)"
   ]
  },
  {
   "cell_type": "code",
   "execution_count": 40,
   "metadata": {},
   "outputs": [
    {
     "data": {
      "text/plain": [
       "<matplotlib.collections.PolyCollection at 0x199f21da108>"
      ]
     },
     "execution_count": 40,
     "metadata": {},
     "output_type": "execute_result"
    },
    {
     "data": {
      "image/png": "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\n",
      "text/plain": [
       "<Figure size 576x288 with 1 Axes>"
      ]
     },
     "metadata": {
      "needs_background": "light"
     },
     "output_type": "display_data"
    },
    {
     "name": "stdout",
     "output_type": "stream",
     "text": [
      "time: 1min 20s\n"
     ]
    }
   ],
   "source": [
    "interval_avg_std_lst = Food_stats.select('profile_num', 'avg(Food)', 'stddev_samp(Food)').collect()\n",
    "x = [element[0] for element in interval_avg_std_lst]\n",
    "avg = [element[1] for element in interval_avg_std_lst]\n",
    "std = [element[2] for element in interval_avg_std_lst]\n",
    "upper = [avg[i]+2*std[i] for i in x]\n",
    "lower = [avg[i]-2*std[i] for i in x]\n",
    "fig, ax = plt.subplots(figsize = (8,4))\n",
    "fig.suptitle(\"Average user profile for {}\".format('Food'), fontsize=20)\n",
    "ax.plot(x, avg)\n",
    "ax.fill_between(x, lower, upper, color='b', alpha=.1)"
   ]
  },
  {
   "cell_type": "code",
   "execution_count": 41,
   "metadata": {},
   "outputs": [
    {
     "data": {
      "text/plain": [
       "<matplotlib.collections.PolyCollection at 0x199874bd848>"
      ]
     },
     "execution_count": 41,
     "metadata": {},
     "output_type": "execute_result"
    },
    {
     "data": {
      "image/png": "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\n",
      "text/plain": [
       "<Figure size 576x288 with 1 Axes>"
      ]
     },
     "metadata": {
      "needs_background": "light"
     },
     "output_type": "display_data"
    },
    {
     "name": "stdout",
     "output_type": "stream",
     "text": [
      "time: 1min 8s\n"
     ]
    }
   ],
   "source": [
    "interval_avg_std_lst = Illegal_stats.select('profile_num', 'avg(Illegal/Sarcasm)', 'stddev_samp(Illegal/Sarcasm)').collect()\n",
    "x = [element[0] for element in interval_avg_std_lst]\n",
    "avg = [element[1] for element in interval_avg_std_lst]\n",
    "std = [element[2] for element in interval_avg_std_lst]\n",
    "upper = [avg[i]+2*std[i] for i in x]\n",
    "lower = [avg[i]-2*std[i] for i in x]\n",
    "fig, ax = plt.subplots(figsize = (8,4))\n",
    "fig.suptitle(\"Average user profile for {}\".format('Illegal/Sarcasm'), fontsize=20)\n",
    "ax.plot(x, avg)\n",
    "ax.fill_between(x, lower, upper, color='b', alpha=.1)"
   ]
  },
  {
   "cell_type": "code",
   "execution_count": 42,
   "metadata": {},
   "outputs": [
    {
     "data": {
      "text/plain": [
       "<matplotlib.collections.PolyCollection at 0x19a0daf70c8>"
      ]
     },
     "execution_count": 42,
     "metadata": {},
     "output_type": "execute_result"
    },
    {
     "data": {
      "image/png": "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\n",
      "text/plain": [
       "<Figure size 576x288 with 1 Axes>"
      ]
     },
     "metadata": {
      "needs_background": "light"
     },
     "output_type": "display_data"
    },
    {
     "name": "stdout",
     "output_type": "stream",
     "text": [
      "time: 1min 36s\n"
     ]
    }
   ],
   "source": [
    "interval_avg_std_lst = Others_stats.select('profile_num', 'avg(Others)', 'stddev_samp(Others)').collect()\n",
    "x = [element[0] for element in interval_avg_std_lst]\n",
    "avg = [element[1] for element in interval_avg_std_lst]\n",
    "std = [element[2] for element in interval_avg_std_lst]\n",
    "upper = [avg[i]+2*std[i] for i in x]\n",
    "lower = [avg[i]-2*std[i] for i in x]\n",
    "fig, ax = plt.subplots(figsize = (8,4))\n",
    "fig.suptitle(\"Average user profile for {}\".format('Others'), fontsize=20)\n",
    "ax.plot(x, avg)\n",
    "ax.fill_between(x, lower, upper, color='b', alpha=.1)"
   ]
  },
  {
   "cell_type": "code",
   "execution_count": 43,
   "metadata": {},
   "outputs": [
    {
     "data": {
      "text/plain": [
       "<matplotlib.collections.PolyCollection at 0x19a20e39188>"
      ]
     },
     "execution_count": 43,
     "metadata": {},
     "output_type": "execute_result"
    },
    {
     "data": {
      "image/png": "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\n",
      "text/plain": [
       "<Figure size 576x288 with 1 Axes>"
      ]
     },
     "metadata": {
      "needs_background": "light"
     },
     "output_type": "display_data"
    },
    {
     "name": "stdout",
     "output_type": "stream",
     "text": [
      "time: 1min 13s\n"
     ]
    }
   ],
   "source": [
    "interval_avg_std_lst = People_stats.select('profile_num', 'avg(People)', 'stddev_samp(People)').collect()\n",
    "x = [element[0] for element in interval_avg_std_lst]\n",
    "avg = [element[1] for element in interval_avg_std_lst]\n",
    "std = [element[2] for element in interval_avg_std_lst]\n",
    "upper = [avg[i]+2*std[i] for i in x]\n",
    "lower = [avg[i]-2*std[i] for i in x]\n",
    "fig, ax = plt.subplots(figsize = (8,4))\n",
    "fig.suptitle(\"Average user profile for {}\".format('People'), fontsize=20)\n",
    "ax.plot(x, avg)\n",
    "ax.fill_between(x, lower, upper, color='b', alpha=.1)"
   ]
  },
  {
   "cell_type": "code",
   "execution_count": 44,
   "metadata": {},
   "outputs": [
    {
     "data": {
      "text/plain": [
       "<matplotlib.collections.PolyCollection at 0x199adc6c188>"
      ]
     },
     "execution_count": 44,
     "metadata": {},
     "output_type": "execute_result"
    },
    {
     "data": {
      "image/png": "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\n",
      "text/plain": [
       "<Figure size 576x288 with 1 Axes>"
      ]
     },
     "metadata": {
      "needs_background": "light"
     },
     "output_type": "display_data"
    },
    {
     "name": "stdout",
     "output_type": "stream",
     "text": [
      "time: 1min 14s\n"
     ]
    }
   ],
   "source": [
    "interval_avg_std_lst = Transportation_stats.select('profile_num', 'avg(Transportation)', 'stddev_samp(Transportation)').collect()\n",
    "x = [element[0] for element in interval_avg_std_lst]\n",
    "avg = [element[1] for element in interval_avg_std_lst]\n",
    "std = [element[2] for element in interval_avg_std_lst]\n",
    "upper = [avg[i]+2*std[i] for i in x]\n",
    "lower = [avg[i]-2*std[i] for i in x]\n",
    "fig, ax = plt.subplots(figsize = (8,4))\n",
    "fig.suptitle(\"Average user profile for {}\".format('Transportation'), fontsize=20)\n",
    "ax.plot(x, avg)\n",
    "ax.fill_between(x, lower, upper, color='b', alpha=.1)"
   ]
  },
  {
   "cell_type": "code",
   "execution_count": 45,
   "metadata": {},
   "outputs": [
    {
     "data": {
      "text/plain": [
       "<matplotlib.collections.PolyCollection at 0x199b2f7cf88>"
      ]
     },
     "execution_count": 45,
     "metadata": {},
     "output_type": "execute_result"
    },
    {
     "data": {
      "image/png": "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\n",
      "text/plain": [
       "<Figure size 576x288 with 1 Axes>"
      ]
     },
     "metadata": {
      "needs_background": "light"
     },
     "output_type": "display_data"
    },
    {
     "name": "stdout",
     "output_type": "stream",
     "text": [
      "time: 1min 13s\n"
     ]
    }
   ],
   "source": [
    "interval_avg_std_lst = Travel_stats.select('profile_num', 'avg(Travel)', 'stddev_samp(Travel)').collect()\n",
    "x = [element[0] for element in interval_avg_std_lst]\n",
    "avg = [element[1] for element in interval_avg_std_lst]\n",
    "std = [element[2] for element in interval_avg_std_lst]\n",
    "upper = [avg[i]+2*std[i] for i in x]\n",
    "lower = [avg[i]-2*std[i] for i in x]\n",
    "fig, ax = plt.subplots(figsize = (8,4))\n",
    "fig.suptitle(\"Average user profile for {}\".format('Travel'), fontsize=20)\n",
    "ax.plot(x, avg)\n",
    "ax.fill_between(x, lower, upper, color='b', alpha=.1)"
   ]
  },
  {
   "cell_type": "code",
   "execution_count": 46,
   "metadata": {},
   "outputs": [
    {
     "data": {
      "text/plain": [
       "<matplotlib.collections.PolyCollection at 0x199b9330f48>"
      ]
     },
     "execution_count": 46,
     "metadata": {},
     "output_type": "execute_result"
    },
    {
     "data": {
      "image/png": "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\n",
      "text/plain": [
       "<Figure size 576x288 with 1 Axes>"
      ]
     },
     "metadata": {
      "needs_background": "light"
     },
     "output_type": "display_data"
    },
    {
     "name": "stdout",
     "output_type": "stream",
     "text": [
      "time: 1min 29s\n"
     ]
    }
   ],
   "source": [
    "interval_avg_std_lst = Utility_stats.select('profile_num', 'avg(Utility)', 'stddev_samp(Utility)').collect()\n",
    "x = [element[0] for element in interval_avg_std_lst]\n",
    "avg = [element[1] for element in interval_avg_std_lst]\n",
    "std = [element[2] for element in interval_avg_std_lst]\n",
    "upper = [avg[i]+2*std[i] for i in x]\n",
    "lower = [avg[i]-2*std[i] for i in x]\n",
    "fig, ax = plt.subplots(figsize = (8,4))\n",
    "fig.suptitle(\"Average user profile for {}\".format('Utility'), fontsize=20)\n",
    "ax.plot(x, avg)\n",
    "ax.fill_between(x, lower, upper, color='b', alpha=.1)"
   ]
  },
  {
   "cell_type": "markdown",
   "metadata": {},
   "source": [
    "# Social Network Analytics \n",
    "Let’s now look at a user’s social network.\n",
    "### Q5 [5 pts]​: Write a script to find a user’s friends and friends of friends (​Friend definition: ​A user’s friend is someone who has transacted with the user​, ​either sending money to the user or receiving money from the user). ​Describe your algorithm and calculate its computational complexity. Can you do it better?\n",
    "\n",
    "https://sparkbyexamples.com/spark/spark-dataframe-map-maptype-column/"
   ]
  },
  {
   "cell_type": "code",
   "execution_count": 3,
   "metadata": {},
   "outputs": [
    {
     "name": "stdout",
     "output_type": "stream",
     "text": [
      "time: 5.72 s\n"
     ]
    }
   ],
   "source": [
    "# Load the parquet data\n",
    "parqDF = spark.read.parquet(\"/Users/yiyingwang/Desktop/Big Data Analytics/HW1/Homework 2/VenmoSample.snappy.parquet\")\n",
    "ParquetTable=parqDF.createOrReplaceTempView(\"ParquetTable\")\n",
    "parkSQL = spark.sql(\"select * from ParquetTable\")"
   ]
  },
  {
   "cell_type": "code",
   "execution_count": 3,
   "metadata": {},
   "outputs": [
    {
     "name": "stdout",
     "output_type": "stream",
     "text": [
      "+--------+-------+----------------+-------------------+--------------------+-----------+--------------------+\n",
      "|   user1|  user2|transaction_type|           datetime|         description|is_business|            story_id|\n",
      "+--------+-------+----------------+-------------------+--------------------+-----------+--------------------+\n",
      "| 1218774|1528945|         payment|2015-11-27 02:48:19|                Uber|      false|5657c473cd03c9af2...|\n",
      "| 5109483|4782303|         payment|2015-06-17 04:37:04|              Costco|      false|5580f9702b64f70ab...|\n",
      "| 4322148|3392963|         payment|2015-06-19 00:05:31|        Sweaty balls|      false|55835ccb1a624b14a...|\n",
      "|  469894|1333620|          charge|2016-06-03 16:34:13|                  🎥|      false|5751b185cd03c9af2...|\n",
      "| 2960727|3442373|         payment|2016-05-29 16:23:42|                   ⚡|      false|574b178ecd03c9af2...|\n",
      "| 3977544|2709470|         payment|2016-09-29 15:12:07|          Chipotlaid|      false|57ed2f4723e064eac...|\n",
      "| 3766386|4209061|         payment|2016-05-20 03:31:15|     kitchen counter|      false|573e8503cd03c9af2...|\n",
      "|  730075| 804466|         payment|2016-05-25 21:46:45|                Food|      false|57461d46cd03c9af2...|\n",
      "| 5221751|4993533|         payment|2016-07-14 15:53:49|               Zaxby|      false|5787b58d23e064eac...|\n",
      "| 6843582|7308338|         payment|2016-08-31 03:32:46|           Fan sucks|      false|57c64fdf23e064eac...|\n",
      "| 5317324|3942984|         payment|2016-01-04 01:11:25|                  👠|      false|5689c6bdcd03c9af2...|\n",
      "| 1134661|1556430|         payment|2015-10-08 18:53:52|         Thanks babe|      false|5616bbc0cd03c9af2...|\n",
      "| 4238868|4879587|         payment|2015-10-04 01:28:01|                  🍺|      false|561080a1cd03c9af2...|\n",
      "|11719500|8702716|         payment|2016-07-07 14:40:39|                   ⛽|      false|577e69e723e064eac...|\n",
      "| 3625798|5692302|         payment|2016-10-16 07:43:41|Hey man  it's bee...|      false|58032fad23e064eac...|\n",
      "|  613908|3045405|          charge|2016-05-06 23:42:17|         Getaway car|      false|572d2bd9cd03c9af2...|\n",
      "| 4682257|1870271|         payment|2016-02-24 01:14:12|     🔮 gypsy things|      false|56cd03e4cd03c9af2...|\n",
      "| 9414481|2869012|         payment|2016-04-09 02:19:46|                  🔴|      false|570866c2cd03c9af2...|\n",
      "|  241386|2580543|         payment|2015-05-16 23:00:19|           Furniture|      false|5557cc0407f81c33e...|\n",
      "|  656477| 656214|          charge|2013-12-14 14:43:27|bed bath mostly b...|      false|52ac6e93d56b6bac5...|\n",
      "+--------+-------+----------------+-------------------+--------------------+-----------+--------------------+\n",
      "only showing top 20 rows\n",
      "\n"
     ]
    }
   ],
   "source": [
    "parkSQL.show()"
   ]
  },
  {
   "cell_type": "markdown",
   "metadata": {},
   "source": [
    "### Q5-1.1 Find the friends\n",
    "###  Find the friends: First, we select all friends of each users in user1 column, and combine them with all friends of each users in user2 column, then we find the unique combination by using the distinct function.\n",
    "### The computational complexity is 2n"
   ]
  },
  {
   "cell_type": "code",
   "execution_count": 3,
   "metadata": {},
   "outputs": [],
   "source": [
    "def find_friends(user_id):\n",
    "    \"return all the friends of the user\"\n",
    "    friends_user1=parkSQL.select(\"user1\",\"user2\").sort(\"user1\").distinct().where(\"user1=={}\".format(user_id))\n",
    "    friends_user2=parkSQL.select(\"user2\",\"user1\").sort(\"user2\").distinct().where(\"user2=={}\".format(user_id))\n",
    "    friends=friends_user1.union(friends_user2).distinct().select(\"user2\")\n",
    "    return friends"
   ]
  },
  {
   "cell_type": "code",
   "execution_count": 4,
   "metadata": {},
   "outputs": [
    {
     "name": "stdout",
     "output_type": "stream",
     "text": [
      "+------+\n",
      "| user2|\n",
      "+------+\n",
      "|    43|\n",
      "|191142|\n",
      "|   220|\n",
      "+------+\n",
      "\n"
     ]
    }
   ],
   "source": [
    "find_friends(2).show()"
   ]
  },
  {
   "cell_type": "markdown",
   "metadata": {},
   "source": [
    "### Q5.2 Find the friends of friends:\n",
    "### In this algorithm, I first do a left join on the original friends user1 and user2  and add a friends of friends column user3, then I exclude the rows where user3=user1 and user3 =user2 for that friend and get the results of friends of friends.\n",
    "### it has the computational complexity of O(M+N)\n",
    "https://www.quora.com/What-is-time-complexity-of-Join-algorithm-in-Database"
   ]
  },
  {
   "cell_type": "code",
   "execution_count": 18,
   "metadata": {},
   "outputs": [
    {
     "name": "stdout",
     "output_type": "stream",
     "text": [
      "time: 927 µs\n"
     ]
    }
   ],
   "source": [
    "def find_friends_of_friends():\n",
    "    \"return only friends of friends of the user\"\n",
    "    friends_new=spark.sql(\"with friends as \\\n",
    "    (select distinct user1,user2\\\n",
    "    from ((select user1, user2 from ParquetTable) \\\n",
    "    union (select user2,user1 from ParquetTable) ))\\\n",
    "    select distinct a.user1 as user1,b.user2 as user3\\\n",
    "    from friends a left join friends b\\\n",
    "    on a.user2=b.user1\\\n",
    "    and a.user1 !=b.user2\\\n",
    "    where b.user2 is not null\\\n",
    "    and b.user2 not in (select c.user2 from friends c where c.user1=a.user1)\\\n",
    "    order by user1,user3\")\n",
    "    return friends_new\n",
    "\n"
   ]
  },
  {
   "cell_type": "code",
   "execution_count": 19,
   "metadata": {},
   "outputs": [
    {
     "name": "stdout",
     "output_type": "stream",
     "text": [
      "+-----+------+\n",
      "|user1| user3|\n",
      "+-----+------+\n",
      "|    2|     3|\n",
      "|    2|    10|\n",
      "|    2|    19|\n",
      "|    2|    96|\n",
      "|    2|   629|\n",
      "|    2|  3565|\n",
      "|    2| 20530|\n",
      "|    2| 20639|\n",
      "|    2| 47104|\n",
      "|    2| 49778|\n",
      "|    2| 55895|\n",
      "|    2| 72106|\n",
      "|    2| 82697|\n",
      "|    2|183628|\n",
      "|    2|276439|\n",
      "|    2|297967|\n",
      "|    2|307603|\n",
      "|    2|316862|\n",
      "|    2|613769|\n",
      "|    2|851628|\n",
      "+-----+------+\n",
      "only showing top 20 rows\n",
      "\n",
      "time: 1min 8s\n"
     ]
    }
   ],
   "source": [
    "find_friends_of_friends().show()"
   ]
  },
  {
   "cell_type": "markdown",
   "metadata": {},
   "source": [
    "### Q6 [10 pts]​: Now, that you have the list of each user’s friends and friends of friends, you are in position to calculate many social network variables. Use the dynamic analysis from before, and calculate the following social network metrics across a user’s lifetime in Venmo (from 0 up to 12 months).\n",
    "\n",
    "i) Number of friends and number of friends of friends [very easy, 2pts].\n",
    "\n",
    "ii) Clustering coefficient of a user's network [easy, 3 pts]. (​Hint​: the easiest way to calculate this is to program it yourselves. Alternatively, you can use “networkx” python package. The latter approach will slow down your script significantly).\n",
    "\n",
    "iii) Calculate the page rank of each user (hard, 5 pts). (​Hint​: First of all, you need to use GraphX to do this. Moreover, notice that page rank is a ​global​ social network metric. If you go ahead and calculate the page rank for each user at each of her lifetime points, you will soon realize it will be a dead end. ​Can you think of a smart way to do this?​)"
   ]
  },
  {
   "cell_type": "code",
   "execution_count": 5,
   "metadata": {
    "scrolled": true
   },
   "outputs": [],
   "source": [
    "# Choose useful columns from the transactions dataframe\n",
    "dynamic_profile = parqDF.filter('transaction_type == \"payment\"').select('user1',\"user2\", 'datetime')"
   ]
  },
  {
   "cell_type": "markdown",
   "metadata": {},
   "source": [
    "#### Remove transaction that is more than 12 month since the user's first transaction"
   ]
  },
  {
   "cell_type": "code",
   "execution_count": 7,
   "metadata": {
    "scrolled": true
   },
   "outputs": [
    {
     "name": "stdout",
     "output_type": "stream",
     "text": [
      "time: 46 ms\n"
     ]
    }
   ],
   "source": [
    "w = Window.partitionBy('user1')\n",
    "dynamic_profile = dynamic_profile.withColumn('start_date', F.to_date(F.min('datetime').over(w)))"
   ]
  },
  {
   "cell_type": "markdown",
   "metadata": {},
   "source": [
    "#### Generate a column hold the profile number (0-11) for each transaction"
   ]
  },
  {
   "cell_type": "code",
   "execution_count": 8,
   "metadata": {},
   "outputs": [
    {
     "name": "stdout",
     "output_type": "stream",
     "text": [
      "time: 1.09 ms\n"
     ]
    }
   ],
   "source": [
    "from datetime import datetime\n",
    "from dateutil.relativedelta import relativedelta\n",
    "import bisect\n",
    "\n",
    "def generate_profile_num(datetime,start_date):\n",
    "    '''\n",
    "    Returns a profile number for the transaction according to the month since the startdate\n",
    "    '''\n",
    "    \n",
    "    transaction_date = datetime.date()\n",
    "    \n",
    "    profile_interval = [(start_date + relativedelta(months=+i)) for i in range(0,13)]\n",
    "    \n",
    "    # If transaction at start_date then its profile_num is 0, then 1st month is 1, 2nd month is 2...\n",
    "    # for transactons later than last day of 12 month since start_date, then profile_num is 13 for all\n",
    "    profile_num = bisect.bisect_left(profile_interval, transaction_date) \n",
    "    \n",
    "    return profile_num"
   ]
  },
  {
   "cell_type": "code",
   "execution_count": 9,
   "metadata": {},
   "outputs": [
    {
     "name": "stdout",
     "output_type": "stream",
     "text": [
      "time: 23.9 ms\n"
     ]
    }
   ],
   "source": [
    "get_profile_num = F.udf(lambda datetime, start_date: generate_profile_num(datetime, start_date))\n",
    "dynamic_profile = dynamic_profile.withColumn('profile_num', get_profile_num(F.col('datetime'),F.col('start_date')))"
   ]
  },
  {
   "cell_type": "code",
   "execution_count": 10,
   "metadata": {},
   "outputs": [
    {
     "name": "stdout",
     "output_type": "stream",
     "text": [
      "time: 16 ms\n"
     ]
    }
   ],
   "source": [
    "dynamic_profile_clean = dynamic_profile.where( \"profile_num <= 12\")\n",
    "\n",
    "#dynamic_profile_clean.printSchema()\n",
    "\n"
   ]
  },
  {
   "cell_type": "code",
   "execution_count": 48,
   "metadata": {},
   "outputs": [
    {
     "name": "stdout",
     "output_type": "stream",
     "text": [
      "time: 1h 28min 39s\n"
     ]
    }
   ],
   "source": [
    "#result_pdf = dynamic_profile_clean.orderBy('user1',\"user2\").select(\"*\").toPandas()"
   ]
  },
  {
   "cell_type": "code",
   "execution_count": 49,
   "metadata": {},
   "outputs": [
    {
     "name": "stdout",
     "output_type": "stream",
     "text": [
      "time: 33.9 s\n"
     ]
    }
   ],
   "source": [
    "#result_pdf.to_csv('social_network.csv')"
   ]
  },
  {
   "cell_type": "code",
   "execution_count": 5,
   "metadata": {},
   "outputs": [
    {
     "name": "stdout",
     "output_type": "stream",
     "text": [
      "time: 1.25 s\n"
     ]
    }
   ],
   "source": [
    "social_networks = spark.read.csv('social_network.csv', header=True)"
   ]
  },
  {
   "cell_type": "code",
   "execution_count": 6,
   "metadata": {},
   "outputs": [
    {
     "name": "stdout",
     "output_type": "stream",
     "text": [
      "+---+-----+-------+-------------------+----------+-----------+\n",
      "|_c0|user1|  user2|           datetime|start_date|profile_num|\n",
      "+---+-----+-------+-------------------+----------+-----------+\n",
      "|  0|    2|    220|2012-11-22 22:03:42|2012-11-22|          0|\n",
      "|  1|    3|     52|2016-09-22 08:30:09|2016-09-22|          0|\n",
      "|  2|    3|1079020|2016-10-07 16:37:56|2016-09-22|          1|\n",
      "|  3|    3|1204190|2016-10-08 18:56:24|2016-09-22|          1|\n",
      "|  4|    3|2382556|2016-10-06 03:49:45|2016-09-22|          1|\n",
      "+---+-----+-------+-------------------+----------+-----------+\n",
      "only showing top 5 rows\n",
      "\n",
      "time: 157 ms\n"
     ]
    }
   ],
   "source": [
    "social_networks.show(5)"
   ]
  },
  {
   "cell_type": "code",
   "execution_count": 7,
   "metadata": {},
   "outputs": [
    {
     "name": "stdout",
     "output_type": "stream",
     "text": [
      "time: 8.67 ms\n"
     ]
    }
   ],
   "source": [
    "ParquetTable=social_networks.createOrReplaceTempView(\"ParquetTable\")"
   ]
  },
  {
   "cell_type": "markdown",
   "metadata": {},
   "source": [
    "### Q6 -1.1  number of friends of the users"
   ]
  },
  {
   "cell_type": "code",
   "execution_count": 8,
   "metadata": {},
   "outputs": [
    {
     "name": "stdout",
     "output_type": "stream",
     "text": [
      "time: 605 µs\n"
     ]
    }
   ],
   "source": [
    "def find_friends_all():\n",
    "    friends=spark.sql(\"with friends_all as ((select distinct user1,user2,profile_num from ParquetTable)\\\n",
    "    union (select distinct user2,user1,profile_num from ParquetTable))\\\n",
    "    select distinct user1,user2,profile_num from friends_all\\\n",
    "    order by user1,user2,profile_num\")\n",
    "    return friends"
   ]
  },
  {
   "cell_type": "code",
   "execution_count": 9,
   "metadata": {},
   "outputs": [
    {
     "name": "stdout",
     "output_type": "stream",
     "text": [
      "time: 118 ms\n"
     ]
    }
   ],
   "source": [
    "f1=find_friends_all().groupby(\"user1\",\"profile_num\").count()\n",
    "f2=f1.withColumnRenamed(\"user1\",\"user\").withColumnRenamed(\"count\",\"friends_count\")"
   ]
  },
  {
   "cell_type": "code",
   "execution_count": 54,
   "metadata": {},
   "outputs": [
    {
     "name": "stdout",
     "output_type": "stream",
     "text": [
      "+--------+-----------+-------------+\n",
      "|    user|profile_num|friends_count|\n",
      "+--------+-----------+-------------+\n",
      "|10001475|          1|            1|\n",
      "|10002282|          0|            1|\n",
      "|10003139|          1|            1|\n",
      "| 1000314|          0|            1|\n",
      "| 1000412|          3|            1|\n",
      "|10005735|          5|            1|\n",
      "|10008613|          0|            1|\n",
      "| 1000890|          9|            1|\n",
      "|10010800|          2|            1|\n",
      "| 1001112|          0|            1|\n",
      "| 1001167|          0|            2|\n",
      "| 1001209|          4|            1|\n",
      "| 1001446|          0|            3|\n",
      "|10015360|          5|            1|\n",
      "|10018049|          0|            1|\n",
      "| 1002202|          0|            2|\n",
      "| 1002262|          9|            1|\n",
      "| 1002303|         11|            1|\n",
      "| 1002432|          0|            1|\n",
      "| 1003057|          0|            1|\n",
      "+--------+-----------+-------------+\n",
      "only showing top 20 rows\n",
      "\n",
      "time: 34 s\n"
     ]
    }
   ],
   "source": [
    "f2.show()"
   ]
  },
  {
   "cell_type": "markdown",
   "metadata": {},
   "source": [
    "## Q6 -1.2 number of friends of friends of the users"
   ]
  },
  {
   "cell_type": "code",
   "execution_count": 10,
   "metadata": {},
   "outputs": [
    {
     "name": "stdout",
     "output_type": "stream",
     "text": [
      "time: 573 µs\n"
     ]
    }
   ],
   "source": [
    "def find_friends_of_friends_1():\n",
    "    \"return only friends of friends of the user\"\n",
    "    friends_new=spark.sql(\"with friends as \\\n",
    "    (select distinct user1,user2,profile_num\\\n",
    "    from ((select user1, user2,profile_num from ParquetTable) \\\n",
    "    union (select user2,user1,profile_num from ParquetTable) ))\\\n",
    "    select distinct a.user1 as user1,b.user2 as user3,a.profile_num as lifetime_fof\\\n",
    "    from friends a left join friends b\\\n",
    "    on a.user2=b.user1\\\n",
    "    and a.user1 !=b.user2\\\n",
    "    where b.user2 is not null\\\n",
    "    and b.user2 not in (select c.user2 from friends c where c.user1=a.user1 and c.profile_num=a.profile_num)\")\n",
    "    return friends_new\n"
   ]
  },
  {
   "cell_type": "code",
   "execution_count": 11,
   "metadata": {},
   "outputs": [
    {
     "name": "stdout",
     "output_type": "stream",
     "text": [
      "time: 167 ms\n"
     ]
    }
   ],
   "source": [
    "fof=find_friends_of_friends_1().groupby(\"user1\",\"lifetime_fof\").count()\n",
    "fof1=fof.withColumnRenamed(\"count\",\"friends_of_friends_count\")"
   ]
  },
  {
   "cell_type": "code",
   "execution_count": 60,
   "metadata": {},
   "outputs": [
    {
     "name": "stdout",
     "output_type": "stream",
     "text": [
      "+--------+-----------+------------------------+\n",
      "|   user1|profile_num|friends_of_friends_count|\n",
      "+--------+-----------+------------------------+\n",
      "|10001475|          1|                       3|\n",
      "|10003139|          1|                       3|\n",
      "|10005735|          5|                       1|\n",
      "|10008613|          0|                       6|\n",
      "| 1000890|          9|                      11|\n",
      "|10010800|          2|                       4|\n",
      "| 1001112|          0|                       6|\n",
      "| 1001167|          0|                       4|\n",
      "| 1001209|          4|                       5|\n",
      "| 1001446|          0|                       1|\n",
      "|10015360|          5|                       4|\n",
      "| 1002202|          0|                       1|\n",
      "| 1002262|          9|                       5|\n",
      "| 1002303|         11|                       7|\n",
      "| 1002432|          0|                      14|\n",
      "| 1003057|          0|                       6|\n",
      "|10031704|          0|                       2|\n",
      "|10032238|         10|                       7|\n",
      "|10032935|          2|                       1|\n",
      "| 1003450|          1|                       2|\n",
      "+--------+-----------+------------------------+\n",
      "only showing top 20 rows\n",
      "\n",
      "time: 1min 19s\n"
     ]
    }
   ],
   "source": [
    "fof1.show()"
   ]
  },
  {
   "cell_type": "markdown",
   "metadata": {},
   "source": [
    "### Q6-2 Clustering coefficient of a user's network\n",
    "The clustering coefficient metric differs from measures of centrality. It is more akin to the density metric for whole networks, but focused on egocentric networks. Specifically, the clustering coefficient is a measure of the density of the 1.5-degree egocentric network for each vertex. When these connections are dense, the clustering coefficient is high. If your “friends” (alters) all know each other, you have a high clustering coefficient. If your “friends” (alters) don’t know each other, then you have a low clustering coefficient. People have different measures for their clustering coefficient depending on the ways they cultivate connections to others and the environments they are in.\n",
    "\n",
    "C is the number of shared edges that core i has with its neighbors divided by the degree of core i"
   ]
  },
  {
   "cell_type": "code",
   "execution_count": 12,
   "metadata": {},
   "outputs": [
    {
     "name": "stdout",
     "output_type": "stream",
     "text": [
      "time: 70.9 ms\n"
     ]
    }
   ],
   "source": [
    "from pyspark.sql.functions import col\n",
    "friends_final=f2.join(fof1,(f2[\"user\"]==fof1[\"user1\"]) & (f2[\"profile_num\"]==fof1[\"lifetime_fof\"]),\"left\").na.drop()\n",
    "cluster_coef=friends_final.withColumn(\"cluster_coef\",col(\"friends_count\")/col(\"friends_of_friends_count\"))"
   ]
  },
  {
   "cell_type": "code",
   "execution_count": 101,
   "metadata": {},
   "outputs": [
    {
     "name": "stdout",
     "output_type": "stream",
     "text": [
      "+--------+-----------+-------------+--------+------------+------------------------+-------------------+\n",
      "|    user|profile_num|friends_count|   user1|lifetime_fof|friends_of_friends_count|       cluster_coef|\n",
      "+--------+-----------+-------------+--------+------------+------------------------+-------------------+\n",
      "|10001475|          1|            1|10001475|           1|                       3| 0.3333333333333333|\n",
      "|10003139|          1|            1|10003139|           1|                       3| 0.3333333333333333|\n",
      "|10005735|          5|            1|10005735|           5|                       1|                1.0|\n",
      "|10008613|          0|            1|10008613|           0|                       6|0.16666666666666666|\n",
      "| 1000890|          9|            1| 1000890|           9|                      11|0.09090909090909091|\n",
      "|10010800|          2|            1|10010800|           2|                       4|               0.25|\n",
      "| 1001112|          0|            1| 1001112|           0|                       6|0.16666666666666666|\n",
      "| 1001167|          0|            2| 1001167|           0|                       4|                0.5|\n",
      "| 1001209|          4|            1| 1001209|           4|                       5|                0.2|\n",
      "| 1001446|          0|            3| 1001446|           0|                       1|                3.0|\n",
      "|10015360|          5|            1|10015360|           5|                       4|               0.25|\n",
      "| 1002202|          0|            2| 1002202|           0|                       1|                2.0|\n",
      "| 1002262|          9|            1| 1002262|           9|                       5|                0.2|\n",
      "| 1002303|         11|            1| 1002303|          11|                       7|0.14285714285714285|\n",
      "| 1002432|          0|            1| 1002432|           0|                      14|0.07142857142857142|\n",
      "| 1003057|          0|            1| 1003057|           0|                       6|0.16666666666666666|\n",
      "|10031704|          0|            1|10031704|           0|                       2|                0.5|\n",
      "|10032238|         10|            1|10032238|          10|                       7|0.14285714285714285|\n",
      "|10032935|          2|            1|10032935|           2|                       1|                1.0|\n",
      "| 1003450|          1|            1| 1003450|           1|                       2|                0.5|\n",
      "+--------+-----------+-------------+--------+------------+------------------------+-------------------+\n",
      "only showing top 20 rows\n",
      "\n",
      "time: 3min 16s\n"
     ]
    }
   ],
   "source": [
    "cluster_coef.show()"
   ]
  },
  {
   "cell_type": "code",
   "execution_count": 13,
   "metadata": {},
   "outputs": [
    {
     "name": "stdout",
     "output_type": "stream",
     "text": [
      "time: 4min 29s\n"
     ]
    }
   ],
   "source": [
    "#cluster_pdf = cluster_coef.select(\"user\",\"profile_num\",\"friends_count\",\"friends_of_friends_count\",\"cluster_coef\").toPandas()\n",
    "#cluster_pdf.to_csv('cluster_coef.csv')"
   ]
  },
  {
   "cell_type": "code",
   "execution_count": 1,
   "metadata": {},
   "outputs": [],
   "source": [
    "cluster_coef_1 = spark.read.csv('cluster_coef.csv', header=True)"
   ]
  },
  {
   "cell_type": "code",
   "execution_count": 5,
   "metadata": {},
   "outputs": [
    {
     "name": "stdout",
     "output_type": "stream",
     "text": [
      "+-------+--------+-----------+-------------+------------------------+-------------------+\n",
      "|    _c0|    user|profile_num|friends_count|friends_of_friends_count|       cluster_coef|\n",
      "+-------+--------+-----------+-------------+------------------------+-------------------+\n",
      "|1131305|      10|         12|            1|                       3| 0.3333333333333333|\n",
      "|5718068|      10|          4|            2|                       7| 0.2857142857142857|\n",
      "| 863340|      10|          0|            2|                       3| 0.6666666666666666|\n",
      "|1607598|      10|          2|            2|                       7| 0.2857142857142857|\n",
      "|5777662|      10|          9|            1|                       6|0.16666666666666666|\n",
      "|2262661|      10|          1|            1|                       6|0.16666666666666666|\n",
      "|2619946|      10|          6|            1|                       6|0.16666666666666666|\n",
      "| 477016|10000027|          6|            1|                       3| 0.3333333333333333|\n",
      "|5390715|10000054|          4|            1|                       1|                1.0|\n",
      "|4406999|10000054|          0|            1|                       3| 0.3333333333333333|\n",
      "|5450419| 1000006|          0|            1|                       3| 0.3333333333333333|\n",
      "|2887234| 1000007|          0|            3|                       5|                0.6|\n",
      "|3542774| 1000007|         12|            1|                       2|                0.5|\n",
      "|3810958| 1000007|          9|            1|                      11|0.09090909090909091|\n",
      "|2738907| 1000009|          7|            1|                       1|                1.0|\n",
      "|1756383| 1000009|          2|            1|                       6|0.16666666666666666|\n",
      "|3692215| 1000009|         12|            1|                       1|                1.0|\n",
      "| 149024| 1000009|         10|            1|                       6|0.16666666666666666|\n",
      "| 863341| 1000009|          3|            1|                       3| 0.3333333333333333|\n",
      "|1815818|  100001|          4|            1|                       2|                0.5|\n",
      "+-------+--------+-----------+-------------+------------------------+-------------------+\n",
      "only showing top 20 rows\n",
      "\n",
      "time: 2.83 s\n"
     ]
    }
   ],
   "source": [
    "cluster_coef_1.sort(\"user\").show()"
   ]
  },
  {
   "cell_type": "markdown",
   "metadata": {},
   "source": [
    "### Q6-3 Calculate the page rank of each user (hard, 5 pts). \n",
    "(​Hint​: First of all, you need to use GraphX to do this. Moreover, notice that page rank is a ​global​ social network metric. If you go ahead and calculate the page rank for each user at each of her lifetime points, you will soon realize it will be a dead end. ​Can you think of a smart way to do this?​)\n",
    "https://books.google.com/books?id=8eSWDwAAQBAJ&pg=PA84&lpg=PA84&dq=pagerank+cluster+coefficient+friends+of+friends&source=bl&ots=vPSnW1UB20&sig=ACfU3U3NHVlxW7nTmU1qoWkJ9aeOXOpQgg&hl=en&sa=X&ved=2ahUKEwiAk977vcHpAhWSsZ4KHfMoAAgQ6AEwAHoECAkQAQ#v=onepage&q=pagerank%20cluster%20coefficient%20friends%20of%20friends&f=false"
   ]
  },
  {
   "cell_type": "code",
   "execution_count": 3,
   "metadata": {},
   "outputs": [
    {
     "name": "stdout",
     "output_type": "stream",
     "text": [
      "time: 12.4 ms\n"
     ]
    }
   ],
   "source": [
    "from pyspark import SparkContext, SparkConf\n",
    "from graphframes.examples import Graphs\n",
    "from pyspark.sql import Window\n",
    "from pyspark.sql.functions import monotonically_increasing_id \n",
    "from graphframes import GraphFrame\n",
    "from pyspark.sql.functions import *"
   ]
  },
  {
   "cell_type": "code",
   "execution_count": 4,
   "metadata": {},
   "outputs": [
    {
     "name": "stdout",
     "output_type": "stream",
     "text": [
      "time: 2.04 s\n"
     ]
    }
   ],
   "source": [
    "parqDF = spark.read.parquet(\"/Users/yiyingwang/Desktop/Big Data Analytics/HW1/Homework 2/VenmoSample.snappy.parquet\")"
   ]
  },
  {
   "cell_type": "code",
   "execution_count": 5,
   "metadata": {},
   "outputs": [
    {
     "name": "stdout",
     "output_type": "stream",
     "text": [
      "time: 111 ms\n"
     ]
    }
   ],
   "source": [
    "#create vertices table\n",
    "user1=parqDF.select(\"user1\").distinct()\n",
    "user2=parqDF.select(\"user2\").distinct()\n",
    "user_id=user1.union(user2).distinct()"
   ]
  },
  {
   "cell_type": "code",
   "execution_count": 6,
   "metadata": {},
   "outputs": [
    {
     "name": "stdout",
     "output_type": "stream",
     "text": [
      "time: 6.82 ms\n"
     ]
    }
   ],
   "source": [
    "vertices=user_id.withColumnRenamed('user1',\"id\")\n",
    "#vertices.show()"
   ]
  },
  {
   "cell_type": "code",
   "execution_count": 7,
   "metadata": {},
   "outputs": [
    {
     "name": "stdout",
     "output_type": "stream",
     "text": [
      "time: 19 ms\n"
     ]
    }
   ],
   "source": [
    "edges=parqDF.select(\"user1\",\"user2\",\"transaction_type\").withColumnRenamed('user1','src').withColumnRenamed('user2','dst')\n"
   ]
  },
  {
   "cell_type": "code",
   "execution_count": 8,
   "metadata": {
    "scrolled": true
   },
   "outputs": [
    {
     "data": {
      "text/plain": [
       "GraphFrame(v:[id: int], e:[src: int, dst: int ... 1 more field])"
      ]
     },
     "metadata": {},
     "output_type": "display_data"
    },
    {
     "name": "stdout",
     "output_type": "stream",
     "text": [
      "time: 55.5 ms\n"
     ]
    }
   ],
   "source": [
    "g = GraphFrame(vertices, edges)\n",
    "display(g)"
   ]
  },
  {
   "cell_type": "code",
   "execution_count": 49,
   "metadata": {},
   "outputs": [
    {
     "data": {
      "text/html": [
       "<style scoped>\n",
       "  .ansiout {\n",
       "    display: block;\n",
       "    unicode-bidi: embed;\n",
       "    white-space: pre-wrap;\n",
       "    word-wrap: break-word;\n",
       "    word-break: break-all;\n",
       "    font-family: \"Source Code Pro\", \"Menlo\", monospace;;\n",
       "    font-size: 13px;\n",
       "    color: #555;\n",
       "    margin-left: 4px;\n",
       "    line-height: 19px;\n",
       "  }\n",
       "</style>\n",
       "<div class=\"ansiout\"></div>"
      ]
     },
     "metadata": {},
     "output_type": "display_data"
    }
   ],
   "source": [
    "results = g.pageRank(resetProbability=0.15, maxIter=1)"
   ]
  },
  {
   "cell_type": "code",
   "execution_count": 50,
   "metadata": {},
   "outputs": [
    {
     "data": {
      "text/html": [
       "<style scoped>\n",
       "  .table-result-container {\n",
       "    max-height: 300px;\n",
       "    overflow: auto;\n",
       "  }\n",
       "  table, th, td {\n",
       "    border: 1px solid black;\n",
       "    border-collapse: collapse;\n",
       "  }\n",
       "  th, td {\n",
       "    padding: 5px;\n",
       "  }\n",
       "  th {\n",
       "    text-align: left;\n",
       "  }\n",
       "</style><div class='table-result-container'><table class='table-result'><thead style='background-color: white'><tr><th>id</th><th>pagerank</th></tr></thead><tbody><tr><td>29</td><td>1.4618441015193646</td></tr><tr><td>964</td><td>0.47835650811778396</td></tr><tr><td>1697</td><td>3.165452844823862</td></tr><tr><td>2509</td><td>1.0080309558037592</td></tr><tr><td>3506</td><td>0.7460262156382368</td></tr><tr><td>4894</td><td>0.3581782720881929</td></tr><tr><td>5556</td><td>1.3196041603249213</td></tr><tr><td>6721</td><td>0.3101069776763565</td></tr><tr><td>21209</td><td>2.779102071217622</td></tr><tr><td>27255</td><td>1.927171909141187</td></tr><tr><td>27919</td><td>1.7201982804235578</td></tr><tr><td>29824</td><td>1.4215735727136651</td></tr><tr><td>32098</td><td>0.38488454676143535</td></tr><tr><td>33862</td><td>1.3196041603249213</td></tr><tr><td>34821</td><td>1.3196041603249213</td></tr><tr><td>35253</td><td>0.1979406240487382</td></tr><tr><td>37282</td><td>4.753140874148126</td></tr><tr><td>37884</td><td>0.6466060385592114</td></tr><tr><td>38108</td><td>3.7872639401325245</td></tr><tr><td>38287</td><td>0.8335499612719085</td></tr><tr><td>38510</td><td>0.1979406240487382</td></tr><tr><td>39627</td><td>2.50724790461735</td></tr><tr><td>40132</td><td>3.8032877049364693</td></tr><tr><td>41424</td><td>1.9739078898193612</td></tr><tr><td>42126</td><td>1.6934920057503156</td></tr><tr><td>42969</td><td>2.441267696601104</td></tr><tr><td>43367</td><td>3.200547628849597</td></tr><tr><td>43439</td><td>1.3997229843446488</td></tr><tr><td>45166</td><td>1.4629278344046557</td></tr><tr><td>45410</td><td>0.5718284694741326</td></tr><tr><td>46424</td><td>1.1326602376122241</td></tr><tr><td>47928</td><td>0.3101069776763565</td></tr><tr><td>49048</td><td>1.3196041603249213</td></tr><tr><td>49136</td><td>1.543936867580158</td></tr><tr><td>49967</td><td>0.7587723921868297</td></tr><tr><td>50124</td><td>0.9909115489619372</td></tr><tr><td>50329</td><td>1.5065480830376181</td></tr><tr><td>51428</td><td>0.7474424574769692</td></tr><tr><td>52051</td><td>0.7587723921868297</td></tr><tr><td>52743</td><td>1.9178247130055521</td></tr><tr><td>53509</td><td>0.7587723921868297</td></tr><tr><td>54579</td><td>0.5905228617454024</td></tr><tr><td>55474</td><td>0.8989803342213527</td></tr><tr><td>56242</td><td>1.3196041603249213</td></tr><tr><td>56553</td><td>1.631177364846083</td></tr><tr><td>56964</td><td>1.2928978856516786</td></tr><tr><td>57651</td><td>0.5258115038833148</td></tr><tr><td>58509</td><td>0.33814856608326105</td></tr><tr><td>58877</td><td>1.3038615142017467</td></tr><tr><td>60033</td><td>1.5016923967333928</td></tr><tr><td>60756</td><td>3.361426918098097</td></tr><tr><td>61251</td><td>1.1386788439610644</td></tr><tr><td>61597</td><td>1.4798418083643758</td></tr><tr><td>61679</td><td>0.4222733313039748</td></tr><tr><td>62419</td><td>0.9759149485685011</td></tr><tr><td>62989</td><td>0.945716314899527</td></tr><tr><td>64442</td><td>0.7587723921868297</td></tr><tr><td>64873</td><td>0.1979406240487382</td></tr><tr><td>65462</td><td>0.40187944882622606</td></tr><tr><td>65848</td><td>1.6934920057503156</td></tr><tr><td>66114</td><td>0.5718284694741326</td></tr><tr><td>67903</td><td>0.48685395915017926</td></tr><tr><td>68463</td><td>1.0391882762558755</td></tr><tr><td>69299</td><td>1.1201973094313777</td></tr><tr><td>69720</td><td>0.7587723921868297</td></tr><tr><td>71097</td><td>0.1979406240487382</td></tr><tr><td>72011</td><td>2.441267696601104</td></tr><tr><td>72926</td><td>2.6182807761157716</td></tr><tr><td>73287</td><td>1.3196041603249213</td></tr><tr><td>74185</td><td>0.38488454676143535</td></tr><tr><td>74783</td><td>0.5718284694741326</td></tr><tr><td>75411</td><td>0.7587723921868297</td></tr><tr><td>76448</td><td>0.7587723921868297</td></tr><tr><td>76746</td><td>1.4798418083643758</td></tr><tr><td>76901</td><td>5.4435385385039785</td></tr><tr><td>77540</td><td>1.3196041603249213</td></tr><tr><td>77953</td><td>0.32256990585720297</td></tr><tr><td>78365</td><td>0.3581782720881929</td></tr><tr><td>79035</td><td>2.0079942855582202</td></tr><tr><td>79336</td><td>0.47835650811778396</td></tr><tr><td>79418</td><td>0.2914125854050868</td></tr><tr><td>81068</td><td>0.7587723921868297</td></tr><tr><td>81085</td><td>0.5646383186005673</td></tr><tr><td>81482</td><td>0.6185644501523069</td></tr><tr><td>82097</td><td>0.9416214721711056</td></tr><tr><td>83620</td><td>1.9004656344679447</td></tr><tr><td>85760</td><td>0.6113742992787417</td></tr><tr><td>85990</td><td>1.8714040898218325</td></tr><tr><td>86453</td><td>1.0703455967079916</td></tr><tr><td>86791</td><td>0.6230154959311806</td></tr><tr><td>87631</td><td>2.441267696601104</td></tr><tr><td>87935</td><td>2.329101342973486</td></tr><tr><td>88058</td><td>4.852844299594898</td></tr><tr><td>89041</td><td>0.4222733313039748</td></tr><tr><td>91501</td><td>4.235929354642997</td></tr><tr><td>91628</td><td>1.3196041603249213</td></tr><tr><td>92206</td><td>2.80981428709185</td></tr><tr><td>92357</td><td>0.6029857899262487</td></tr><tr><td>92620</td><td>1.3644707017759687</td></tr><tr><td>94988</td><td>1.3196041603249213</td></tr><tr><td>95031</td><td>2.6216642745552003</td></tr><tr><td>95526</td><td>2.7144934297965846</td></tr><tr><td>96523</td><td>1.3196041603249213</td></tr><tr><td>96729</td><td>1.5065480830376181</td></tr><tr><td>97699</td><td>2.639939427985045</td></tr><tr><td>97702</td><td>1.9768596359674564</td></tr><tr><td>99060</td><td>0.8317695429603591</td></tr><tr><td>99893</td><td>2.441267696601104</td></tr><tr><td>101067</td><td>1.3196041603249213</td></tr><tr><td>101496</td><td>3.5812740183601446</td></tr><tr><td>102092</td><td>2.9420103467244</td></tr><tr><td>102613</td><td>2.6895296806766646</td></tr><tr><td>103496</td><td>0.7587723921868297</td></tr><tr><td>104473</td><td>2.1557916762781812</td></tr><tr><td>104498</td><td>2.70354546263689</td></tr><tr><td>104529</td><td>0.945716314899527</td></tr><tr><td>104986</td><td>1.3196041603249213</td></tr><tr><td>105784</td><td>1.444233442133386</td></tr><tr><td>106002</td><td>0.3340248030822457</td></tr><tr><td>106780</td><td>0.4222733313039748</td></tr><tr><td>107526</td><td>3.002099464739196</td></tr><tr><td>109014</td><td>0.7587723921868297</td></tr><tr><td>110729</td><td>0.7587723921868297</td></tr><tr><td>110942</td><td>0.7587723921868297</td></tr><tr><td>111609</td><td>5.150255085728734</td></tr><tr><td>113699</td><td>0.1979406240487382</td></tr><tr><td>113770</td><td>3.7274628309622435</td></tr><tr><td>114458</td><td>0.7587723921868297</td></tr><tr><td>115909</td><td>0.5718284694741326</td></tr><tr><td>116139</td><td>0.1979406240487382</td></tr><tr><td>116185</td><td>1.6934920057503156</td></tr><tr><td>117383</td><td>0.2999100364374821</td></tr><tr><td>118300</td><td>1.1326602376122241</td></tr><tr><td>118408</td><td>1.203876970074204</td></tr><tr><td>118628</td><td>3.0583331434688055</td></tr><tr><td>118721</td><td>2.06737985117571</td></tr><tr><td>118827</td><td>0.1979406240487382</td></tr><tr><td>119768</td><td>0.8709387458144481</td></tr><tr><td>120105</td><td>1.3196041603249213</td></tr><tr><td>121025</td><td>0.47835650811778396</td></tr><tr><td>122075</td><td>1.5648306001186358</td></tr><tr><td>122127</td><td>2.939218327099471</td></tr><tr><td>122961</td><td>5.151954575935214</td></tr><tr><td>123758</td><td>0.4471991876656678</td></tr><tr><td>126150</td><td>1.2635209835111123</td></tr><tr><td>126753</td><td>0.1979406240487382</td></tr><tr><td>127207</td><td>3.014660914091432</td></tr><tr><td>127525</td><td>0.627021437132167</td></tr><tr><td>127964</td><td>1.3196041603249213</td></tr><tr><td>129113</td><td>2.65556926654005</td></tr><tr><td>130991</td><td>0.33814856608326105</td></tr><tr><td>131111</td><td>0.27271819313381707</td></tr><tr><td>132353</td><td>1.6641397953134291</td></tr><tr><td>132648</td><td>1.3196041603249213</td></tr><tr><td>133107</td><td>0.7587723921868297</td></tr><tr><td>133142</td><td>3.8386735188785157</td></tr><tr><td>133164</td><td>0.2914125854050868</td></tr><tr><td>133480</td><td>0.1979406240487382</td></tr><tr><td>133904</td><td>0.1979406240487382</td></tr><tr><td>134319</td><td>0.5718284694741326</td></tr><tr><td>134532</td><td>0.7587723921868297</td></tr><tr><td>134582</td><td>2.800775240279368</td></tr><tr><td>135832</td><td>2.0050652102714777</td></tr><tr><td>136394</td><td>0.6466060385592114</td></tr><tr><td>136683</td><td>1.1713843358884257</td></tr><tr><td>136815</td><td>1.964115589105839</td></tr><tr><td>136996</td><td>4.2548074952143695</td></tr><tr><td>137114</td><td>0.4444600825709763</td></tr><tr><td>137147</td><td>1.358539733626816</td></tr><tr><td>138090</td><td>3.562931232877287</td></tr><tr><td>138620</td><td>0.4471991876656678</td></tr><tr><td>139071</td><td>0.1979406240487382</td></tr><tr><td>139812</td><td>0.4222733313039748</td></tr><tr><td>141409</td><td>0.3581782720881929</td></tr><tr><td>141552</td><td>0.9390397462312162</td></tr><tr><td>141756</td><td>1.307141232144075</td></tr><tr><td>142575</td><td>1.9930878507210539</td></tr><tr><td>142938</td><td>4.273318139185537</td></tr><tr><td>142956</td><td>0.38488454676143535</td></tr><tr><td>142984</td><td>1.9739078898193612</td></tr><tr><td>143308</td><td>3.562931232877287</td></tr><tr><td>146820</td><td>0.26392083206498423</td></tr><tr><td>147322</td><td>0.4710413111420697</td></tr><tr><td>147491</td><td>0.9270219226282572</td></tr><tr><td>147537</td><td>0.7587723921868297</td></tr><tr><td>147907</td><td>2.200911224541922</td></tr><tr><td>147924</td><td>2.975393190065953</td></tr><tr><td>148305</td><td>2.470028300095365</td></tr><tr><td>148347</td><td>0.7587723921868297</td></tr><tr><td>149005</td><td>1.1077343812505311</td></tr><tr><td>149272</td><td>0.32256990585720297</td></tr><tr><td>149368</td><td>2.4848879452340666</td></tr><tr><td>149407</td><td>0.38488454676143535</td></tr><tr><td>149550</td><td>0.1979406240487382</td></tr><tr><td>149992</td><td>2.441267696601104</td></tr><tr><td>150285</td><td>0.3581782720881929</td></tr><tr><td>151197</td><td>5.704774461671333</td></tr><tr><td>151583</td><td>1.3196041603249213</td></tr><tr><td>152541</td><td>0.1979406240487382</td></tr><tr><td>152783</td><td>0.7427486273828843</td></tr><tr><td>152892</td><td>1.1460133749488455</td></tr><tr><td>153306</td><td>2.0758773022081054</td></tr><tr><td>154017</td><td>2.9211951620526087</td></tr><tr><td>154377</td><td>0.7354044018477426</td></tr><tr><td>156454</td><td>0.5718284694741326</td></tr><tr><td>156778</td><td>1.8804359284630128</td></tr><tr><td>156805</td><td>3.9387613528243723</td></tr><tr><td>156892</td><td>2.8325550846166414</td></tr><tr><td>157324</td><td>0.3581782720881929</td></tr><tr><td>157916</td><td>0.44391946972333973</td></tr><tr><td>158106</td><td>0.1979406240487382</td></tr><tr><td>158747</td><td>0.1979406240487382</td></tr><tr><td>159308</td><td>0.1979406240487382</td></tr><tr><td>160820</td><td>0.7587723921868297</td></tr><tr><td>160975</td><td>0.1979406240487382</td></tr><tr><td>161095</td><td>0.2914125854050868</td></tr><tr><td>161468</td><td>2.690526260218034</td></tr><tr><td>161889</td><td>0.8989803342213527</td></tr><tr><td>162781</td><td>1.3756873371387304</td></tr><tr><td>162830</td><td>0.945716314899527</td></tr><tr><td>163182</td><td>0.33814856608326105</td></tr><tr><td>163631</td><td>0.23948371798489312</td></tr><tr><td>164071</td><td>0.1979406240487382</td></tr><tr><td>164474</td><td>1.8056583593779338</td></tr><tr><td>166285</td><td>1.3196041603249213</td></tr><tr><td>166578</td><td>0.34424456356302297</td></tr><tr><td>166887</td><td>0.4222733313039748</td></tr><tr><td>166943</td><td>0.7587723921868297</td></tr><tr><td>167219</td><td>0.26392083206498423</td></tr><tr><td>167420</td><td>2.56164230229741</td></tr><tr><td>167440</td><td>0.1979406240487382</td></tr><tr><td>167480</td><td>0.47835650811778396</td></tr><tr><td>167813</td><td>1.0391882762558755</td></tr><tr><td>168079</td><td>2.4893389910129406</td></tr><tr><td>168303</td><td>1.1326602376122241</td></tr><tr><td>168808</td><td>0.2842224345315215</td></tr><tr><td>169055</td><td>1.6191169475036131</td></tr><tr><td>169731</td><td>2.441267696601104</td></tr><tr><td>169935</td><td>3.759011512715041</td></tr><tr><td>169990</td><td>1.0454197403462988</td></tr><tr><td>170393</td><td>0.38488454676143535</td></tr><tr><td>170678</td><td>1.3196041603249213</td></tr><tr><td>170880</td><td>0.609217254016672</td></tr><tr><td>172188</td><td>1.6083130454767105</td></tr><tr><td>172267</td><td>0.47835650811778396</td></tr><tr><td>172641</td><td>0.1979406240487382</td></tr><tr><td>173355</td><td>1.9285072228748488</td></tr><tr><td>173791</td><td>4.919609986278004</td></tr><tr><td>173912</td><td>3.1756902501152715</td></tr><tr><td>173929</td><td>0.33814856608326105</td></tr><tr><td>174215</td><td>1.4504649062238093</td></tr><tr><td>176501</td><td>0.945716314899527</td></tr><tr><td>176733</td><td>2.934119856480033</td></tr><tr><td>176741</td><td>2.6375588154494363</td></tr><tr><td>176843</td><td>0.3750453929344513</td></tr><tr><td>177473</td><td>0.1979406240487382</td></tr><tr><td>177674</td><td>1.1059539629389816</td></tr><tr><td>178443</td><td>1.7255395353582064</td></tr><tr><td>178648</td><td>0.4222733313039748</td></tr><tr><td>179448</td><td>0.7587723921868297</td></tr><tr><td>179838</td><td>1.5563997957610045</td></tr><tr><td>180163</td><td>1.7019604056680702</td></tr><tr><td>180524</td><td>3.337040659599445</td></tr><tr><td>181418</td><td>1.7510132127388376</td></tr><tr><td>182711</td><td>0.7587723921868297</td></tr><tr><td>184067</td><td>1.773140142279739</td></tr><tr><td>184212</td><td>2.820496796961148</td></tr><tr><td>184408</td><td>2.2995671699649507</td></tr><tr><td>184637</td><td>1.8991303207342825</td></tr><tr><td>184659</td><td>2.1608518125320586</td></tr><tr><td>185096</td><td>1.469159298495079</td></tr><tr><td>185623</td><td>1.9552134975480915</td></tr><tr><td>186376</td><td>5.2329636091107155</td></tr><tr><td>186507</td><td>0.7587723921868297</td></tr><tr><td>186702</td><td>2.6282116193138014</td></tr><tr><td>188058</td><td>1.8443824576541354</td></tr><tr><td>188945</td><td>0.4650033707811627</td></tr><tr><td>189248</td><td>0.6519472934938599</td></tr><tr><td>190361</td><td>0.3661901544901656</td></tr><tr><td>191307</td><td>0.8621413847456153</td></tr><tr><td>191541</td><td>0.6653004308304812</td></tr><tr><td>191706</td><td>0.5718284694741326</td></tr><tr><td>191910</td><td>1.158993913430674</td></tr><tr><td>191998</td><td>0.1979406240487382</td></tr><tr><td>192044</td><td>3.5423879446671007</td></tr><tr><td>192077</td><td>2.4228777676562987</td></tr><tr><td>192954</td><td>2.441267696601104</td></tr><tr><td>193133</td><td>3.562931232877287</td></tr><tr><td>193230</td><td>1.5202093696973922</td></tr><tr><td>193959</td><td>3.971881637562597</td></tr><tr><td>194308</td><td>1.4598121023594441</td></tr><tr><td>194630</td><td>0.2999100364374821</td></tr><tr><td>194873</td><td>4.6285115923396605</td></tr><tr><td>195002</td><td>0.945716314899527</td></tr><tr><td>195467</td><td>1.2822153757823818</td></tr><tr><td>196029</td><td>0.47835650811778396</td></tr><tr><td>196481</td><td>0.5718284694741326</td></tr><tr><td>199209</td><td>1.3196041603249213</td></tr><tr><td>199567</td><td>1.3196041603249213</td></tr><tr><td>199800</td><td>0.7587723921868297</td></tr><tr><td>200121</td><td>1.3196041603249213</td></tr><tr><td>200565</td><td>2.6095172270425318</td></tr><tr><td>201532</td><td>3.1360759426832954</td></tr><tr><td>201833</td><td>1.8181212875587802</td></tr><tr><td>202669</td><td>0.2914125854050868</td></tr><tr><td>203380</td><td>3.3759873101645903</td></tr><tr><td>203455</td><td>0.1979406240487382</td></tr><tr><td>203492</td><td>0.47835650811778396</td></tr><tr><td>203611</td><td>0.7572316455710657</td></tr><tr><td>203689</td><td>2.419371602956718</td></tr><tr><td>204535</td><td>0.5718284694741326</td></tr><tr><td>204824</td><td>1.4376740062487299</td></tr><tr><td>205025</td><td>0.3581782720881929</td></tr><tr><td>205046</td><td>1.1326602376122241</td></tr><tr><td>205080</td><td>0.5406711490220164</td></tr><tr><td>205173</td><td>0.7971495527851986</td></tr><tr><td>206429</td><td>0.1979406240487382</td></tr><tr><td>206495</td><td>2.207587793210233</td></tr><tr><td>206745</td><td>1.4921677812904877</td></tr><tr><td>207159</td><td>3.0857791253820217</td></tr><tr><td>208780</td><td>0.7587723921868297</td></tr><tr><td>209155</td><td>0.6429082466813778</td></tr><tr><td>209231</td><td>0.4182673901029884</td></tr><tr><td>210085</td><td>1.1142625817262126</td></tr><tr><td>210958</td><td>0.27271819313381707</td></tr><tr><td>211117</td><td>1.3196041603249213</td></tr><tr><td>211901</td><td>0.4471991876656678</td></tr><tr><td>212612</td><td>0.7120364115086555</td></tr><tr><td>212617</td><td>0.5718284694741326</td></tr><tr><td>214552</td><td>0.41307450336096907</td></tr><tr><td>214619</td><td>0.5184159201276476</td></tr><tr><td>214880</td><td>4.867055421321474</td></tr><tr><td>215226</td><td>2.6568302873622467</td></tr><tr><td>215485</td><td>1.581325652122697</td></tr><tr><td>215619</td><td>2.6656004038563403</td></tr><tr><td>216094</td><td>2.441267696601104</td></tr><tr><td>216302</td><td>1.4798418083643758</td></tr><tr><td>216482</td><td>0.1979406240487382</td></tr><tr><td>216618</td><td>0.9251730266893404</td></tr><tr><td>217480</td><td>1.2199007348781494</td></tr><tr><td>217616</td><td>0.38488454676143535</td></tr><tr><td>217755</td><td>4.460262061898234</td></tr><tr><td>218454</td><td>2.5721284424999924</td></tr><tr><td>218644</td><td>1.3196041603249213</td></tr><tr><td>219571</td><td>2.7216835806701507</td></tr><tr><td>219750</td><td>0.8019132974282214</td></tr><tr><td>221465</td><td>2.0540267138390886</td></tr><tr><td>221764</td><td>0.8607418045755738</td></tr><tr><td>221800</td><td>2.93964319965109</td></tr><tr><td>222411</td><td>0.9190100402262844</td></tr><tr><td>222727</td><td>1.8804359284630128</td></tr><tr><td>223396</td><td>1.0952714530696848</td></tr><tr><td>223831</td><td>0.838891216206557</td></tr><tr><td>224115</td><td>0.1979406240487382</td></tr><tr><td>224284</td><td>0.47835650811778396</td></tr><tr><td>224295</td><td>1.339633866329853</td></tr><tr><td>224850</td><td>1.0952714530696848</td></tr><tr><td>225125</td><td>1.2928978856516786</td></tr><tr><td>225350</td><td>2.901437352509282</td></tr><tr><td>225589</td><td>0.6207899730417438</td></tr><tr><td>225635</td><td>3.053731595774131</td></tr><tr><td>225692</td><td>2.441267696601104</td></tr><tr><td>226175</td><td>1.9151540855382276</td></tr><tr><td>226542</td><td>2.7144934297965846</td></tr><tr><td>226961</td><td>0.1979406240487382</td></tr><tr><td>227555</td><td>0.4970509003890537</td></tr><tr><td>228965</td><td>0.32256990585720297</td></tr><tr><td>229318</td><td>0.1979406240487382</td></tr><tr><td>229595</td><td>1.2074378066973028</td></tr><tr><td>229723</td><td>1.600020044393967</td></tr><tr><td>230969</td><td>1.4921677812904877</td></tr><tr><td>232350</td><td>1.8804359284630128</td></tr><tr><td>232367</td><td>0.1979406240487382</td></tr><tr><td>232909</td><td>2.9086275033828475</td></tr><tr><td>233029</td><td>0.1979406240487382</td></tr><tr><td>233176</td><td>0.47835650811778396</td></tr><tr><td>233633</td><td>2.2276174992151647</td></tr><tr><td>233754</td><td>4.377472610411182</td></tr><tr><td>234293</td><td>2.192009132984175</td></tr><tr><td>234628</td><td>0.31960254200462046</td></tr><tr><td>235668</td><td>0.47835650811778396</td></tr><tr><td>236505</td><td>0.9995646309656219</td></tr><tr><td>237036</td><td>0.47835650811778396</td></tr><tr><td>237632</td><td>0.7587723921868297</td></tr><tr><td>237846</td><td>1.939470851424917</td></tr><tr><td>238505</td><td>2.6762829137256383</td></tr><tr><td>239223</td><td>0.8743984223062091</td></tr><tr><td>239267</td><td>3.517753118221719</td></tr><tr><td>239542</td><td>1.3196041603249213</td></tr><tr><td>239625</td><td>0.4222733313039748</td></tr><tr><td>240190</td><td>2.70298918839888</td></tr><tr><td>240535</td><td>0.2299881536566291</td></tr><tr><td>240792</td><td>3.3060466360280714</td></tr><tr><td>241256</td><td>0.47835650811778396</td></tr><tr><td>241525</td><td>0.7587723921868297</td></tr><tr><td>241557</td><td>0.1979406240487382</td></tr><tr><td>241649</td><td>1.4058859708077047</td></tr><tr><td>241812</td><td>0.1979406240487382</td></tr><tr><td>241966</td><td>0.8949743930203664</td></tr><tr><td>242209</td><td>1.7041745156196124</td></tr><tr><td>242657</td><td>1.2195412273344712</td></tr><tr><td>242694</td><td>4.404178885084425</td></tr><tr><td>243715</td><td>1.3196041603249213</td></tr><tr><td>244635</td><td>3.4133760947071288</td></tr><tr><td>244729</td><td>0.27805944806846555</td></tr><tr><td>245355</td><td>0.3926738768744644</td></tr><tr><td>245786</td><td>4.389935538592028</td></tr><tr><td>246155</td><td>1.5175447843736594</td></tr><tr><td>246459</td><td>1.2572895194206888</td></tr><tr><td>246564</td><td>0.8366656933171203</td></tr><tr><td>246743</td><td>0.1979406240487382</td></tr><tr><td>247164</td><td>1.8804359284630128</td></tr><tr><td>247942</td><td>4.131552331128408</td></tr><tr><td>248743</td><td>1.5065480830376186</td></tr><tr><td>250267</td><td>0.3288013699476262</td></tr><tr><td>250622</td><td>0.33814856608326105</td></tr><tr><td>250722</td><td>0.3581782720881929</td></tr><tr><td>250780</td><td>0.7868139805937343</td></tr><tr><td>251310</td><td>1.9926022820906308</td></tr><tr><td>251605</td><td>0.5250924887959582</td></tr><tr><td>251719</td><td>0.8768422381106384</td></tr><tr><td>253804</td><td>0.1979406240487382</td></tr><tr><td>253919</td><td>0.7988318041966934</td></tr><tr><td>255774</td><td>1.2012063426068798</td></tr><tr><td>255951</td><td>3.6750975865049056</td></tr><tr><td>256588</td><td>1.8804359284630128</td></tr><tr><td>257944</td><td>0.2999100364374821</td></tr><tr><td>257952</td><td>1.5719784559870622</td></tr><tr><td>258074</td><td>1.6934920057503158</td></tr><tr><td>258658</td><td>0.1979406240487382</td></tr><tr><td>260113</td><td>2.5173525658450133</td></tr><tr><td>260708</td><td>1.4598121023594441</td></tr><tr><td>261285</td><td>0.6572885484285084</td></tr><tr><td>261416</td><td>1.8804359284630128</td></tr><tr><td>261510</td><td>0.5718284694741326</td></tr><tr><td>261648</td><td>3.562931232877287</td></tr><tr><td>261742</td><td>4.225732413404123</td></tr><tr><td>261936</td><td>0.1979406240487382</td></tr><tr><td>262257</td><td>0.9550635110351618</td></tr><tr><td>262331</td><td>0.33814856608326105</td></tr><tr><td>264267</td><td>1.600020044393967</td></tr><tr><td>264863</td><td>3.10406887712794</td></tr><tr><td>265097</td><td>4.054933647652977</td></tr><tr><td>265265</td><td>0.33814856608326105</td></tr><tr><td>266206</td><td>1.41307612168127</td></tr><tr><td>266464</td><td>2.441267696601104</td></tr><tr><td>266856</td><td>0.7587723921868297</td></tr><tr><td>267325</td><td>1.9739078898193612</td></tr><tr><td>268388</td><td>0.6586238621621706</td></tr><tr><td>268479</td><td>0.1979406240487382</td></tr><tr><td>268490</td><td>0.1979406240487382</td></tr><tr><td>268529</td><td>0.7587723921868297</td></tr><tr><td>268982</td><td>2.925047815901638</td></tr><tr><td>269333</td><td>0.5718284694741326</td></tr><tr><td>269430</td><td>4.235929354642997</td></tr><tr><td>269580</td><td>0.8335499612719085</td></tr><tr><td>269850</td><td>2.4268873948539733</td></tr><tr><td>270227</td><td>0.1979406240487382</td></tr><tr><td>270992</td><td>0.5718284694741326</td></tr><tr><td>271186</td><td>0.4222733313039748</td></tr><tr><td>272238</td><td>0.1979406240487382</td></tr><tr><td>272659</td><td>0.22825585475890534</td></tr><tr><td>273145</td><td>0.1979406240487382</td></tr><tr><td>274189</td><td>1.3196041603249213</td></tr><tr><td>274449</td><td>0.4222733313039748</td></tr><tr><td>274548</td><td>0.5469026131124396</td></tr><tr><td>274785</td><td>0.8834016739952947</td></tr><tr><td>274800</td><td>1.9178247130055521</td></tr><tr><td>274873</td><td>1.2870139363653816</td></tr><tr><td>275968</td><td>1.0009497466100965</td></tr><tr><td>276219</td><td>0.1979406240487382</td></tr><tr><td>276582</td><td>2.009858644187188</td></tr><tr><td>276813</td><td>1.3196041603249213</td></tr><tr><td>276858</td><td>0.1979406240487382</td></tr><tr><td>277548</td><td>0.1979406240487382</td></tr><tr><td>278205</td><td>4.565760612395473</td></tr><tr><td>279978</td><td>3.4694592715209387</td></tr><tr><td>280420</td><td>0.1979406240487382</td></tr><tr><td>281228</td><td>0.9831050994420664</td></tr><tr><td>281332</td><td>2.2276174992151647</td></tr><tr><td>281801</td><td>1.3614844546988696</td></tr><tr><td>282235</td><td>0.1979406240487382</td></tr><tr><td>282697</td><td>0.1979406240487382</td></tr><tr><td>283017</td><td>2.8525443265690384</td></tr><tr><td>283197</td><td>0.7587723921868297</td></tr><tr><td>283271</td><td>0.8834016739952947</td></tr><tr><td>283857</td><td>1.3596635723347852</td></tr><tr><td>284028</td><td>0.4222733313039748</td></tr><tr><td>285311</td><td>3.319054388247541</td></tr><tr><td>285720</td><td>1.3196041603249213</td></tr><tr><td>285900</td><td>0.49838621412271583</td></tr><tr><td>286679</td><td>0.7307308037799252</td></tr><tr><td>286745</td><td>3.800710456051919</td></tr><tr><td>286768</td><td>0.1979406240487382</td></tr><tr><td>287497</td><td>0.6068804549827632</td></tr><tr><td>287607</td><td>0.47835650811778396</td></tr><tr><td>287904</td><td>2.449395693240787</td></tr><tr><td>288038</td><td>0.2602552649529706</td></tr><tr><td>288070</td><td>2.889933111111578</td></tr><tr><td>288786</td><td>0.1979406240487382</td></tr><tr><td>289627</td><td>3.5185936555606814</td></tr><tr><td>289753</td><td>0.4222733313039748</td></tr><tr><td>289920</td><td>3.0020994647391963</td></tr><tr><td>290395</td><td>0.47835650811778396</td></tr><tr><td>290964</td><td>0.1979406240487382</td></tr><tr><td>291248</td><td>0.1979406240487382</td></tr><tr><td>291726</td><td>1.2635209835111123</td></tr><tr><td>292244</td><td>3.255809074134999</td></tr><tr><td>292265</td><td>1.0641141326175685</td></tr><tr><td>292333</td><td>1.8391439191605379</td></tr><tr><td>292486</td><td>0.30648870820449786</td></tr><tr><td>292569</td><td>1.021801184143436</td></tr><tr><td>293786</td><td>0.3101069776763565</td></tr><tr><td>293958</td><td>0.7757672942516204</td></tr><tr><td>294431</td><td>2.6048436289747143</td></tr><tr><td>295368</td><td>0.7587723921868297</td></tr><tr><td>295586</td><td>3.2415314888289197</td></tr><tr><td>295685</td><td>0.7961611767293691</td></tr><tr><td>295729</td><td>0.22670122754299932</td></tr><tr><td>296313</td><td>0.1979406240487382</td></tr><tr><td>296439</td><td>0.1979406240487382</td></tr><tr><td>296503</td><td>1.2595150423101258</td></tr><tr><td>296974</td><td>0.5718284694741326</td></tr><tr><td>297366</td><td>4.129384391698348</td></tr><tr><td>298472</td><td>0.9255118912270236</td></tr><tr><td>298746</td><td>0.4222733313039748</td></tr><tr><td>299097</td><td>0.8428971574075435</td></tr><tr><td>299564</td><td>0.9910941559682501</td></tr><tr><td>299914</td><td>0.38488454676143535</td></tr><tr><td>300208</td><td>4.956998770820544</td></tr><tr><td>300745</td><td>1.3196041603249213</td></tr><tr><td>301127</td><td>1.0391882762558755</td></tr><tr><td>301498</td><td>2.982222161447016</td></tr><tr><td>302708</td><td>3.082218288758923</td></tr><tr><td>303677</td><td>0.8750930552080636</td></tr><tr><td>303728</td><td>0.1979406240487382</td></tr><tr><td>303986</td><td>2.108922945111865</td></tr><tr><td>304613</td><td>0.38488454676143535</td></tr><tr><td>304790</td><td>3.5881201055804586</td></tr><tr><td>305184</td><td>0.7587723921868297</td></tr><tr><td>306523</td><td>2.895274366046226</td></tr><tr><td>306578</td><td>0.32256990585720297</td></tr><tr><td>306827</td><td>0.1979406240487382</td></tr><tr><td>306921</td><td>0.5718284694741326</td></tr><tr><td>307267</td><td>1.5005998673149419</td></tr><tr><td>307595</td><td>1.3196041603249213</td></tr><tr><td>307749</td><td>1.302199036486153</td></tr><tr><td>308305</td><td>2.3851845197872956</td></tr><tr><td>308558</td><td>0.1979406240487382</td></tr><tr><td>308710</td><td>1.7274818098798967</td></tr><tr><td>308910</td><td>0.7320661175135872</td></tr><tr><td>309128</td><td>0.8178073151487342</td></tr><tr><td>309159</td><td>2.3075137709459486</td></tr><tr><td>309544</td><td>2.3171177581842106</td></tr><tr><td>310505</td><td>1.2928978856516786</td></tr><tr><td>310728</td><td>1.4317705139525396</td></tr><tr><td>310984</td><td>0.4471991876656678</td></tr><tr><td>311871</td><td>1.0765770607984149</td></tr><tr><td>312975</td><td>5.058482614578865</td></tr><tr><td>313680</td><td>1.3196041603249213</td></tr><tr><td>314163</td><td>0.5718284694741326</td></tr><tr><td>314481</td><td>0.7587723921868297</td></tr><tr><td>314705</td><td>0.1979406240487382</td></tr><tr><td>314870</td><td>0.2914125854050868</td></tr><tr><td>314979</td><td>1.1407882342519065</td></tr><tr><td>315237</td><td>0.945716314899527</td></tr><tr><td>315835</td><td>1.8804359284630128</td></tr><tr><td>315844</td><td>0.3999260118072846</td></tr><tr><td>316087</td><td>0.3101069776763565</td></tr><tr><td>316366</td><td>1.0641141326175685</td></tr><tr><td>317543</td><td>1.9739078898193612</td></tr><tr><td>317757</td><td>1.4223226154237172</td></tr><tr><td>318541</td><td>0.1979406240487382</td></tr><tr><td>318935</td><td>0.4471991876656678</td></tr><tr><td>319854</td><td>1.081968575382027</td></tr><tr><td>321618</td><td>0.1979406240487382</td></tr><tr><td>322755</td><td>3.899430293760142</td></tr><tr><td>323033</td><td>1.705954933931162</td></tr><tr><td>323353</td><td>0.6423676338337413</td></tr><tr><td>323510</td><td>0.2602552649529706</td></tr><tr><td>323863</td><td>0.4970509003890537</td></tr><tr><td>324317</td><td>2.441267696601104</td></tr><tr><td>324321</td><td>3.890083097624508</td></tr><tr><td>324572</td><td>0.5471837317932106</td></tr><tr><td>324863</td><td>0.1979406240487382</td></tr><tr><td>325281</td><td>0.5825109793434295</td></tr><tr><td>325638</td><td>1.4376740062487299</td></tr><tr><td>326012</td><td>0.1979406240487382</td></tr><tr><td>326168</td><td>0.3101069776763565</td></tr><tr><td>326638</td><td>0.8522443535431783</td></tr><tr><td>327084</td><td>0.3101069776763565</td></tr><tr><td>327408</td><td>1.7682695748353945</td></tr><tr><td>327580</td><td>1.9463518700428792</td></tr><tr><td>327812</td><td>1.5377054034897346</td></tr><tr><td>328290</td><td>0.7774667844580995</td></tr><tr><td>328499</td><td>0.6964577512825973</td></tr><tr><td>328590</td><td>3.8980265023991123</td></tr><tr><td>328967</td><td>1.0566765787031924</td></tr><tr><td>329158</td><td>1.051651204436722</td></tr><tr><td>329429</td><td>1.3196041603249213</td></tr><tr><td>329681</td><td>4.031800524749257</td></tr><tr><td>330718</td><td>0.5718284694741326</td></tr><tr><td>330816</td><td>0.5905228617454024</td></tr><tr><td>331354</td><td>0.5184159201276476</td></tr><tr><td>331540</td><td>1.4058859708077047</td></tr><tr><td>332202</td><td>0.8915182868861821</td></tr><tr><td>332232</td><td>2.875912316908125</td></tr><tr><td>332976</td><td>0.1979406240487382</td></tr><tr><td>333313</td><td>0.5718284694741326</td></tr><tr><td>333318</td><td>3.1423074067737184</td></tr><tr><td>334697</td><td>0.74007799991556</td></tr><tr><td>335634</td><td>3.600300201933126</td></tr><tr><td>335853</td><td>2.768419561348325</td></tr><tr><td>336122</td><td>4.411968215197454</td></tr><tr><td>336828</td><td>0.7587723921868297</td></tr><tr><td>337862</td><td>1.1030196782967674</td></tr><tr><td>338532</td><td>0.1979406240487382</td></tr><tr><td>338628</td><td>0.1979406240487382</td></tr><tr><td>339134</td><td>0.7587723921868297</td></tr><tr><td>339214</td><td>0.1979406240487382</td></tr><tr><td>339342</td><td>0.5718284694741326</td></tr><tr><td>339828</td><td>0.4222733313039748</td></tr><tr><td>339881</td><td>0.6653004308304812</td></tr><tr><td>344426</td><td>3.6483913118316633</td></tr><tr><td>345256</td><td>1.5383901797634074</td></tr><tr><td>345827</td><td>1.9472016151461187</td></tr><tr><td>345896</td><td>1.8118898234683571</td></tr><tr><td>346762</td><td>0.5718284694741326</td></tr><tr><td>347116</td><td>0.1979406240487382</td></tr><tr><td>347586</td><td>0.38488454676143535</td></tr><tr><td>347763</td><td>0.945716314899527</td></tr><tr><td>348882</td><td>0.5250924887959582</td></tr><tr><td>349137</td><td>1.219455630300262</td></tr><tr><td>349779</td><td>0.1979406240487382</td></tr><tr><td>350171</td><td>0.1979406240487382</td></tr><tr><td>350406</td><td>0.7205338625410508</td></tr><tr><td>350981</td><td>0.32256990585720297</td></tr><tr><td>351121</td><td>0.8963501708065638</td></tr><tr><td>351210</td><td>1.730880790292855</td></tr><tr><td>352038</td><td>0.23948371798489312</td></tr><tr><td>352804</td><td>1.6561032212077762</td></tr><tr><td>352987</td><td>1.1700490221547637</td></tr><tr><td>354422</td><td>1.7664891565238452</td></tr><tr><td>355846</td><td>3.0810313432178904</td></tr><tr><td>356833</td><td>1.8003171044432853</td></tr><tr><td>357547</td><td>0.8151388173683854</td></tr><tr><td>357906</td><td>1.323205461000555</td></tr><tr><td>358146</td><td>2.1608518125320586</td></tr><tr><td>358184</td><td>0.920790458537834</td></tr><tr><td>358302</td><td>0.5157452926603234</td></tr><tr><td>358451</td><td>0.7235406529063599</td></tr><tr><td>358539</td><td>2.341119166576445</td></tr><tr><td>358824</td><td>1.9152588160271424</td></tr><tr><td>359147</td><td>4.7183904923070905</td></tr><tr><td>359814</td><td>2.4693092850080087</td></tr><tr><td>360185</td><td>0.4222733313039748</td></tr><tr><td>361392</td><td>0.1979406240487382</td></tr><tr><td>361940</td><td>1.0792476882657391</td></tr><tr><td>362565</td><td>1.9080837234068753</td></tr><tr><td>362657</td><td>2.7216835806701503</td></tr><tr><td>363128</td><td>3.38660134240652</td></tr><tr><td>363174</td><td>0.27805944806846555</td></tr><tr><td>363321</td><td>1.3196041603249213</td></tr><tr><td>365257</td><td>4.620199799901251</td></tr><tr><td>365460</td><td>2.441267696601104</td></tr><tr><td>368416</td><td>0.7676744837445771</td></tr><tr><td>368520</td><td>1.0962971103171035</td></tr><tr><td>369545</td><td>0.1979406240487382</td></tr><tr><td>369598</td><td>0.1979406240487382</td></tr><tr><td>370331</td><td>0.5344396849315932</td></tr><tr><td>370339</td><td>0.47835650811778396</td></tr><tr><td>370688</td><td>0.1979406240487382</td></tr><tr><td>370849</td><td>2.293001826863448</td></tr><tr><td>370875</td><td>0.32256990585720297</td></tr><tr><td>370987</td><td>1.3196041603249213</td></tr><tr><td>371174</td><td>2.5845913706808386</td></tr><tr><td>371465</td><td>0.33814856608326105</td></tr><tr><td>372158</td><td>0.1979406240487382</td></tr><tr><td>373595</td><td>0.1979406240487382</td></tr><tr><td>374036</td><td>1.730880790292855</td></tr><tr><td>374960</td><td>0.7587723921868297</td></tr><tr><td>375564</td><td>2.006236538108023</td></tr><tr><td>375813</td><td>0.5718284694741326</td></tr><tr><td>376043</td><td>1.2261321989685727</td></tr><tr><td>376818</td><td>0.8522443535431784</td></tr><tr><td>376979</td><td>0.47835650811778396</td></tr><tr><td>377221</td><td>0.1979406240487382</td></tr><tr><td>378588</td><td>1.0391882762558755</td></tr><tr><td>378932</td><td>0.1979406240487382</td></tr><tr><td>379398</td><td>0.7587723921868297</td></tr><tr><td>380085</td><td>0.5718284694741326</td></tr><tr><td>380424</td><td>0.1979406240487382</td></tr><tr><td>380719</td><td>0.609217254016672</td></tr><tr><td>381229</td><td>1.074877570591936</td></tr><tr><td>381602</td><td>4.6845947691534695</td></tr><tr><td>381779</td><td>0.7766796521519407</td></tr><tr><td>382659</td><td>1.8804359284630128</td></tr><tr><td>382797</td><td>0.7587723921868297</td></tr><tr><td>383089</td><td>0.8625626869396584</td></tr><tr><td>384003</td><td>0.1979406240487382</td></tr><tr><td>384548</td><td>5.432370460004259</td></tr><tr><td>385584</td><td>0.7587723921868297</td></tr><tr><td>385824</td><td>0.5309835787974087</td></tr><tr><td>385896</td><td>1.3196041603249213</td></tr><tr><td>386038</td><td>4.204772034190881</td></tr><tr><td>387243</td><td>0.1979406240487382</td></tr><tr><td>387253</td><td>0.47835650811778396</td></tr><tr><td>388529</td><td>0.8068156730238341</td></tr><tr><td>390098</td><td>3.189043387451893</td></tr><tr><td>390298</td><td>0.838891216206557</td></tr><tr><td>390615</td><td>1.3196041603249213</td></tr><tr><td>391348</td><td>0.7587723921868297</td></tr><tr><td>391584</td><td>0.1979406240487382</td></tr><tr><td>392058</td><td>0.38488454676143535</td></tr><tr><td>392484</td><td>2.254323773888407</td></tr><tr><td>393270</td><td>4.170498981693553</td></tr><tr><td>393276</td><td>1.2617597507417129</td></tr><tr><td>393293</td><td>0.2999100364374821</td></tr><tr><td>393775</td><td>0.7026892153730205</td></tr><tr><td>393998</td><td>1.3163244423825933</td></tr><tr><td>394004</td><td>0.3661901544901656</td></tr><tr><td>394336</td><td>2.441267696601104</td></tr><tr><td>395074</td><td>1.387583768584084</td></tr><tr><td>395282</td><td>3.5731494211270247</td></tr><tr><td>396560</td><td>1.3196041603249213</td></tr><tr><td>396577</td><td>0.1979406240487382</td></tr><tr><td>396792</td><td>1.4566963703142326</td></tr><tr><td>396803</td><td>2.4853735138644897</td></tr><tr><td>396812</td><td>1.0391882762558755</td></tr><tr><td>396869</td><td>1.0703455967079916</td></tr><tr><td>397141</td><td>1.9365191052768218</td></tr><tr><td>399172</td><td>0.7587723921868297</td></tr><tr><td>399258</td><td>1.8804359284630128</td></tr><tr><td>400779</td><td>0.7320661175135872</td></tr><tr><td>401100</td><td>0.5624812733384977</td></tr><tr><td>402171</td><td>3.10406887712794</td></tr><tr><td>403424</td><td>2.0523186877831487</td></tr><tr><td>403803</td><td>0.1979406240487382</td></tr><tr><td>404003</td><td>0.1979406240487382</td></tr><tr><td>404033</td><td>0.7587723921868297</td></tr><tr><td>404215</td><td>0.47835650811778396</td></tr><tr><td>404250</td><td>0.1979406240487382</td></tr><tr><td>404512</td><td>2.5080333832842103</td></tr><tr><td>404784</td><td>0.47835650811778396</td></tr><tr><td>404952</td><td>1.047685727288271</td></tr><tr><td>405125</td><td>1.4660912030602098</td></tr><tr><td>405553</td><td>1.047685727288271</td></tr><tr><td>405736</td><td>0.1979406240487382</td></tr><tr><td>405912</td><td>0.1979406240487382</td></tr><tr><td>406576</td><td>2.601505344640559</td></tr><tr><td>406688</td><td>0.5684901851399772</td></tr><tr><td>406910</td><td>2.274353479893339</td></tr><tr><td>406983</td><td>2.7556162590785056</td></tr><tr><td>407248</td><td>1.3196041603249213</td></tr><tr><td>407327</td><td>4.6374136838974085</td></tr><tr><td>407447</td><td>3.562931232877287</td></tr><tr><td>407721</td><td>1.4798418083643758</td></tr><tr><td>408875</td><td>0.7933535940073103</td></tr><tr><td>410089</td><td>1.3196041603249213</td></tr><tr><td>410504</td><td>1.3351828205509793</td></tr><tr><td>410525</td><td>0.47835650811778396</td></tr><tr><td>410876</td><td>0.1979406240487382</td></tr><tr><td>411134</td><td>0.6768576679571916</td></tr><tr><td>411608</td><td>3.790929507244538</td></tr><tr><td>411907</td><td>2.273018166159677</td></tr><tr><td>412820</td><td>1.8492786080108963</td></tr><tr><td>413745</td><td>0.2842224345315215</td></tr><tr><td>413787</td><td>1.200825504465372</td></tr><tr><td>414556</td><td>1.3196041603249213</td></tr><tr><td>415135</td><td>0.36477844981064184</td></tr><tr><td>415536</td><td>0.9831050994420664</td></tr><tr><td>415742</td><td>0.4222733313039748</td></tr><tr><td>416165</td><td>0.9124875462195503</td></tr><tr><td>416522</td><td>0.5718284694741326</td></tr><tr><td>416603</td><td>0.814855569000639</td></tr><tr><td>417019</td><td>5.48675414661159</td></tr><tr><td>417527</td><td>0.38488454676143535</td></tr><tr><td>418090</td><td>2.3811101009589413</td></tr><tr><td>418252</td><td>3.8994302937601426</td></tr><tr><td>420098</td><td>0.47835650811778396</td></tr><tr><td>420313</td><td>0.1979406240487382</td></tr><tr><td>420379</td><td>0.2842224345315215</td></tr><tr><td>420621</td><td>1.6379586640033086</td></tr><tr><td>420876</td><td>0.1979406240487382</td></tr><tr><td>421024</td><td>2.6095172270425318</td></tr><tr><td>421230</td><td>0.7587723921868297</td></tr><tr><td>421791</td><td>2.1296944920799423</td></tr><tr><td>421849</td><td>0.47835650811778396</td></tr><tr><td>422074</td><td>0.33814856608326105</td></tr><tr><td>422770</td><td>1.3196041603249213</td></tr><tr><td>423053</td><td>13.784244281855582</td></tr><tr><td>423785</td><td>3.562931232877287</td></tr><tr><td>424102</td><td>0.609217254016672</td></tr><tr><td>424186</td><td>0.3581782720881929</td></tr><tr><td>424588</td><td>1.444233442133386</td></tr><tr><td>425006</td><td>4.67616832856621</td></tr><tr><td>425620</td><td>1.810310347386735</td></tr><tr><td>425720</td><td>0.5451221948008901</td></tr><tr><td>426284</td><td>3.002099464739196</td></tr><tr><td>426340</td><td>0.1979406240487382</td></tr><tr><td>428261</td><td>3.7498751555899843</td></tr><tr><td>428269</td><td>0.1979406240487382</td></tr><tr><td>428478</td><td>5.259599359624085</td></tr><tr><td>429411</td><td>0.5718284694741326</td></tr><tr><td>429637</td><td>1.0347372304770017</td></tr><tr><td>429910</td><td>1.8804359284630128</td></tr><tr><td>431073</td><td>1.3196041603249213</td></tr><tr><td>431202</td><td>2.674947599991976</td></tr><tr><td>431489</td><td>0.47835650811778396</td></tr><tr><td>431928</td><td>0.47835650811778396</td></tr><tr><td>432063</td><td>4.698615563356923</td></tr><tr><td>432267</td><td>0.1979406240487382</td></tr><tr><td>432625</td><td>1.6832203616452224</td></tr><tr><td>432659</td><td>1.96055475248274</td></tr><tr><td>432896</td><td>1.3196041603249213</td></tr><tr><td>432934</td><td>0.1979406240487382</td></tr><tr><td>432939</td><td>1.7602576924334217</td></tr><tr><td>433314</td><td>1.3997229843446488</td></tr><tr><td>435811</td><td>0.609217254016672</td></tr><tr><td>436019</td><td>2.5879094229887265</td></tr><tr><td>436303</td><td>0.7587723921868297</td></tr><tr><td>436715</td><td>0.2914125854050868</td></tr><tr><td>436737</td><td>0.3101069776763565</td></tr><tr><td>437239</td><td>2.426215069058004</td></tr><tr><td>437813</td><td>0.6886684211695683</td></tr><tr><td>437838</td><td>6.0858244443954606</td></tr><tr><td>438090</td><td>1.2635209835111123</td></tr><tr><td>438094</td><td>6.034500462683678</td></tr><tr><td>438826</td><td>0.1979406240487382</td></tr><tr><td>438881</td><td>0.1979406240487382</td></tr><tr><td>438981</td><td>0.9535056450125561</td></tr><tr><td>439019</td><td>1.4909694228115602</td></tr><tr><td>439409</td><td>2.0830518899845414</td></tr><tr><td>439579</td><td>0.1979406240487382</td></tr><tr><td>440247</td><td>3.556151947767926</td></tr><tr><td>440256</td><td>3.4881219962728327</td></tr><tr><td>440341</td><td>1.9854121312170656</td></tr><tr><td>441337</td><td>2.1608518125320586</td></tr><tr><td>442012</td><td>0.1979406240487382</td></tr><tr><td>442538</td><td>1.4272509905462987</td></tr><tr><td>443070</td><td>0.7587723921868297</td></tr><tr><td>443568</td><td>0.47835650811778396</td></tr><tr><td>443750</td><td>1.3196041603249213</td></tr><tr><td>443858</td><td>0.1979406240487382</td></tr><tr><td>444462</td><td>0.7120364115086555</td></tr><tr><td>444480</td><td>0.47835650811778396</td></tr><tr><td>444685</td><td>0.33299041436961646</td></tr><tr><td>444886</td><td>0.1979406240487382</td></tr><tr><td>447037</td><td>2.7777667574839593</td></tr><tr><td>447124</td><td>1.590672848258332</td></tr><tr><td>447548</td><td>0.7587723921868297</td></tr><tr><td>450235</td><td>0.47835650811778396</td></tr><tr><td>450960</td><td>1.65237466354425</td></tr><tr><td>451010</td><td>0.6964577512825973</td></tr><tr><td>451472</td><td>1.0703455967079918</td></tr><tr><td>451699</td><td>0.3101069776763565</td></tr><tr><td>451913</td><td>1.6934920057503156</td></tr><tr><td>451979</td><td>1.9739078898193612</td></tr><tr><td>452763</td><td>0.7304049616726678</td></tr><tr><td>453459</td><td>1.1037284400495448</td></tr><tr><td>454294</td><td>1.3196041603249213</td></tr><tr><td>454645</td><td>0.26804459506599965</td></tr><tr><td>455595</td><td>1.3196041603249213</td></tr><tr><td>456468</td><td>0.3581782720881929</td></tr><tr><td>457164</td><td>0.6964577512825973</td></tr><tr><td>458106</td><td>0.1979406240487382</td></tr><tr><td>458398</td><td>0.33814856608326105</td></tr><tr><td>458471</td><td>0.47835650811778396</td></tr><tr><td>459856</td><td>0.5085551417867581</td></tr><tr><td>460154</td><td>1.966717738945796</td></tr><tr><td>460218</td><td>0.1979406240487382</td></tr><tr><td>460511</td><td>0.1979406240487382</td></tr><tr><td>460574</td><td>0.823312555980499</td></tr><tr><td>460650</td><td>1.4798418083643758</td></tr><tr><td>460700</td><td>0.3581782720881929</td></tr><tr><td>461217</td><td>0.3581782720881929</td></tr><tr><td>461536</td><td>0.2428071654997855</td></tr><tr><td>461550</td><td>0.7587723921868297</td></tr><tr><td>461988</td><td>1.2101084341646273</td></tr><tr><td>463123</td><td>1.5532840637157928</td></tr><tr><td>464140</td><td>0.1979406240487382</td></tr><tr><td>464245</td><td>0.8834016739952947</td></tr><tr><td>464365</td><td>1.4976459914798708</td></tr><tr><td>464762</td><td>1.1393368062805347</td></tr><tr><td>465394</td><td>1.2915625719180166</td></tr><tr><td>465487</td><td>0.8989803342213527</td></tr><tr><td>465548</td><td>1.8979963751679427</td></tr><tr><td>465962</td><td>0.5718284694741326</td></tr><tr><td>466447</td><td>1.5150455340700137</td></tr><tr><td>467685</td><td>1.3196041603249213</td></tr><tr><td>467747</td><td>0.5810866446941898</td></tr><tr><td>468515</td><td>1.1357759696574357</td></tr><tr><td>468834</td><td>0.5905228617454024</td></tr><tr><td>470605</td><td>3.050451368558831</td></tr><tr><td>470755</td><td>0.5718284694741326</td></tr><tr><td>470763</td><td>1.5725282910538645</td></tr><tr><td>470799</td><td>0.7988318041966934</td></tr><tr><td>471213</td><td>0.7587723921868297</td></tr><tr><td>471926</td><td>2.577955266065063</td></tr><tr><td>472575</td><td>1.6934920057503156</td></tr><tr><td>472623</td><td>1.8243527516492042</td></tr><tr><td>473143</td><td>0.1979406240487382</td></tr><tr><td>474373</td><td>1.381918801229154</td></tr><tr><td>475022</td><td>3.57105922951697</td></tr><tr><td>475117</td><td>0.7120364115086555</td></tr><tr><td>475222</td><td>0.1979406240487382</td></tr><tr><td>475285</td><td>1.600020044393967</td></tr><tr><td>475442</td><td>0.1979406240487382</td></tr><tr><td>475948</td><td>0.1979406240487382</td></tr><tr><td>476527</td><td>2.679398645770849</td></tr><tr><td>476532</td><td>1.0940408698249373</td></tr><tr><td>477057</td><td>1.4001763282092512</td></tr><tr><td>477487</td><td>1.1326602376122241</td></tr><tr><td>477714</td><td>7.612533146549154</td></tr><tr><td>478141</td><td>1.3196041603249213</td></tr><tr><td>478499</td><td>1.2373002774682924</td></tr><tr><td>478567</td><td>0.1979406240487382</td></tr><tr><td>478962</td><td>1.444233442133386</td></tr><tr><td>479704</td><td>2.243142917266834</td></tr><tr><td>479707</td><td>0.26392083206498423</td></tr><tr><td>479811</td><td>3.58785708923898</td></tr><tr><td>480027</td><td>1.9038039188020996</td></tr><tr><td>480131</td><td>0.4222733313039748</td></tr><tr><td>480212</td><td>1.1326602376122241</td></tr><tr><td>480658</td><td>0.27805944806846555</td></tr><tr><td>480967</td><td>0.1979406240487382</td></tr><tr><td>482758</td><td>3.4360764281793856</td></tr><tr><td>482812</td><td>2.8098142870918505</td></tr><tr><td>483085</td><td>0.4222733313039748</td></tr><tr><td>483258</td><td>0.47835650811778396</td></tr><tr><td>483505</td><td>0.1979406240487382</td></tr><tr><td>484044</td><td>0.1979406240487382</td></tr><tr><td>484087</td><td>0.1979406240487382</td></tr><tr><td>484284</td><td>0.1979406240487382</td></tr><tr><td>484345</td><td>0.7587723921868297</td></tr><tr><td>484478</td><td>2.692005114853847</td></tr><tr><td>485258</td><td>3.363524381983744</td></tr><tr><td>485586</td><td>0.7587723921868297</td></tr><tr><td>486528</td><td>0.1979406240487382</td></tr><tr><td>486767</td><td>0.8032828499755671</td></tr><tr><td>487424</td><td>1.6232640036155006</td></tr><tr><td>487797</td><td>1.3196041603249213</td></tr><tr><td>488216</td><td>2.441267696601104</td></tr><tr><td>488327</td><td>0.5718284694741326</td></tr><tr><td>488554</td><td>2.590822834771262</td></tr><tr><td>490161</td><td>2.112416341647405</td></tr><tr><td>490347</td><td>0.38488454676143535</td></tr><tr><td>490463</td><td>0.38488454676143535</td></tr><tr><td>491040</td><td>0.1979406240487382</td></tr><tr><td>491382</td><td>0.33814856608326105</td></tr><tr><td>491465</td><td>1.03199812538231</td></tr><tr><td>491709</td><td>0.1979406240487382</td></tr><tr><td>491942</td><td>0.33814856608326105</td></tr><tr><td>492602</td><td>4.348095708270615</td></tr><tr><td>492665</td><td>1.2609550865327026</td></tr><tr><td>493089</td><td>1.6934920057503156</td></tr><tr><td>493182</td><td>1.738730429301374</td></tr><tr><td>493352</td><td>1.543936867580158</td></tr><tr><td>493456</td><td>0.1979406240487382</td></tr><tr><td>493508</td><td>1.41307612168127</td></tr><tr><td>493522</td><td>0.38488454676143535</td></tr><tr><td>494139</td><td>2.441267696601104</td></tr><tr><td>494181</td><td>0.47835650811778396</td></tr><tr><td>494983</td><td>1.7869639671066642</td></tr><tr><td>495022</td><td>0.2914125854050868</td></tr><tr><td>495666</td><td>3.1322235038987074</td></tr><tr><td>496410</td><td>1.3196041603249213</td></tr><tr><td>496980</td><td>1.5257398391287138</td></tr><tr><td>497011</td><td>2.016569451669182</td></tr><tr><td>497077</td><td>2.1608518125320586</td></tr><tr><td>497122</td><td>2.461297402606036</td></tr><tr><td>497306</td><td>0.5718284694741326</td></tr><tr><td>497534</td><td>1.1700490221547637</td></tr><tr><td>497946</td><td>0.2602552649529706</td></tr><tr><td>497972</td><td>3.1990063409087157</td></tr><tr><td>498129</td><td>0.1979406240487382</td></tr><tr><td>498641</td><td>1.2261321989685727</td></tr><tr><td>498672</td><td>0.1979406240487382</td></tr><tr><td>498966</td><td>0.8989803342213527</td></tr><tr><td>499368</td><td>0.5718284694741326</td></tr><tr><td>500262</td><td>0.1979406240487382</td></tr><tr><td>501430</td><td>1.292897885651679</td></tr><tr><td>501852</td><td>2.441267696601104</td></tr><tr><td>502191</td><td>0.7320661175135872</td></tr><tr><td>502290</td><td>0.2999100364374821</td></tr><tr><td>503089</td><td>0.32256990585720297</td></tr><tr><td>503168</td><td>3.198613135876471</td></tr><tr><td>504054</td><td>0.5718284694741326</td></tr><tr><td>504351</td><td>1.9739078898193612</td></tr><tr><td>505849</td><td>1.5132246517059291</td></tr><tr><td>506026</td><td>1.4598121023594441</td></tr><tr><td>506578</td><td>0.6653004308304812</td></tr><tr><td>506640</td><td>0.1979406240487382</td></tr><tr><td>506960</td><td>0.1979406240487382</td></tr><tr><td>507122</td><td>0.8607418045755738</td></tr><tr><td>507782</td><td>0.1979406240487382</td></tr><tr><td>507787</td><td>1.0628311841283635</td></tr><tr><td>507837</td><td>0.32256990585720297</td></tr><tr><td>508388</td><td>0.46608241218210184</td></tr><tr><td>509154</td><td>0.945716314899527</td></tr></tbody></table></div>"
      ]
     },
     "metadata": {},
     "output_type": "display_data"
    }
   ],
   "source": [
    "display(results.vertices)"
   ]
  },
  {
   "cell_type": "markdown",
   "metadata": {},
   "source": [
    "# Predictive Analytics with MLlib"
   ]
  },
  {
   "cell_type": "markdown",
   "metadata": {},
   "source": [
    "## Q7 [1 pt] : First, create your dependent variable  Y , i.e. the total number of transactions at lifetime point 12. In other words, for every user, you need to count how many transactions s/he had committed during her/his twelve months in Venmo."
   ]
  },
  {
   "cell_type": "code",
   "execution_count": 13,
   "metadata": {},
   "outputs": [],
   "source": [
    "# Load the parquet data\n",
    "transactions = spark.read.parquet('VenmoSample.snappy.parquet')"
   ]
  },
  {
   "cell_type": "code",
   "execution_count": 14,
   "metadata": {
    "scrolled": false
   },
   "outputs": [],
   "source": [
    "# Select related columns\n",
    "transaction_user =  transactions.select('user1', 'datetime','story_id')\n",
    "# Rename user1 as user\n",
    "transaction_user = transaction_user.withColumnRenamed(\"user1\",\"user\")"
   ]
  },
  {
   "cell_type": "code",
   "execution_count": 15,
   "metadata": {},
   "outputs": [],
   "source": [
    "#get the start date for each user\n",
    "w = Window.partitionBy('user')\n",
    "transaction_user = transaction_user.withColumn('start_date', F.to_date(F.min('datetime').over(w)))"
   ]
  },
  {
   "cell_type": "code",
   "execution_count": 16,
   "metadata": {},
   "outputs": [],
   "source": [
    "# Generate a column hold the profile number (0-12) for each transaction¶\n",
    "get_profile_num = F.udf(lambda datetime, start_date: generate_profile_num(datetime, start_date))\n",
    "transaction_user = transaction_user.withColumn('month', get_profile_num(F.col('datetime'),F.col('start_date')))\n",
    "\n",
    "# Remove transaction that is more than 12 months since the user's first transaction\n",
    "transaction_within_12 = transaction_user.where( \"month <= 12\")"
   ]
  },
  {
   "cell_type": "code",
   "execution_count": 17,
   "metadata": {},
   "outputs": [],
   "source": [
    "# The number of transactions for each person\n",
    "transaction_user_within_12 = transaction_within_12.groupBy('user').count()"
   ]
  },
  {
   "cell_type": "code",
   "execution_count": 18,
   "metadata": {},
   "outputs": [
    {
     "name": "stdout",
     "output_type": "stream",
     "text": [
      "+-----+-----+\n",
      "| user|count|\n",
      "+-----+-----+\n",
      "| 2866|    1|\n",
      "| 6620|    1|\n",
      "|28170|    1|\n",
      "|28759|    3|\n",
      "|29894|    1|\n",
      "|33602|    2|\n",
      "+-----+-----+\n",
      "only showing top 6 rows\n",
      "\n",
      "time: 11min\n"
     ]
    }
   ],
   "source": [
    "transaction_user_within_12.show(6)"
   ]
  },
  {
   "cell_type": "markdown",
   "metadata": {},
   "source": [
    "## Q8 [2 pts] : We will focus on just  RF . Recency refers to the last time a user was active, and frequency is how often a user uses Venmo in a month. You need to compute these metrics across a user’s lifetime in Venmo (from 0 up to 12)."
   ]
  },
  {
   "cell_type": "markdown",
   "metadata": {},
   "source": [
    "### Note: Besides the months that users have transactions, we also add values in other months. More specifically, we filled recency with 30, which means in thirty days, there is no transaction for this user (30-0). Plus, we filled frequency with 0, which also means no transaction in this period.\n",
    "### 8.1 Calculate Recency and Frequency data for transactions "
   ]
  },
  {
   "cell_type": "code",
   "execution_count": 19,
   "metadata": {},
   "outputs": [],
   "source": [
    "# Get the day-of-month from the dataframe\n",
    "transaction_day = transaction_within_12.withColumn('day_of_month', dayofmonth(transaction_within_12.datetime))"
   ]
  },
  {
   "cell_type": "code",
   "execution_count": 20,
   "metadata": {},
   "outputs": [],
   "source": [
    "# Get the recency & frequency\n",
    "recency_frequency = transaction_day.groupBy('user','month').agg(30-F.max('day_of_month'),# Get the Recency\n",
    "                                                           F.count('story_id')/30)# Get the frequency\n",
    "recency_frequency = recency_frequency.withColumnRenamed(\"(30 - max(day_of_month))\",\"recency\")\n",
    "recency_frequency = recency_frequency.withColumnRenamed(\"(count(story_id) / 30)\",\"frequency\")\n",
    "# Relace negative recency values wiht 0\n",
    "recency_frequency = recency_frequency.withColumn(\"recency\", \\\n",
    "              when(recency_frequency[\"recency\"] < 0,0).otherwise(recency_frequency[\"recency\"]))"
   ]
  },
  {
   "cell_type": "code",
   "execution_count": 21,
   "metadata": {},
   "outputs": [
    {
     "name": "stdout",
     "output_type": "stream",
     "text": [
      "+----+-----+-------+-------------------+\n",
      "|user|month|recency|          frequency|\n",
      "+----+-----+-------+-------------------+\n",
      "|   2|    0|      8|0.03333333333333333|\n",
      "|   3|    0|      8|0.03333333333333333|\n",
      "|   3|    1|     22|0.16666666666666666|\n",
      "|   4|    0|     28|0.03333333333333333|\n",
      "|   4|    1|     16|0.03333333333333333|\n",
      "|  10|    0|      5|0.03333333333333333|\n",
      "|  10|    1|      7|0.03333333333333333|\n",
      "|  10|    2|      0|0.06666666666666667|\n",
      "|  10|    4|     20|0.06666666666666667|\n",
      "|  10|    5|     25|0.03333333333333333|\n",
      "+----+-----+-------+-------------------+\n",
      "only showing top 10 rows\n",
      "\n",
      "time: 18min 28s\n"
     ]
    }
   ],
   "source": [
    "# Show the recency and requency for each user in 12 months\n",
    "recency_frequency.orderBy('user','month').show(10)"
   ]
  },
  {
   "cell_type": "markdown",
   "metadata": {},
   "source": [
    "###  8.2 Add transaction data for all months"
   ]
  },
  {
   "cell_type": "code",
   "execution_count": 22,
   "metadata": {},
   "outputs": [],
   "source": [
    "# Create a dataset having the information in 13 months for all users\n",
    "user_month = transaction_day.select(\"user\").distinct()\n",
    "user_month = user_month.withColumn('t0', lit(0)).withColumn('t1', lit(1)).withColumn('t2', lit(2))\\\n",
    ".withColumn('t3', lit(3)).withColumn('t4', lit(4)).withColumn('t5', lit(5)).withColumn('t6', lit(6))\\\n",
    ".withColumn('t7', lit(7)).withColumn('t8', lit(8)).withColumn('t9', lit(9)).withColumn('t10', lit(10))\\\n",
    ".withColumn('t11', lit(11)).withColumn('t12', lit(12))"
   ]
  },
  {
   "cell_type": "code",
   "execution_count": 23,
   "metadata": {},
   "outputs": [],
   "source": [
    "# Define the function transforming month columns to rows\n",
    "def flatten_table(column_names, column_values):\n",
    "    row = zip(column_names, column_values)\n",
    "    _, key = next(row)  # Special casing retrieving the first column\n",
    "    return [\n",
    "        Row(Key=key, ColumnName=column, ColumnValue=value)\n",
    "        for column, value in row\n",
    "    ]"
   ]
  },
  {
   "cell_type": "code",
   "execution_count": 24,
   "metadata": {},
   "outputs": [],
   "source": [
    "# Transform month columns to rows\n",
    "user_month = user_month.rdd.flatMap(partial(flatten_table, user_month.columns)).toDF()\n",
    "# Rename columns\n",
    "user_month = user_month.drop('ColumnName').selectExpr(\"ColumnValue as month\", \"Key as user\")\n",
    "# Fill in NA data with 30 recency and 0 frequency\n",
    "user_month = user_month.withColumn('recency',lit(30)).withColumn('frequency',lit(0))\n",
    "# Reorder the columns to align with the dataframe to be unioned with\n",
    "user_month = user_month.select(\"user\",\"month\",\"recency\",\"frequency\")"
   ]
  },
  {
   "cell_type": "code",
   "execution_count": 25,
   "metadata": {},
   "outputs": [
    {
     "name": "stdout",
     "output_type": "stream",
     "text": [
      "+----+-----+-------+-------------------+\n",
      "|user|month|recency|          frequency|\n",
      "+----+-----+-------+-------------------+\n",
      "|   2|    0|      8|0.03333333333333333|\n",
      "|   2|    1|     30|                0.0|\n",
      "|   2|   10|     30|                0.0|\n",
      "|   2|   11|     30|                0.0|\n",
      "|   2|   12|     30|                0.0|\n",
      "|   2|    2|     30|                0.0|\n",
      "|   2|    3|     30|                0.0|\n",
      "|   2|    4|     30|                0.0|\n",
      "|   2|    5|     30|                0.0|\n",
      "|   2|    6|     30|                0.0|\n",
      "|   2|    7|     30|                0.0|\n",
      "|   2|    8|     30|                0.0|\n",
      "|   2|    9|     30|                0.0|\n",
      "|   3|    0|      8|0.03333333333333333|\n",
      "+----+-----+-------+-------------------+\n",
      "only showing top 14 rows\n",
      "\n"
     ]
    }
   ],
   "source": [
    "# Union two dataframe to fill in NA data with 30 recency and 0 frequency\n",
    "recency_frequency_full = recency_frequency.union(user_month).dropDuplicates(['user','month'])\n",
    "recency_frequency_full.orderBy('user','month').show(14)"
   ]
  },
  {
   "cell_type": "markdown",
   "metadata": {},
   "source": [
    "### Q9 [2 pts] : For each user’s lifetime point, regress recency and frequency on  Y. Plot the MSE for each lifetime point.  In other words, your x-axis will be lifetime in months (0-12), and your y-axis will be the MSE. ( Hint : Don’t forget to split your data into train and test sets)."
   ]
  },
  {
   "cell_type": "code",
   "execution_count": 26,
   "metadata": {},
   "outputs": [],
   "source": [
    "# Combine X variables and Y variables into one dataframe\n",
    "recency_frequency_Y = transaction_user_within_12\\\n",
    "    .join(recency_frequency_full,'user',how='full').orderBy('user', ascending=True)"
   ]
  },
  {
   "cell_type": "code",
   "execution_count": 27,
   "metadata": {},
   "outputs": [],
   "source": [
    "# Define a function to get MSEs for models\n",
    "months = [0,1,2,3,4,5,6,7,8,9,10,11,12]\n",
    "# Create three optional models\n",
    "Linear_Regression= LinearRegression()\n",
    "Random_Forest= RandomForestRegressor() \n",
    "Generalized_Linear_Regression = GeneralizedLinearRegression(family=\"gaussian\", link=\"identity\",maxIter=10, regParam=0.3)"
   ]
  },
  {
   "cell_type": "code",
   "execution_count": 28,
   "metadata": {},
   "outputs": [],
   "source": [
    "def train_test_prep(data, month):\n",
    "    # Subset the data within a month\n",
    "    data = data.where(data.month==month)\n",
    "    # Convert the data to dense vector (features and label)\n",
    "    transformed_data= data.rdd.map(lambda r: [Vectors.dense(r[3:]),r[1]]).toDF(['features','label'])\n",
    "    # Split the data into training and test sets (20% hold for testing)\n",
    "    (trainingData, testData) = transformed_data.randomSplit([0.8, 0.2],101)\n",
    "    return trainingData, testData"
   ]
  },
  {
   "cell_type": "code",
   "execution_count": 29,
   "metadata": {},
   "outputs": [],
   "source": [
    "# Get the train and test subset for each regressions\n",
    "trainingData0, testData0 = train_test_prep(recency_frequency_Y,months[0])\n",
    "trainingData1, testData1 = train_test_prep(recency_frequency_Y,months[1])"
   ]
  },
  {
   "cell_type": "code",
   "execution_count": 30,
   "metadata": {},
   "outputs": [],
   "source": [
    "trainingData2, testData2 = train_test_prep(recency_frequency_Y,months[2])\n",
    "trainingData3, testData3 = train_test_prep(recency_frequency_Y,months[3])"
   ]
  },
  {
   "cell_type": "code",
   "execution_count": 31,
   "metadata": {},
   "outputs": [],
   "source": [
    "trainingData4, testData4 = train_test_prep(recency_frequency_Y,months[4])\n",
    "trainingData5, testData5 = train_test_prep(recency_frequency_Y,months[5])"
   ]
  },
  {
   "cell_type": "code",
   "execution_count": 32,
   "metadata": {},
   "outputs": [],
   "source": [
    "trainingData6, testData6 = train_test_prep(recency_frequency_Y,months[6])\n",
    "trainingData7, testData7 = train_test_prep(recency_frequency_Y,months[7])"
   ]
  },
  {
   "cell_type": "code",
   "execution_count": 33,
   "metadata": {},
   "outputs": [],
   "source": [
    "trainingData8, testData8 = train_test_prep(recency_frequency_Y,months[8])\n",
    "trainingData9, testData9 = train_test_prep(recency_frequency_Y,months[9])"
   ]
  },
  {
   "cell_type": "code",
   "execution_count": 34,
   "metadata": {},
   "outputs": [],
   "source": [
    "trainingData10, testData10 = train_test_prep(recency_frequency_Y,months[10])\n",
    "trainingData11, testData11 = train_test_prep(recency_frequency_Y,months[11])"
   ]
  },
  {
   "cell_type": "code",
   "execution_count": 35,
   "metadata": {},
   "outputs": [],
   "source": [
    "trainingData12, testData12 = train_test_prep(recency_frequency_Y,months[12])"
   ]
  },
  {
   "cell_type": "code",
   "execution_count": 36,
   "metadata": {},
   "outputs": [],
   "source": [
    "def mse_regression(trainingData,testData, model):\n",
    "    # Fit Linear_Regression/Generalized_Linear_Regression/Random_Forest Model\n",
    "    fit = model.fit(trainingData)\n",
    "    # Make predictions\n",
    "    predictions = fit.transform(testData)\n",
    "    # Select (prediction, true label)\n",
    "    evaluator = RegressionEvaluator(labelCol=\"label\", predictionCol=\"prediction\", metricName=\"mse\")\n",
    "    # Compute mean square error\n",
    "    mse = evaluator.evaluate(predictions)\n",
    "    return mse"
   ]
  },
  {
   "cell_type": "code",
   "execution_count": 37,
   "metadata": {
    "scrolled": true
   },
   "outputs": [],
   "source": [
    "# # Get the MSEs for 12 months\n",
    "# # Optional models: Random_Forest, Generalized_Linear_Regression, Linear_Regression\n",
    "mse_0 = mse_regression(trainingData0, testData0, Linear_Regression)\n",
    "mse_1 = mse_regression(trainingData1, testData1, Linear_Regression)\n",
    "mse_2 = mse_regression(trainingData2, testData2, Linear_Regression)\n",
    "mse_3 = mse_regression(trainingData3, testData3, Linear_Regression)\n",
    "mse_4 = mse_regression(trainingData4, testData4, Linear_Regression)\n",
    "mse_5 = mse_regression(trainingData5, testData5, Linear_Regression)\n",
    "mse_6 = mse_regression(trainingData6, testData6, Linear_Regression)\n",
    "mse_7 = mse_regression(trainingData7, testData7, Linear_Regression)\n",
    "mse_8 = mse_regression(trainingData8, testData9, Linear_Regression)\n",
    "mse_9 = mse_regression(trainingData9, testData9, Linear_Regression)\n",
    "mse_10 = mse_regression(trainingData10, testData10, Linear_Regression)\n",
    "mse_11 = mse_regression(trainingData11, testData11, Linear_Regression)\n",
    "mse_12 = mse_regression(trainingData12, testData12, Linear_Regression)"
   ]
  },
  {
   "cell_type": "code",
   "execution_count": 56,
   "metadata": {
    "scrolled": true
   },
   "outputs": [
    {
     "name": "stdout",
     "output_type": "stream",
     "text": [
      "MSEs for 12 months:  [5.980758446196151, 4.985303585445719, 4.86108546470533, 4.939913563280358, 4.864799651019404, 4.643569645046549, 4.559152046428151, 4.506402138913866, 4.4164061510943124, 4.414454988167058, 4.537380416398401, 4.486459179442926, 4.411379546078859]\n"
     ]
    }
   ],
   "source": [
    "MSEs = [mse_0, mse_1, mse_2, mse_3, mse_4, mse_5, mse_6, mse_7, mse_8, mse_9, mse_10, mse_11, mse_12]\n",
    "print('MSEs for 12 months: ',MSEs)"
   ]
  },
  {
   "cell_type": "code",
   "execution_count": 58,
   "metadata": {},
   "outputs": [
    {
     "data": {
      "image/png": "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\n",
      "text/plain": [
       "<Figure size 576x288 with 1 Axes>"
      ]
     },
     "metadata": {
      "needs_background": "light"
     },
     "output_type": "display_data"
    }
   ],
   "source": [
    "fig = plt.figure(figsize=(8,4))\n",
    "plt.plot(months, MSEs, 'b--o',  linewidth=2, markersize=12) \n",
    "plt.title(\"MSE for Each Lifetime Point without Users' Pending Behavior Profiles\",fontsize=16)\n",
    "plt.xlabel('Month', fontsize=10)\n",
    "plt.ylabel('Mean Squared Error ', fontsize=10)\n",
    "plt.show()"
   ]
  },
  {
   "cell_type": "markdown",
   "metadata": {},
   "source": [
    "### Q10 [5 pts] : For each user’s lifetime point, regress recency, frequency  AND her spending behavior profile  on  Y. Plot the MSE for each lifetime point like above. Did you get any improvement?"
   ]
  },
  {
   "cell_type": "code",
   "execution_count": 40,
   "metadata": {
    "scrolled": true
   },
   "outputs": [
    {
     "name": "stdout",
     "output_type": "stream",
     "text": [
      "+-----+-----------+-----------------+\n",
      "|user1|profile_num|category_list    |\n",
      "+-----+-----------+-----------------+\n",
      "|2866 |0          |[Others]         |\n",
      "|6620 |0          |[Travel]         |\n",
      "|28170|0          |[Others]         |\n",
      "|28759|0          |[Utility]        |\n",
      "|28759|5          |[Utility, Others]|\n",
      "+-----+-----------+-----------------+\n",
      "only showing top 5 rows\n",
      "\n"
     ]
    }
   ],
   "source": [
    "# Use dataframe profile_category_count in Q4 as the basis to create users' spending behavior profiles\n",
    "profile_category_count.show(5, truncate = False)"
   ]
  },
  {
   "cell_type": "code",
   "execution_count": 41,
   "metadata": {
    "scrolled": true
   },
   "outputs": [],
   "source": [
    "# Concat words in category_list to a string\n",
    "profile_category_count = profile_category_count.withColumn(\"category_list\", concat_ws(\", \", \"category_list\"))"
   ]
  },
  {
   "cell_type": "code",
   "execution_count": 42,
   "metadata": {},
   "outputs": [],
   "source": [
    "# Create binary variables for each categories \n",
    "def binary_profile(dataset, categories):\n",
    "    for category in categories:\n",
    "        dataset = dataset.withColumn(\"%s\" % category, (F.instr(dataset.category_list, \"%s\" % category) > 0).cast('int'))\n",
    "    dataset = dataset.drop('category_list')\n",
    "    return dataset\n",
    "\n",
    "# Create binary variables for each categories \n",
    "spending_behavior_profile = binary_profile(profile_category_count, all_categories)"
   ]
  },
  {
   "cell_type": "code",
   "execution_count": 43,
   "metadata": {},
   "outputs": [],
   "source": [
    "# Join recency_frequency_Y and spending_behavior_profile dataframes\n",
    "recency_frequency_behavior_Y = recency_frequency_Y.join(spending_behavior_profile, \n",
    "                               (recency_frequency_Y.user == spending_behavior_profile.user1) & \n",
    "                               (recency_frequency_Y.month == spending_behavior_profile.profile_num))\n",
    "recency_frequency_behavior_Y= recency_frequency_behavior_Y.drop('user1').drop('profile_num')"
   ]
  },
  {
   "cell_type": "code",
   "execution_count": 44,
   "metadata": {},
   "outputs": [
    {
     "name": "stdout",
     "output_type": "stream",
     "text": [
      "+-----+-----+-----+-------+-------------------+------+------+-------+--------------+-----+---------------+----+--------+----+------+\n",
      "| user|count|month|recency|          frequency|People|Travel|Utility|Transportation|Event|Illegal/Sarcasm|Cash|Activity|Food|Others|\n",
      "+-----+-----+-----+-------+-------------------+------+------+-------+--------------+-----+---------------+----+--------+----+------+\n",
      "|  406|    3|    0|     12|0.03333333333333333|     0|     0|      0|             0|    0|              0|   0|       0|   0|     1|\n",
      "| 5489|    2|    0|     24|0.03333333333333333|     0|     0|      0|             0|    1|              0|   0|       0|   0|     0|\n",
      "|25330|    8|    3|     18|0.03333333333333333|     0|     0|      0|             0|    0|              0|   0|       0|   1|     1|\n",
      "|31171|    1|    0|      0|0.03333333333333333|     0|     0|      0|             0|    0|              0|   0|       0|   0|     1|\n",
      "|32184|    2|    1|     25|0.03333333333333333|     0|     0|      0|             0|    0|              0|   0|       1|   1|     0|\n",
      "+-----+-----+-----+-------+-------------------+------+------+-------+--------------+-----+---------------+----+--------+----+------+\n",
      "only showing top 5 rows\n",
      "\n"
     ]
    }
   ],
   "source": [
    "# Show joint dataset \n",
    "recency_frequency_behavior_Y.show(5)"
   ]
  },
  {
   "cell_type": "code",
   "execution_count": 45,
   "metadata": {},
   "outputs": [],
   "source": [
    "# Get the train and test subset for each regressions\n",
    "new_trainingData0, new_testData0 = train_test_prep(recency_frequency_behavior_Y,months[0])\n",
    "new_trainingData1, new_testData1 = train_test_prep(recency_frequency_behavior_Y,months[1])"
   ]
  },
  {
   "cell_type": "code",
   "execution_count": 46,
   "metadata": {},
   "outputs": [],
   "source": [
    "new_trainingData2, new_testData2 = train_test_prep(recency_frequency_behavior_Y,months[2])\n",
    "new_trainingData3, new_testData3 = train_test_prep(recency_frequency_behavior_Y,months[3])"
   ]
  },
  {
   "cell_type": "code",
   "execution_count": 47,
   "metadata": {},
   "outputs": [],
   "source": [
    "new_trainingData4, new_testData4 = train_test_prep(recency_frequency_behavior_Y,months[4])\n",
    "new_trainingData5, new_testData5 = train_test_prep(recency_frequency_behavior_Y,months[5])"
   ]
  },
  {
   "cell_type": "code",
   "execution_count": 48,
   "metadata": {},
   "outputs": [],
   "source": [
    "new_trainingData6, new_testData6 = train_test_prep(recency_frequency_behavior_Y,months[6])\n",
    "new_trainingData7, new_testData7 = train_test_prep(recency_frequency_behavior_Y,months[7])"
   ]
  },
  {
   "cell_type": "code",
   "execution_count": 49,
   "metadata": {},
   "outputs": [],
   "source": [
    "new_trainingData8, new_testData8 = train_test_prep(recency_frequency_behavior_Y,months[8])\n",
    "new_trainingData9, new_testData9 = train_test_prep(recency_frequency_behavior_Y,months[9])"
   ]
  },
  {
   "cell_type": "code",
   "execution_count": 50,
   "metadata": {},
   "outputs": [],
   "source": [
    "new_trainingData10, new_testData10 = train_test_prep(recency_frequency_behavior_Y,months[10])\n",
    "new_trainingData11, new_testData11 = train_test_prep(recency_frequency_behavior_Y,months[11])"
   ]
  },
  {
   "cell_type": "code",
   "execution_count": 51,
   "metadata": {},
   "outputs": [],
   "source": [
    "new_trainingData12, new_testData12 = train_test_prep(recency_frequency_behavior_Y,months[12])"
   ]
  },
  {
   "cell_type": "code",
   "execution_count": 52,
   "metadata": {},
   "outputs": [],
   "source": [
    "# Get the MSEs for 12 months\n",
    "# Optional models: Random_Forest, Generalized_Linear_Regression, Linear_Regression\n",
    "mse_new_0 = mse_regression(new_trainingData0, new_testData0, Linear_Regression)\n",
    "mse_new_1 = mse_regression(new_trainingData1, new_testData1, Linear_Regression)\n",
    "mse_new_2 = mse_regression(new_trainingData2, new_testData2, Linear_Regression)\n",
    "mse_new_3 = mse_regression(new_trainingData3, new_testData3, Linear_Regression)\n",
    "mse_new_4 = mse_regression(new_trainingData4, new_testData4, Linear_Regression)\n",
    "mse_new_5 = mse_regression(new_trainingData5, new_testData5, Linear_Regression)\n",
    "mse_new_6 = mse_regression(new_trainingData6, new_testData6, Linear_Regression)\n",
    "mse_new_7 = mse_regression(new_trainingData7, new_testData7, Linear_Regression)\n",
    "mse_new_8 = mse_regression(new_trainingData8, new_testData8, Linear_Regression)\n",
    "mse_new_9 = mse_regression(new_trainingData9, new_testData9, Linear_Regression)\n",
    "mse_new_10 = mse_regression(new_trainingData10, new_testData10, Linear_Regression)\n",
    "mse_new_11 = mse_regression(new_trainingData11, new_testData11, Linear_Regression)\n",
    "mse_new_12 = mse_regression(new_trainingData12, new_testData12, Linear_Regression)"
   ]
  },
  {
   "cell_type": "code",
   "execution_count": 53,
   "metadata": {},
   "outputs": [
    {
     "name": "stdout",
     "output_type": "stream",
     "text": [
      "MSEs for 12 months:  [5.679497890504982, 8.913206459451386, 8.844283126199697, 8.872709474471074, 8.370992960692927, 7.875299460334667, 7.358831570591879, 6.335345244064595, 6.43659645291096, 5.794104175745388, 6.228553837613043, 5.385202776610275, 5.005336925208082]\n"
     ]
    }
   ],
   "source": [
    "new_MSEs = [mse_new_0, mse_new_1, mse_new_2, mse_new_3, mse_new_4, mse_new_5, mse_new_6,\n",
    "            mse_new_7, mse_new_8, mse_new_9, mse_new_10, mse_new_11, mse_new_12]\n",
    "print('MSEs for 12 months: ',new_MSEs)"
   ]
  },
  {
   "cell_type": "code",
   "execution_count": 59,
   "metadata": {},
   "outputs": [
    {
     "data": {
      "image/png": "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\n",
      "text/plain": [
       "<Figure size 576x288 with 1 Axes>"
      ]
     },
     "metadata": {
      "needs_background": "light"
     },
     "output_type": "display_data"
    }
   ],
   "source": [
    "fig = plt.figure(figsize=(8,4))\n",
    "plt.plot(months, new_MSEs, 'b--o',  linewidth=2, markersize=12) \n",
    "plt.title(\"MSE for Each Lifetime Point with Users' Pending Behavior Profiles\",fontsize=16)\n",
    "plt.xlabel('Month', fontsize=10)\n",
    "plt.ylabel('Mean Squared Error ', fontsize=10)\n",
    "plt.show()"
   ]
  },
  {
   "cell_type": "markdown",
   "metadata": {},
   "source": [
    "### No. The MSEs in both of the two models have a descdending trend and the two MSEs in in the 0th month are around 6. However, The overall MSEs are larger after adding spending behavior profiles as independent variables. In details, the MSEs in the first model ranges from 4.4 to 5 in all the 12 months, where as the MSEs in the second model ranges from 5 to 9."
   ]
  },
  {
   "cell_type": "markdown",
   "metadata": {},
   "source": [
    "## Q11 [5 pts]​: For each user’s lifetime point, regress her social network metrics on ​Y. Plot the MSE for each lifetime point like above. What do you observe? How do social network metrics compare with the RF framework? What are the most informative predictors?\n"
   ]
  },
  {
   "cell_type": "code",
   "execution_count": 3,
   "metadata": {},
   "outputs": [],
   "source": [
    "# Load the parquet data\n",
    "transactions = spark.read.parquet('VenmoSample.snappy.parquet')"
   ]
  },
  {
   "cell_type": "code",
   "execution_count": 7,
   "metadata": {},
   "outputs": [
    {
     "name": "stdout",
     "output_type": "stream",
     "text": [
      "time: 75.4 ms\n"
     ]
    }
   ],
   "source": [
    "# Select related columns\n",
    "transaction_user =  transactions.select('user1','transaction_type', \n",
    "                                        'datetime','description', 'is_business', 'story_id')\n",
    "# Rename user1 as user\n",
    "transaction_user = transaction_user.withColumnRenamed(\"user1\",\"user\")\n",
    "\n",
    "#get the start date for each user\n",
    "w = Window.partitionBy('user')\n",
    "transaction_user = transaction_user.withColumn('start_date', F.to_date(F.min('datetime').over(w)))"
   ]
  },
  {
   "cell_type": "code",
   "execution_count": 8,
   "metadata": {},
   "outputs": [
    {
     "name": "stdout",
     "output_type": "stream",
     "text": [
      "time: 163 ms\n"
     ]
    }
   ],
   "source": [
    "# Generate a column hold the profile number (0-12) for each transaction¶\n",
    "def generate_profile_num(datetime,start_date):\n",
    "    '''\n",
    "    Returns a profile number for the transaction according to the month since the startdate\n",
    "    '''\n",
    "    \n",
    "    transaction_date = datetime.date()\n",
    "    \n",
    "    profile_interval = [(start_date + relativedelta(months=+i)) for i in range(0,13)]\n",
    "    \n",
    "    # If transaction at start_date then its profile_num is 0, then 1st month is 1, 2nd month is 2...\n",
    "    # for transactons later than last day of 12 month since start_date, then profile_num is 13 for all\n",
    "    profile_num = bisect.bisect_left(profile_interval, transaction_date) \n",
    "    \n",
    "    return profile_num\n",
    "\n",
    "\n",
    "get_profile_num = F.udf(lambda datetime, start_date: generate_profile_num(datetime, start_date))\n",
    "transaction_user = transaction_user.withColumn('month', get_profile_num(F.col('datetime'),F.col('start_date')))\n",
    "\n",
    "# Remove transaction that is more than 12 months since the user's first transaction\n",
    "transaction_within_12 = transaction_user.where( \"month <= 12\")"
   ]
  },
  {
   "cell_type": "code",
   "execution_count": 9,
   "metadata": {},
   "outputs": [
    {
     "name": "stdout",
     "output_type": "stream",
     "text": [
      "time: 20 ms\n"
     ]
    }
   ],
   "source": [
    "# The number of transactions for each person\n",
    "transaction_user_within_12 = transaction_within_12.groupBy('user').count()"
   ]
  },
  {
   "cell_type": "code",
   "execution_count": 108,
   "metadata": {
    "scrolled": true
   },
   "outputs": [
    {
     "name": "stdout",
     "output_type": "stream",
     "text": [
      "+-----+-----+\n",
      "| user|count|\n",
      "+-----+-----+\n",
      "| 2866|    1|\n",
      "| 6620|    1|\n",
      "|28170|    1|\n",
      "|28759|    3|\n",
      "|29894|    1|\n",
      "|33602|    2|\n",
      "+-----+-----+\n",
      "only showing top 6 rows\n",
      "\n",
      "time: 7min 22s\n"
     ]
    }
   ],
   "source": [
    "# Y\n",
    "transaction_user_within_12.show(6)"
   ]
  },
  {
   "cell_type": "code",
   "execution_count": 110,
   "metadata": {},
   "outputs": [
    {
     "name": "stdout",
     "output_type": "stream",
     "text": [
      "time: 6min 57s\n"
     ]
    }
   ],
   "source": [
    "transaction_user_within_12.toPandas().to_csv('transaction_user.csv',index=False)"
   ]
  },
  {
   "cell_type": "code",
   "execution_count": 20,
   "metadata": {},
   "outputs": [
    {
     "name": "stdout",
     "output_type": "stream",
     "text": [
      "time: 434 ms\n"
     ]
    }
   ],
   "source": [
    "# load the user_page_rank data\n",
    "user_page_rank = spark\\\n",
    "        .read\\\n",
    "        .option('header','true')\\\n",
    "        .option('inferSchema','true')\\\n",
    "        .csv(r'page_rank.csv')"
   ]
  },
  {
   "cell_type": "code",
   "execution_count": 21,
   "metadata": {},
   "outputs": [
    {
     "name": "stdout",
     "output_type": "stream",
     "text": [
      "+----+-----------+\n",
      "|user|   pagerank|\n",
      "+----+-----------+\n",
      "|  29|0.808031515|\n",
      "| 964|0.495333341|\n",
      "|1697|2.917992242|\n",
      "|2509|0.692102442|\n",
      "|3506|1.609615856|\n",
      "+----+-----------+\n",
      "only showing top 5 rows\n",
      "\n",
      "time: 60 ms\n"
     ]
    }
   ],
   "source": [
    "user_page_rank.show(5)"
   ]
  },
  {
   "cell_type": "code",
   "execution_count": 22,
   "metadata": {},
   "outputs": [
    {
     "name": "stdout",
     "output_type": "stream",
     "text": [
      "time: 392 ms\n"
     ]
    }
   ],
   "source": [
    "# load the user_coef data\n",
    "user_coef = spark\\\n",
    "        .read\\\n",
    "        .option('header','true')\\\n",
    "        .option('inferSchema','true')\\\n",
    "        .csv(r'cluster_coef.csv')"
   ]
  },
  {
   "cell_type": "code",
   "execution_count": 23,
   "metadata": {},
   "outputs": [
    {
     "name": "stdout",
     "output_type": "stream",
     "text": [
      "+--------+-----------+-------------+------------------------+------------+\n",
      "|    user|profile_num|friends_count|friends_of_friends_count|cluster_coef|\n",
      "+--------+-----------+-------------+------------------------+------------+\n",
      "|10001475|          1|            1|                       3| 0.333333333|\n",
      "|10003139|          1|            1|                       3| 0.333333333|\n",
      "|10005735|          5|            1|                       1|         1.0|\n",
      "|10008613|          0|            1|                       6| 0.166666667|\n",
      "| 1000890|          9|            1|                      11| 0.090909091|\n",
      "+--------+-----------+-------------+------------------------+------------+\n",
      "only showing top 5 rows\n",
      "\n",
      "time: 59.5 ms\n"
     ]
    }
   ],
   "source": [
    "user_coef.show(5)"
   ]
  },
  {
   "cell_type": "code",
   "execution_count": 24,
   "metadata": {},
   "outputs": [
    {
     "name": "stdout",
     "output_type": "stream",
     "text": [
      "time: 94.8 ms\n"
     ]
    }
   ],
   "source": [
    "months = [0,1,2,3,4,5,6,7,8,9,10,11,12]\n",
    "coef = user_coef.withColumn(\"months\", F.array([F.lit(x) for x in months]))\n",
    "coef = coef.withColumn(\"months\", F.explode(col(\"months\")))"
   ]
  },
  {
   "cell_type": "code",
   "execution_count": 25,
   "metadata": {},
   "outputs": [
    {
     "name": "stdout",
     "output_type": "stream",
     "text": [
      "+--------+-----------+-------------+------------------------+------------+------+\n",
      "|    user|profile_num|friends_count|friends_of_friends_count|cluster_coef|months|\n",
      "+--------+-----------+-------------+------------------------+------------+------+\n",
      "|10001475|          1|            1|                       3| 0.333333333|     0|\n",
      "|10001475|          1|            1|                       3| 0.333333333|     1|\n",
      "|10001475|          1|            1|                       3| 0.333333333|     2|\n",
      "|10001475|          1|            1|                       3| 0.333333333|     3|\n",
      "|10001475|          1|            1|                       3| 0.333333333|     4|\n",
      "|10001475|          1|            1|                       3| 0.333333333|     5|\n",
      "|10001475|          1|            1|                       3| 0.333333333|     6|\n",
      "|10001475|          1|            1|                       3| 0.333333333|     7|\n",
      "|10001475|          1|            1|                       3| 0.333333333|     8|\n",
      "|10001475|          1|            1|                       3| 0.333333333|     9|\n",
      "|10001475|          1|            1|                       3| 0.333333333|    10|\n",
      "|10001475|          1|            1|                       3| 0.333333333|    11|\n",
      "|10001475|          1|            1|                       3| 0.333333333|    12|\n",
      "|10003139|          1|            1|                       3| 0.333333333|     0|\n",
      "|10003139|          1|            1|                       3| 0.333333333|     1|\n",
      "|10003139|          1|            1|                       3| 0.333333333|     2|\n",
      "|10003139|          1|            1|                       3| 0.333333333|     3|\n",
      "|10003139|          1|            1|                       3| 0.333333333|     4|\n",
      "|10003139|          1|            1|                       3| 0.333333333|     5|\n",
      "|10003139|          1|            1|                       3| 0.333333333|     6|\n",
      "|10003139|          1|            1|                       3| 0.333333333|     7|\n",
      "|10003139|          1|            1|                       3| 0.333333333|     8|\n",
      "|10003139|          1|            1|                       3| 0.333333333|     9|\n",
      "|10003139|          1|            1|                       3| 0.333333333|    10|\n",
      "|10003139|          1|            1|                       3| 0.333333333|    11|\n",
      "|10003139|          1|            1|                       3| 0.333333333|    12|\n",
      "|10005735|          5|            1|                       1|         1.0|     0|\n",
      "|10005735|          5|            1|                       1|         1.0|     1|\n",
      "|10005735|          5|            1|                       1|         1.0|     2|\n",
      "|10005735|          5|            1|                       1|         1.0|     3|\n",
      "|10005735|          5|            1|                       1|         1.0|     4|\n",
      "|10005735|          5|            1|                       1|         1.0|     5|\n",
      "|10005735|          5|            1|                       1|         1.0|     6|\n",
      "|10005735|          5|            1|                       1|         1.0|     7|\n",
      "|10005735|          5|            1|                       1|         1.0|     8|\n",
      "|10005735|          5|            1|                       1|         1.0|     9|\n",
      "|10005735|          5|            1|                       1|         1.0|    10|\n",
      "|10005735|          5|            1|                       1|         1.0|    11|\n",
      "|10005735|          5|            1|                       1|         1.0|    12|\n",
      "|10008613|          0|            1|                       6| 0.166666667|     0|\n",
      "|10008613|          0|            1|                       6| 0.166666667|     1|\n",
      "|10008613|          0|            1|                       6| 0.166666667|     2|\n",
      "|10008613|          0|            1|                       6| 0.166666667|     3|\n",
      "|10008613|          0|            1|                       6| 0.166666667|     4|\n",
      "|10008613|          0|            1|                       6| 0.166666667|     5|\n",
      "|10008613|          0|            1|                       6| 0.166666667|     6|\n",
      "|10008613|          0|            1|                       6| 0.166666667|     7|\n",
      "|10008613|          0|            1|                       6| 0.166666667|     8|\n",
      "|10008613|          0|            1|                       6| 0.166666667|     9|\n",
      "|10008613|          0|            1|                       6| 0.166666667|    10|\n",
      "|10008613|          0|            1|                       6| 0.166666667|    11|\n",
      "|10008613|          0|            1|                       6| 0.166666667|    12|\n",
      "| 1000890|          9|            1|                      11| 0.090909091|     0|\n",
      "| 1000890|          9|            1|                      11| 0.090909091|     1|\n",
      "| 1000890|          9|            1|                      11| 0.090909091|     2|\n",
      "| 1000890|          9|            1|                      11| 0.090909091|     3|\n",
      "| 1000890|          9|            1|                      11| 0.090909091|     4|\n",
      "| 1000890|          9|            1|                      11| 0.090909091|     5|\n",
      "| 1000890|          9|            1|                      11| 0.090909091|     6|\n",
      "| 1000890|          9|            1|                      11| 0.090909091|     7|\n",
      "| 1000890|          9|            1|                      11| 0.090909091|     8|\n",
      "| 1000890|          9|            1|                      11| 0.090909091|     9|\n",
      "| 1000890|          9|            1|                      11| 0.090909091|    10|\n",
      "| 1000890|          9|            1|                      11| 0.090909091|    11|\n",
      "| 1000890|          9|            1|                      11| 0.090909091|    12|\n",
      "|10010800|          2|            1|                       4|        0.25|     0|\n",
      "|10010800|          2|            1|                       4|        0.25|     1|\n",
      "|10010800|          2|            1|                       4|        0.25|     2|\n",
      "|10010800|          2|            1|                       4|        0.25|     3|\n",
      "|10010800|          2|            1|                       4|        0.25|     4|\n",
      "|10010800|          2|            1|                       4|        0.25|     5|\n",
      "|10010800|          2|            1|                       4|        0.25|     6|\n",
      "|10010800|          2|            1|                       4|        0.25|     7|\n",
      "|10010800|          2|            1|                       4|        0.25|     8|\n",
      "|10010800|          2|            1|                       4|        0.25|     9|\n",
      "|10010800|          2|            1|                       4|        0.25|    10|\n",
      "|10010800|          2|            1|                       4|        0.25|    11|\n",
      "|10010800|          2|            1|                       4|        0.25|    12|\n",
      "| 1001112|          0|            1|                       6| 0.166666667|     0|\n",
      "| 1001112|          0|            1|                       6| 0.166666667|     1|\n",
      "| 1001112|          0|            1|                       6| 0.166666667|     2|\n",
      "| 1001112|          0|            1|                       6| 0.166666667|     3|\n",
      "| 1001112|          0|            1|                       6| 0.166666667|     4|\n",
      "| 1001112|          0|            1|                       6| 0.166666667|     5|\n",
      "| 1001112|          0|            1|                       6| 0.166666667|     6|\n",
      "| 1001112|          0|            1|                       6| 0.166666667|     7|\n",
      "| 1001112|          0|            1|                       6| 0.166666667|     8|\n",
      "| 1001112|          0|            1|                       6| 0.166666667|     9|\n",
      "| 1001112|          0|            1|                       6| 0.166666667|    10|\n",
      "| 1001112|          0|            1|                       6| 0.166666667|    11|\n",
      "| 1001112|          0|            1|                       6| 0.166666667|    12|\n",
      "| 1001167|          0|            2|                       4|         0.5|     0|\n",
      "| 1001167|          0|            2|                       4|         0.5|     1|\n",
      "| 1001167|          0|            2|                       4|         0.5|     2|\n",
      "| 1001167|          0|            2|                       4|         0.5|     3|\n",
      "| 1001167|          0|            2|                       4|         0.5|     4|\n",
      "| 1001167|          0|            2|                       4|         0.5|     5|\n",
      "| 1001167|          0|            2|                       4|         0.5|     6|\n",
      "| 1001167|          0|            2|                       4|         0.5|     7|\n",
      "| 1001167|          0|            2|                       4|         0.5|     8|\n",
      "+--------+-----------+-------------+------------------------+------------+------+\n",
      "only showing top 100 rows\n",
      "\n",
      "time: 96.4 ms\n"
     ]
    }
   ],
   "source": [
    "coef.show(100)"
   ]
  },
  {
   "cell_type": "code",
   "execution_count": 26,
   "metadata": {
    "scrolled": true
   },
   "outputs": [
    {
     "name": "stdout",
     "output_type": "stream",
     "text": [
      "+----+-----------+-----------+\n",
      "|user|   pagerank|profile_num|\n",
      "+----+-----------+-----------+\n",
      "|  29|0.808031515|          0|\n",
      "|  29|0.808031515|          1|\n",
      "|  29|0.808031515|          2|\n",
      "|  29|0.808031515|          3|\n",
      "|  29|0.808031515|          4|\n",
      "|  29|0.808031515|          5|\n",
      "|  29|0.808031515|          6|\n",
      "|  29|0.808031515|          7|\n",
      "|  29|0.808031515|          8|\n",
      "|  29|0.808031515|          9|\n",
      "|  29|0.808031515|         10|\n",
      "|  29|0.808031515|         11|\n",
      "|  29|0.808031515|         12|\n",
      "| 964|0.495333341|          0|\n",
      "| 964|0.495333341|          1|\n",
      "| 964|0.495333341|          2|\n",
      "| 964|0.495333341|          3|\n",
      "| 964|0.495333341|          4|\n",
      "| 964|0.495333341|          5|\n",
      "| 964|0.495333341|          6|\n",
      "+----+-----------+-----------+\n",
      "only showing top 20 rows\n",
      "\n",
      "time: 120 ms\n"
     ]
    }
   ],
   "source": [
    "# create dataframe with two columns: user and time_list (0-12)\n",
    "# each user has lifetime 0 to 12\n",
    "months = [0,1,2,3,4,5,6,7,8,9,10,11,12]\n",
    "page_rank = user_page_rank.withColumn(\"profile_num\", F.array([F.lit(x) for x in months]))\n",
    "page_rank = page_rank.withColumn(\"profile_num\", F.explode(col(\"profile_num\")))\n",
    "\n",
    "\n",
    "page_rank.show()"
   ]
  },
  {
   "cell_type": "code",
   "execution_count": 27,
   "metadata": {},
   "outputs": [
    {
     "name": "stdout",
     "output_type": "stream",
     "text": [
      "time: 11.1 ms\n"
     ]
    }
   ],
   "source": [
    "page_rank.createOrReplaceTempView(\"page_rank\")\n",
    "coef.createOrReplaceTempView(\"user_coef\")"
   ]
  },
  {
   "cell_type": "code",
   "execution_count": 28,
   "metadata": {},
   "outputs": [
    {
     "name": "stdout",
     "output_type": "stream",
     "text": [
      "time: 44.3 ms\n"
     ]
    }
   ],
   "source": [
    "social_network_metrics = spark.sql(\"select page_rank.user,page_rank.profile_num,\\\n",
    "                        pagerank,\\\n",
    "                      ifnull(friends_count,0) as friends_count,\\\n",
    "                      ifnull(friends_of_friends_count,0) as friends_of_friends_count,\\\n",
    "                      ifnull(cluster_coef,0) as cluster_coef \\\n",
    "                      from page_rank \\\n",
    "                        left join \\\n",
    "                      (select * from user_coef where user_coef.months >= user_coef.profile_num) as user_coef1\\\n",
    "                      on page_rank.user = user_coef1.user \\\n",
    "                        and page_rank.profile_num = user_coef1.months \\\n",
    "                        order by page_rank.user, page_rank.profile_num \")"
   ]
  },
  {
   "cell_type": "code",
   "execution_count": 29,
   "metadata": {},
   "outputs": [
    {
     "name": "stdout",
     "output_type": "stream",
     "text": [
      "+----+-----------+-----------+-------------+------------------------+------------+\n",
      "|user|profile_num|   pagerank|friends_count|friends_of_friends_count|cluster_coef|\n",
      "+----+-----------+-----------+-------------+------------------------+------------+\n",
      "|   6|          0|0.789841919|            0|                       0|         0.0|\n",
      "|   6|          1|0.789841919|            0|                       0|         0.0|\n",
      "|   6|          2|0.789841919|            0|                       0|         0.0|\n",
      "|   6|          3|0.789841919|            0|                       0|         0.0|\n",
      "|   6|          4|0.789841919|            0|                       0|         0.0|\n",
      "|   6|          5|0.789841919|            0|                       0|         0.0|\n",
      "|   6|          6|0.789841919|            0|                       0|         0.0|\n",
      "|   6|          7|0.789841919|            0|                       0|         0.0|\n",
      "|   6|          8|0.789841919|            0|                       0|         0.0|\n",
      "|   6|          9|0.789841919|            0|                       0|         0.0|\n",
      "|   6|         10|0.789841919|            0|                       0|         0.0|\n",
      "|   6|         11|0.789841919|            0|                       0|         0.0|\n",
      "|   6|         12|0.789841919|            0|                       0|         0.0|\n",
      "|   9|          0| 1.65468179|            0|                       0|         0.0|\n",
      "|   9|          1| 1.65468179|            0|                       0|         0.0|\n",
      "|   9|          2| 1.65468179|            0|                       0|         0.0|\n",
      "|   9|          3| 1.65468179|            0|                       0|         0.0|\n",
      "|   9|          4| 1.65468179|            0|                       0|         0.0|\n",
      "|   9|          5| 1.65468179|            0|                       0|         0.0|\n",
      "|   9|          6| 1.65468179|            0|                       0|         0.0|\n",
      "|   9|          7| 1.65468179|            0|                       0|         0.0|\n",
      "|   9|          8| 1.65468179|            0|                       0|         0.0|\n",
      "|   9|          9| 1.65468179|            0|                       0|         0.0|\n",
      "|   9|         10| 1.65468179|            0|                       0|         0.0|\n",
      "|   9|         11| 1.65468179|            0|                       0|         0.0|\n",
      "|   9|         12| 1.65468179|            0|                       0|         0.0|\n",
      "|  19|          0|1.057785886|            0|                       0|         0.0|\n",
      "|  19|          1|1.057785886|            0|                       0|         0.0|\n",
      "|  19|          2|1.057785886|            0|                       0|         0.0|\n",
      "|  19|          3|1.057785886|            0|                       0|         0.0|\n",
      "|  19|          4|1.057785886|            0|                       0|         0.0|\n",
      "|  19|          5|1.057785886|            0|                       0|         0.0|\n",
      "|  19|          6|1.057785886|            0|                       0|         0.0|\n",
      "|  19|          7|1.057785886|            0|                       0|         0.0|\n",
      "|  19|          8|1.057785886|            0|                       0|         0.0|\n",
      "|  19|          9|1.057785886|            0|                       0|         0.0|\n",
      "|  19|         10|1.057785886|            0|                       0|         0.0|\n",
      "|  19|         11|1.057785886|            0|                       0|         0.0|\n",
      "|  19|         12|1.057785886|            0|                       0|         0.0|\n",
      "|  28|          0|0.455995419|            0|                       0|         0.0|\n",
      "|  28|          1|0.455995419|            0|                       0|         0.0|\n",
      "|  28|          2|0.455995419|            0|                       0|         0.0|\n",
      "|  28|          3|0.455995419|            0|                       0|         0.0|\n",
      "|  28|          4|0.455995419|            0|                       0|         0.0|\n",
      "|  28|          5|0.455995419|            0|                       0|         0.0|\n",
      "|  28|          6|0.455995419|            0|                       0|         0.0|\n",
      "|  28|          7|0.455995419|            0|                       0|         0.0|\n",
      "|  28|          8|0.455995419|            0|                       0|         0.0|\n",
      "|  28|          9|0.455995419|            0|                       0|         0.0|\n",
      "|  28|         10|0.455995419|            0|                       0|         0.0|\n",
      "|  28|         11|0.455995419|            0|                       0|         0.0|\n",
      "|  28|         12|0.455995419|            0|                       0|         0.0|\n",
      "|  29|          0|0.808031515|            0|                       0|         0.0|\n",
      "|  29|          1|0.808031515|            0|                       0|         0.0|\n",
      "|  29|          2|0.808031515|            0|                       0|         0.0|\n",
      "|  29|          3|0.808031515|            0|                       0|         0.0|\n",
      "|  29|          4|0.808031515|            0|                       0|         0.0|\n",
      "|  29|          5|0.808031515|            0|                       0|         0.0|\n",
      "|  29|          6|0.808031515|            0|                       0|         0.0|\n",
      "|  29|          7|0.808031515|            0|                       0|         0.0|\n",
      "|  29|          8|0.808031515|            0|                       0|         0.0|\n",
      "|  29|          9|0.808031515|            0|                       0|         0.0|\n",
      "|  29|         10|0.808031515|            0|                       0|         0.0|\n",
      "|  29|         11|0.808031515|            0|                       0|         0.0|\n",
      "|  29|         12|0.808031515|            0|                       0|         0.0|\n",
      "|  31|          0|1.546307926|            0|                       0|         0.0|\n",
      "|  31|          1|1.546307926|            0|                       0|         0.0|\n",
      "|  31|          2|1.546307926|            0|                       0|         0.0|\n",
      "|  31|          3|1.546307926|            0|                       0|         0.0|\n",
      "|  31|          4|1.546307926|            0|                       0|         0.0|\n",
      "|  31|          5|1.546307926|            0|                       0|         0.0|\n",
      "|  31|          6|1.546307926|            0|                       0|         0.0|\n",
      "|  31|          7|1.546307926|            0|                       0|         0.0|\n",
      "|  31|          8|1.546307926|            0|                       0|         0.0|\n",
      "|  31|          9|1.546307926|            0|                       0|         0.0|\n",
      "|  31|         10|1.546307926|            0|                       0|         0.0|\n",
      "|  31|         11|1.546307926|            0|                       0|         0.0|\n",
      "|  31|         12|1.546307926|            0|                       0|         0.0|\n",
      "|  32|          0|0.482505239|            0|                       0|         0.0|\n",
      "|  32|          1|0.482505239|            0|                       0|         0.0|\n",
      "|  32|          2|0.482505239|            0|                       0|         0.0|\n",
      "|  32|          3|0.482505239|            0|                       0|         0.0|\n",
      "|  32|          4|0.482505239|            0|                       0|         0.0|\n",
      "|  32|          5|0.482505239|            0|                       0|         0.0|\n",
      "|  32|          6|0.482505239|            0|                       0|         0.0|\n",
      "|  32|          7|0.482505239|            0|                       0|         0.0|\n",
      "|  32|          8|0.482505239|            0|                       0|         0.0|\n",
      "|  32|          9|0.482505239|            0|                       0|         0.0|\n",
      "|  32|         10|0.482505239|            0|                       0|         0.0|\n",
      "|  32|         11|0.482505239|            0|                       0|         0.0|\n",
      "|  32|         12|0.482505239|            0|                       0|         0.0|\n",
      "|  34|          0|0.896102629|            0|                       0|         0.0|\n",
      "|  34|          1|0.896102629|            0|                       0|         0.0|\n",
      "|  34|          2|0.896102629|            0|                       0|         0.0|\n",
      "|  34|          3|0.896102629|            0|                       0|         0.0|\n",
      "|  34|          4|0.896102629|            0|                       0|         0.0|\n",
      "|  34|          5|0.896102629|            0|                       0|         0.0|\n",
      "|  34|          6|0.896102629|            0|                       0|         0.0|\n",
      "|  34|          7|0.896102629|            0|                       0|         0.0|\n",
      "|  34|          8|0.896102629|            0|                       0|         0.0|\n",
      "|  34|          9|0.896102629|            0|                       0|         0.0|\n",
      "|  34|         10|0.896102629|            0|                       0|         0.0|\n",
      "|  34|         11|0.896102629|            0|                       0|         0.0|\n",
      "|  34|         12|0.896102629|            0|                       0|         0.0|\n",
      "|  43|          0|2.005437045|            0|                       0|         0.0|\n",
      "|  43|          1|2.005437045|            0|                       0|         0.0|\n",
      "|  43|          2|2.005437045|            0|                       0|         0.0|\n",
      "|  43|          3|2.005437045|            0|                       0|         0.0|\n",
      "|  43|          4|2.005437045|            2|                       5|         0.4|\n",
      "|  43|          5|2.005437045|            2|                       5|         0.4|\n",
      "|  43|          6|2.005437045|            2|                       5|         0.4|\n",
      "|  43|          7|2.005437045|            2|                       5|         0.4|\n",
      "|  43|          8|2.005437045|            2|                       5|         0.4|\n",
      "|  43|          9|2.005437045|            2|                       5|         0.4|\n",
      "|  43|         10|2.005437045|            2|                       5|         0.4|\n",
      "|  43|         11|2.005437045|            2|                       5|         0.4|\n",
      "|  43|         12|2.005437045|            2|                       5|         0.4|\n",
      "|  52|          0|6.142092079|            0|                       0|         0.0|\n",
      "|  52|          1|6.142092079|            0|                       0|         0.0|\n",
      "|  52|          2|6.142092079|            0|                       0|         0.0|\n",
      "|  52|          3|6.142092079|            0|                       0|         0.0|\n",
      "|  52|          4|6.142092079|            0|                       0|         0.0|\n",
      "|  52|          5|6.142092079|            0|                       0|         0.0|\n",
      "|  52|          6|6.142092079|            0|                       0|         0.0|\n",
      "|  52|          7|6.142092079|            0|                       0|         0.0|\n",
      "|  52|          8|6.142092079|            0|                       0|         0.0|\n",
      "|  52|          9|6.142092079|            0|                       0|         0.0|\n",
      "|  52|         10|6.142092079|            0|                       0|         0.0|\n",
      "|  52|         11|6.142092079|            0|                       0|         0.0|\n",
      "|  52|         12|6.142092079|            0|                       0|         0.0|\n",
      "|  56|          0|0.344073685|            0|                       0|         0.0|\n",
      "|  56|          1|0.344073685|            0|                       0|         0.0|\n",
      "|  56|          2|0.344073685|            0|                       0|         0.0|\n",
      "|  56|          3|0.344073685|            0|                       0|         0.0|\n",
      "|  56|          4|0.344073685|            0|                       0|         0.0|\n",
      "|  56|          5|0.344073685|            0|                       0|         0.0|\n",
      "|  56|          6|0.344073685|            0|                       0|         0.0|\n",
      "|  56|          7|0.344073685|            0|                       0|         0.0|\n",
      "|  56|          8|0.344073685|            0|                       0|         0.0|\n",
      "|  56|          9|0.344073685|            0|                       0|         0.0|\n",
      "|  56|         10|0.344073685|            0|                       0|         0.0|\n",
      "|  56|         11|0.344073685|            0|                       0|         0.0|\n",
      "|  56|         12|0.344073685|            0|                       0|         0.0|\n",
      "|  58|          0|1.496668825|            0|                       0|         0.0|\n",
      "|  58|          1|1.496668825|            0|                       0|         0.0|\n",
      "|  58|          2|1.496668825|            0|                       0|         0.0|\n",
      "|  58|          3|1.496668825|            0|                       0|         0.0|\n",
      "|  58|          4|1.496668825|            0|                       0|         0.0|\n",
      "|  58|          5|1.496668825|            0|                       0|         0.0|\n",
      "|  58|          6|1.496668825|            0|                       0|         0.0|\n",
      "|  58|          7|1.496668825|            0|                       0|         0.0|\n",
      "|  58|          8|1.496668825|            0|                       0|         0.0|\n",
      "|  58|          9|1.496668825|            0|                       0|         0.0|\n",
      "|  58|         10|1.496668825|            0|                       0|         0.0|\n",
      "|  58|         11|1.496668825|            0|                       0|         0.0|\n",
      "|  58|         12|1.496668825|            0|                       0|         0.0|\n",
      "| 112|          0|2.648665591|            0|                       0|         0.0|\n",
      "| 112|          1|2.648665591|            0|                       0|         0.0|\n",
      "| 112|          2|2.648665591|            0|                       0|         0.0|\n",
      "| 112|          3|2.648665591|            0|                       0|         0.0|\n",
      "| 112|          4|2.648665591|            0|                       0|         0.0|\n",
      "| 112|          5|2.648665591|            0|                       0|         0.0|\n",
      "| 112|          6|2.648665591|            0|                       0|         0.0|\n",
      "| 112|          7|2.648665591|            0|                       0|         0.0|\n",
      "| 112|          8|2.648665591|            0|                       0|         0.0|\n",
      "| 112|          9|2.648665591|            0|                       0|         0.0|\n",
      "| 112|         10|2.648665591|            0|                       0|         0.0|\n",
      "| 112|         11|2.648665591|            0|                       0|         0.0|\n",
      "| 112|         12|2.648665591|            0|                       0|         0.0|\n",
      "| 126|          0|0.765372494|            0|                       0|         0.0|\n",
      "| 126|          1|0.765372494|            0|                       0|         0.0|\n",
      "| 126|          2|0.765372494|            0|                       0|         0.0|\n",
      "| 126|          3|0.765372494|            0|                       0|         0.0|\n",
      "| 126|          4|0.765372494|            0|                       0|         0.0|\n",
      "| 126|          5|0.765372494|            0|                       0|         0.0|\n",
      "| 126|          6|0.765372494|            0|                       0|         0.0|\n",
      "| 126|          7|0.765372494|            0|                       0|         0.0|\n",
      "| 126|          8|0.765372494|            0|                       0|         0.0|\n",
      "| 126|          9|0.765372494|            0|                       0|         0.0|\n",
      "| 126|         10|0.765372494|            0|                       0|         0.0|\n",
      "| 126|         11|0.765372494|            0|                       0|         0.0|\n",
      "| 126|         12|0.765372494|            0|                       0|         0.0|\n",
      "| 130|          0|2.926851246|            0|                       0|         0.0|\n",
      "| 130|          1|2.926851246|            0|                       0|         0.0|\n",
      "| 130|          2|2.926851246|            0|                       0|         0.0|\n",
      "| 130|          3|2.926851246|            0|                       0|         0.0|\n",
      "| 130|          4|2.926851246|            0|                       0|         0.0|\n",
      "| 130|          5|2.926851246|            0|                       0|         0.0|\n",
      "| 130|          6|2.926851246|            0|                       0|         0.0|\n",
      "| 130|          7|2.926851246|            0|                       0|         0.0|\n",
      "| 130|          8|2.926851246|            0|                       0|         0.0|\n",
      "| 130|          9|2.926851246|            0|                       0|         0.0|\n",
      "| 130|         10|2.926851246|            0|                       0|         0.0|\n",
      "| 130|         11|2.926851246|            0|                       0|         0.0|\n",
      "| 130|         12|2.926851246|            0|                       0|         0.0|\n",
      "| 136|          0|0.533665042|            0|                       0|         0.0|\n",
      "| 136|          1|0.533665042|            0|                       0|         0.0|\n",
      "| 136|          2|0.533665042|            0|                       0|         0.0|\n",
      "| 136|          3|0.533665042|            0|                       0|         0.0|\n",
      "| 136|          4|0.533665042|            0|                       0|         0.0|\n",
      "| 136|          5|0.533665042|            0|                       0|         0.0|\n",
      "| 136|          6|0.533665042|            0|                       0|         0.0|\n",
      "| 136|          7|0.533665042|            0|                       0|         0.0|\n",
      "| 136|          8|0.533665042|            0|                       0|         0.0|\n",
      "| 136|          9|0.533665042|            0|                       0|         0.0|\n",
      "| 136|         10|0.533665042|            0|                       0|         0.0|\n",
      "| 136|         11|0.533665042|            0|                       0|         0.0|\n",
      "| 136|         12|0.533665042|            0|                       0|         0.0|\n",
      "| 145|          0|1.345835924|            0|                       0|         0.0|\n",
      "| 145|          1|1.345835924|            0|                       0|         0.0|\n",
      "| 145|          2|1.345835924|            0|                       0|         0.0|\n",
      "| 145|          3|1.345835924|            0|                       0|         0.0|\n",
      "| 145|          4|1.345835924|            0|                       0|         0.0|\n",
      "| 145|          5|1.345835924|            0|                       0|         0.0|\n",
      "| 145|          6|1.345835924|            1|                       7| 0.142857143|\n",
      "| 145|          7|1.345835924|            1|                       7| 0.142857143|\n",
      "| 145|          8|1.345835924|            1|                       7| 0.142857143|\n",
      "| 145|          9|1.345835924|            1|                       7| 0.142857143|\n",
      "| 145|         10|1.345835924|            1|                       7| 0.142857143|\n",
      "| 145|         11|1.345835924|            1|                       7| 0.142857143|\n",
      "| 145|         12|1.345835924|            1|                       7| 0.142857143|\n",
      "| 149|          0|0.932545758|            0|                       0|         0.0|\n",
      "| 149|          1|0.932545758|            0|                       0|         0.0|\n",
      "| 149|          2|0.932545758|            0|                       0|         0.0|\n",
      "| 149|          3|0.932545758|            0|                       0|         0.0|\n",
      "| 149|          4|0.932545758|            0|                       0|         0.0|\n",
      "| 149|          5|0.932545758|            1|                       4|        0.25|\n",
      "| 149|          6|0.932545758|            1|                       4|        0.25|\n",
      "| 149|          7|0.932545758|            1|                       4|        0.25|\n",
      "| 149|          8|0.932545758|            1|                       4|        0.25|\n",
      "| 149|          9|0.932545758|            1|                       4|        0.25|\n",
      "| 149|         10|0.932545758|            1|                       4|        0.25|\n",
      "| 149|         11|0.932545758|            1|                       4|        0.25|\n",
      "| 149|         12|0.932545758|            1|                       4|        0.25|\n",
      "| 158|          0|0.574077814|            0|                       0|         0.0|\n",
      "| 158|          1|0.574077814|            0|                       0|         0.0|\n",
      "| 158|          2|0.574077814|            0|                       0|         0.0|\n",
      "| 158|          3|0.574077814|            0|                       0|         0.0|\n",
      "| 158|          4|0.574077814|            0|                       0|         0.0|\n",
      "| 158|          5|0.574077814|            0|                       0|         0.0|\n",
      "| 158|          6|0.574077814|            0|                       0|         0.0|\n",
      "| 158|          7|0.574077814|            0|                       0|         0.0|\n",
      "| 158|          8|0.574077814|            0|                       0|         0.0|\n",
      "| 158|          9|0.574077814|            0|                       0|         0.0|\n",
      "| 158|         10|0.574077814|            0|                       0|         0.0|\n",
      "| 158|         11|0.574077814|            0|                       0|         0.0|\n",
      "| 158|         12|0.574077814|            0|                       0|         0.0|\n",
      "| 181|          0|0.914395741|            0|                       0|         0.0|\n",
      "| 181|          1|0.914395741|            0|                       0|         0.0|\n",
      "| 181|          2|0.914395741|            0|                       0|         0.0|\n",
      "| 181|          3|0.914395741|            0|                       0|         0.0|\n",
      "| 181|          4|0.914395741|            0|                       0|         0.0|\n",
      "| 181|          5|0.914395741|            0|                       0|         0.0|\n",
      "| 181|          6|0.914395741|            0|                       0|         0.0|\n",
      "| 181|          7|0.914395741|            0|                       0|         0.0|\n",
      "| 181|          8|0.914395741|            0|                       0|         0.0|\n",
      "| 181|          9|0.914395741|            0|                       0|         0.0|\n",
      "| 181|         10|0.914395741|            0|                       0|         0.0|\n",
      "| 181|         11|0.914395741|            0|                       0|         0.0|\n",
      "| 181|         12|0.914395741|            0|                       0|         0.0|\n",
      "| 187|          0|0.535847136|            0|                       0|         0.0|\n",
      "| 187|          1|0.535847136|            0|                       0|         0.0|\n",
      "| 187|          2|0.535847136|            0|                       0|         0.0|\n",
      "| 187|          3|0.535847136|            0|                       0|         0.0|\n",
      "| 187|          4|0.535847136|            0|                       0|         0.0|\n",
      "| 187|          5|0.535847136|            0|                       0|         0.0|\n",
      "| 187|          6|0.535847136|            0|                       0|         0.0|\n",
      "| 187|          7|0.535847136|            0|                       0|         0.0|\n",
      "| 187|          8|0.535847136|            0|                       0|         0.0|\n",
      "| 187|          9|0.535847136|            0|                       0|         0.0|\n",
      "| 187|         10|0.535847136|            0|                       0|         0.0|\n",
      "| 187|         11|0.535847136|            0|                       0|         0.0|\n",
      "| 187|         12|0.535847136|            0|                       0|         0.0|\n",
      "| 212|          0|0.627617591|            0|                       0|         0.0|\n",
      "| 212|          1|0.627617591|            0|                       0|         0.0|\n",
      "| 212|          2|0.627617591|            0|                       0|         0.0|\n",
      "| 212|          3|0.627617591|            0|                       0|         0.0|\n",
      "| 212|          4|0.627617591|            1|                       5|         0.2|\n",
      "| 212|          5|0.627617591|            1|                       5|         0.2|\n",
      "| 212|          6|0.627617591|            1|                       5|         0.2|\n",
      "| 212|          7|0.627617591|            1|                       5|         0.2|\n",
      "| 212|          8|0.627617591|            1|                       5|         0.2|\n",
      "| 212|          9|0.627617591|            1|                       5|         0.2|\n",
      "| 212|         10|0.627617591|            1|                       5|         0.2|\n",
      "| 212|         11|0.627617591|            1|                       5|         0.2|\n",
      "| 212|         12|0.627617591|            1|                       5|         0.2|\n",
      "| 227|          0|1.567385533|            0|                       0|         0.0|\n",
      "| 227|          1|1.567385533|            0|                       0|         0.0|\n",
      "| 227|          2|1.567385533|            0|                       0|         0.0|\n",
      "| 227|          3|1.567385533|            0|                       0|         0.0|\n",
      "| 227|          4|1.567385533|            0|                       0|         0.0|\n",
      "| 227|          5|1.567385533|            0|                       0|         0.0|\n",
      "| 227|          6|1.567385533|            0|                       0|         0.0|\n",
      "| 227|          7|1.567385533|            0|                       0|         0.0|\n",
      "| 227|          8|1.567385533|            0|                       0|         0.0|\n",
      "| 227|          9|1.567385533|            0|                       0|         0.0|\n",
      "| 227|         10|1.567385533|            0|                       0|         0.0|\n",
      "| 227|         11|1.567385533|            0|                       0|         0.0|\n",
      "| 227|         12|1.567385533|            0|                       0|         0.0|\n",
      "| 228|          0|0.545630713|            0|                       0|         0.0|\n",
      "| 228|          1|0.545630713|            0|                       0|         0.0|\n",
      "| 228|          2|0.545630713|            0|                       0|         0.0|\n",
      "| 228|          3|0.545630713|            0|                       0|         0.0|\n",
      "| 228|          4|0.545630713|            0|                       0|         0.0|\n",
      "| 228|          5|0.545630713|            0|                       0|         0.0|\n",
      "| 228|          6|0.545630713|            0|                       0|         0.0|\n",
      "| 228|          7|0.545630713|            0|                       0|         0.0|\n",
      "| 228|          8|0.545630713|            0|                       0|         0.0|\n",
      "| 228|          9|0.545630713|            0|                       0|         0.0|\n",
      "| 228|         10|0.545630713|            0|                       0|         0.0|\n",
      "| 228|         11|0.545630713|            0|                       0|         0.0|\n",
      "| 228|         12|0.545630713|            0|                       0|         0.0|\n",
      "| 232|          0|0.582808112|            0|                       0|         0.0|\n",
      "| 232|          1|0.582808112|            0|                       0|         0.0|\n",
      "| 232|          2|0.582808112|            0|                       0|         0.0|\n",
      "| 232|          3|0.582808112|            0|                       0|         0.0|\n",
      "| 232|          4|0.582808112|            0|                       0|         0.0|\n",
      "| 232|          5|0.582808112|            0|                       0|         0.0|\n",
      "| 232|          6|0.582808112|            0|                       0|         0.0|\n",
      "| 232|          7|0.582808112|            0|                       0|         0.0|\n",
      "| 232|          8|0.582808112|            0|                       0|         0.0|\n",
      "| 232|          9|0.582808112|            0|                       0|         0.0|\n",
      "| 232|         10|0.582808112|            0|                       0|         0.0|\n",
      "| 232|         11|0.582808112|            0|                       0|         0.0|\n",
      "| 232|         12|0.582808112|            0|                       0|         0.0|\n",
      "| 239|          0| 0.45761385|            0|                       0|         0.0|\n",
      "| 239|          1| 0.45761385|            0|                       0|         0.0|\n",
      "| 239|          2| 0.45761385|            0|                       0|         0.0|\n",
      "| 239|          3| 0.45761385|            0|                       0|         0.0|\n",
      "| 239|          4| 0.45761385|            0|                       0|         0.0|\n",
      "| 239|          5| 0.45761385|            0|                       0|         0.0|\n",
      "| 239|          6| 0.45761385|            0|                       0|         0.0|\n",
      "| 239|          7| 0.45761385|            0|                       0|         0.0|\n",
      "| 239|          8| 0.45761385|            0|                       0|         0.0|\n",
      "| 239|          9| 0.45761385|            0|                       0|         0.0|\n",
      "| 239|         10| 0.45761385|            0|                       0|         0.0|\n",
      "| 239|         11| 0.45761385|            0|                       0|         0.0|\n",
      "| 239|         12| 0.45761385|            0|                       0|         0.0|\n",
      "| 241|          0|1.167082043|            1|                       3| 0.333333333|\n",
      "| 241|          1|1.167082043|            1|                       3| 0.333333333|\n",
      "| 241|          2|1.167082043|            1|                       3| 0.333333333|\n",
      "| 241|          3|1.167082043|            1|                       3| 0.333333333|\n",
      "| 241|          4|1.167082043|            1|                       3| 0.333333333|\n",
      "| 241|          5|1.167082043|            1|                       3| 0.333333333|\n",
      "| 241|          6|1.167082043|            1|                       3| 0.333333333|\n",
      "| 241|          7|1.167082043|            1|                       3| 0.333333333|\n",
      "| 241|          8|1.167082043|            1|                       3| 0.333333333|\n",
      "| 241|          9|1.167082043|            1|                       3| 0.333333333|\n",
      "| 241|         10|1.167082043|            1|                       3| 0.333333333|\n",
      "| 241|         11|1.167082043|            1|                       3| 0.333333333|\n",
      "| 241|         12|1.167082043|            1|                       3| 0.333333333|\n",
      "| 243|          0|2.035732242|            0|                       0|         0.0|\n",
      "| 243|          1|2.035732242|            0|                       0|         0.0|\n",
      "| 243|          2|2.035732242|            0|                       0|         0.0|\n",
      "| 243|          3|2.035732242|            0|                       0|         0.0|\n",
      "| 243|          4|2.035732242|            0|                       0|         0.0|\n",
      "| 243|          5|2.035732242|            0|                       0|         0.0|\n",
      "| 243|          6|2.035732242|            0|                       0|         0.0|\n",
      "| 243|          7|2.035732242|            0|                       0|         0.0|\n",
      "| 243|          8|2.035732242|            0|                       0|         0.0|\n",
      "| 243|          9|2.035732242|            0|                       0|         0.0|\n",
      "| 243|         10|2.035732242|            0|                       0|         0.0|\n",
      "| 243|         11|2.035732242|            0|                       0|         0.0|\n",
      "| 243|         12|2.035732242|            0|                       0|         0.0|\n",
      "| 246|          0|1.978554177|            0|                       0|         0.0|\n",
      "| 246|          1|1.978554177|            0|                       0|         0.0|\n",
      "| 246|          2|1.978554177|            0|                       0|         0.0|\n",
      "| 246|          3|1.978554177|            0|                       0|         0.0|\n",
      "| 246|          4|1.978554177|            0|                       0|         0.0|\n",
      "| 246|          5|1.978554177|            0|                       0|         0.0|\n",
      "| 246|          6|1.978554177|            0|                       0|         0.0|\n",
      "| 246|          7|1.978554177|            0|                       0|         0.0|\n",
      "| 246|          8|1.978554177|            0|                       0|         0.0|\n",
      "| 246|          9|1.978554177|            0|                       0|         0.0|\n",
      "| 246|         10|1.978554177|            0|                       0|         0.0|\n",
      "| 246|         11|1.978554177|            0|                       0|         0.0|\n",
      "| 246|         12|1.978554177|            0|                       0|         0.0|\n",
      "| 253|          0|2.308063161|            0|                       0|         0.0|\n",
      "| 253|          1|2.308063161|            0|                       0|         0.0|\n",
      "| 253|          2|2.308063161|            0|                       0|         0.0|\n",
      "| 253|          3|2.308063161|            0|                       0|         0.0|\n",
      "| 253|          4|2.308063161|            0|                       0|         0.0|\n",
      "| 253|          5|2.308063161|            0|                       0|         0.0|\n",
      "| 253|          6|2.308063161|            0|                       0|         0.0|\n",
      "| 253|          7|2.308063161|            0|                       0|         0.0|\n",
      "| 253|          8|2.308063161|            0|                       0|         0.0|\n",
      "| 253|          9|2.308063161|            0|                       0|         0.0|\n",
      "| 253|         10|2.308063161|            0|                       0|         0.0|\n",
      "| 253|         11|2.308063161|            0|                       0|         0.0|\n",
      "| 253|         12|2.308063161|            0|                       0|         0.0|\n",
      "| 255|          0|0.876639333|            0|                       0|         0.0|\n",
      "| 255|          1|0.876639333|            0|                       0|         0.0|\n",
      "| 255|          2|0.876639333|            0|                       0|         0.0|\n",
      "| 255|          3|0.876639333|            0|                       0|         0.0|\n",
      "| 255|          4|0.876639333|            0|                       0|         0.0|\n",
      "| 255|          5|0.876639333|            0|                       0|         0.0|\n",
      "| 255|          6|0.876639333|            0|                       0|         0.0|\n",
      "| 255|          7|0.876639333|            0|                       0|         0.0|\n",
      "| 255|          8|0.876639333|            0|                       0|         0.0|\n",
      "| 255|          9|0.876639333|            0|                       0|         0.0|\n",
      "| 255|         10|0.876639333|            0|                       0|         0.0|\n",
      "| 255|         11|0.876639333|            0|                       0|         0.0|\n",
      "| 255|         12|0.876639333|            0|                       0|         0.0|\n",
      "| 275|          0|0.344073685|            0|                       0|         0.0|\n",
      "| 275|          1|0.344073685|            0|                       0|         0.0|\n",
      "| 275|          2|0.344073685|            0|                       0|         0.0|\n",
      "| 275|          3|0.344073685|            0|                       0|         0.0|\n",
      "| 275|          4|0.344073685|            0|                       0|         0.0|\n",
      "| 275|          5|0.344073685|            0|                       0|         0.0|\n",
      "| 275|          6|0.344073685|            0|                       0|         0.0|\n",
      "| 275|          7|0.344073685|            0|                       0|         0.0|\n",
      "| 275|          8|0.344073685|            0|                       0|         0.0|\n",
      "| 275|          9|0.344073685|            0|                       0|         0.0|\n",
      "| 275|         10|0.344073685|            0|                       0|         0.0|\n",
      "| 275|         11|0.344073685|            0|                       0|         0.0|\n",
      "| 275|         12|0.344073685|            0|                       0|         0.0|\n",
      "| 293|          0|0.636536318|            0|                       0|         0.0|\n",
      "| 293|          1|0.636536318|            0|                       0|         0.0|\n",
      "| 293|          2|0.636536318|            0|                       0|         0.0|\n",
      "| 293|          3|0.636536318|            0|                       0|         0.0|\n",
      "| 293|          4|0.636536318|            0|                       0|         0.0|\n",
      "| 293|          5|0.636536318|            0|                       0|         0.0|\n",
      "| 293|          6|0.636536318|            0|                       0|         0.0|\n",
      "| 293|          7|0.636536318|            0|                       0|         0.0|\n",
      "| 293|          8|0.636536318|            0|                       0|         0.0|\n",
      "| 293|          9|0.636536318|            0|                       0|         0.0|\n",
      "| 293|         10|0.636536318|            0|                       0|         0.0|\n",
      "| 293|         11|0.636536318|            0|                       0|         0.0|\n",
      "| 293|         12|0.636536318|            0|                       0|         0.0|\n",
      "| 299|          0|2.607482325|            0|                       0|         0.0|\n",
      "| 299|          1|2.607482325|            0|                       0|         0.0|\n",
      "| 299|          2|2.607482325|            0|                       0|         0.0|\n",
      "| 299|          3|2.607482325|            0|                       0|         0.0|\n",
      "| 299|          4|2.607482325|            0|                       0|         0.0|\n",
      "| 299|          5|2.607482325|            0|                       0|         0.0|\n",
      "| 299|          6|2.607482325|            0|                       0|         0.0|\n",
      "| 299|          7|2.607482325|            0|                       0|         0.0|\n",
      "| 299|          8|2.607482325|            0|                       0|         0.0|\n",
      "| 299|          9|2.607482325|            0|                       0|         0.0|\n",
      "| 299|         10|2.607482325|            0|                       0|         0.0|\n",
      "| 299|         11|2.607482325|            0|                       0|         0.0|\n",
      "| 299|         12|2.607482325|            0|                       0|         0.0|\n",
      "| 320|          0| 0.55966816|            0|                       0|         0.0|\n",
      "| 320|          1| 0.55966816|            0|                       0|         0.0|\n",
      "| 320|          2| 0.55966816|            0|                       0|         0.0|\n",
      "| 320|          3| 0.55966816|            0|                       0|         0.0|\n",
      "| 320|          4| 0.55966816|            0|                       0|         0.0|\n",
      "| 320|          5| 0.55966816|            0|                       0|         0.0|\n",
      "| 320|          6| 0.55966816|            0|                       0|         0.0|\n",
      "| 320|          7| 0.55966816|            0|                       0|         0.0|\n",
      "| 320|          8| 0.55966816|            0|                       0|         0.0|\n",
      "| 320|          9| 0.55966816|            0|                       0|         0.0|\n",
      "| 320|         10| 0.55966816|            0|                       0|         0.0|\n",
      "| 320|         11| 0.55966816|            0|                       0|         0.0|\n",
      "| 320|         12| 0.55966816|            0|                       0|         0.0|\n",
      "| 341|          0|0.917014802|            0|                       0|         0.0|\n",
      "| 341|          1|0.917014802|            0|                       0|         0.0|\n",
      "| 341|          2|0.917014802|            0|                       0|         0.0|\n",
      "| 341|          3|0.917014802|            0|                       0|         0.0|\n",
      "| 341|          4|0.917014802|            0|                       0|         0.0|\n",
      "| 341|          5|0.917014802|            0|                       0|         0.0|\n",
      "| 341|          6|0.917014802|            0|                       0|         0.0|\n",
      "| 341|          7|0.917014802|            0|                       0|         0.0|\n",
      "| 341|          8|0.917014802|            0|                       0|         0.0|\n",
      "| 341|          9|0.917014802|            0|                       0|         0.0|\n",
      "| 341|         10|0.917014802|            0|                       0|         0.0|\n",
      "| 341|         11|0.917014802|            0|                       0|         0.0|\n",
      "| 341|         12|0.917014802|            0|                       0|         0.0|\n",
      "| 346|          0|1.598686773|            0|                       0|         0.0|\n",
      "| 346|          1|1.598686773|            0|                       0|         0.0|\n",
      "| 346|          2|1.598686773|            1|                       4|        0.25|\n",
      "| 346|          3|1.598686773|            1|                       4|        0.25|\n",
      "| 346|          4|1.598686773|            1|                       4|        0.25|\n",
      "| 346|          5|1.598686773|            1|                       4|        0.25|\n",
      "| 346|          6|1.598686773|            1|                       4|        0.25|\n",
      "| 346|          7|1.598686773|            1|                       4|        0.25|\n",
      "| 346|          8|1.598686773|            1|                       4|        0.25|\n",
      "| 346|          9|1.598686773|            1|                       4|        0.25|\n",
      "| 346|         10|1.598686773|            1|                       4|        0.25|\n",
      "| 346|         11|1.598686773|            1|                       4|        0.25|\n",
      "| 346|         12|1.598686773|            1|                       4|        0.25|\n",
      "| 347|          0|0.636536318|            0|                       0|         0.0|\n",
      "| 347|          1|0.636536318|            0|                       0|         0.0|\n",
      "| 347|          2|0.636536318|            0|                       0|         0.0|\n",
      "| 347|          3|0.636536318|            0|                       0|         0.0|\n",
      "| 347|          4|0.636536318|            0|                       0|         0.0|\n",
      "| 347|          5|0.636536318|            0|                       0|         0.0|\n",
      "| 347|          6|0.636536318|            0|                       0|         0.0|\n",
      "| 347|          7|0.636536318|            0|                       0|         0.0|\n",
      "| 347|          8|0.636536318|            0|                       0|         0.0|\n",
      "| 347|          9|0.636536318|            0|                       0|         0.0|\n",
      "| 347|         10|0.636536318|            0|                       0|         0.0|\n",
      "| 347|         11|0.636536318|            0|                       0|         0.0|\n",
      "| 347|         12|0.636536318|            0|                       0|         0.0|\n",
      "| 369|          0|0.636536318|            0|                       0|         0.0|\n",
      "| 369|          1|0.636536318|            0|                       0|         0.0|\n",
      "| 369|          2|0.636536318|            0|                       0|         0.0|\n",
      "| 369|          3|0.636536318|            0|                       0|         0.0|\n",
      "| 369|          4|0.636536318|            0|                       0|         0.0|\n",
      "| 369|          5|0.636536318|            0|                       0|         0.0|\n",
      "+----+-----------+-----------+-------------+------------------------+------------+\n",
      "only showing top 500 rows\n",
      "\n",
      "time: 5.31 s\n"
     ]
    }
   ],
   "source": [
    "social_network_metrics.show(500)"
   ]
  },
  {
   "cell_type": "code",
   "execution_count": 30,
   "metadata": {},
   "outputs": [
    {
     "name": "stdout",
     "output_type": "stream",
     "text": [
      "time: 518 ms\n"
     ]
    }
   ],
   "source": [
    "# load the transaction_user data\n",
    "transaction_user = spark\\\n",
    "        .read\\\n",
    "        .option('header','true')\\\n",
    "        .option('inferSchema','true')\\\n",
    "        .csv(r'transaction_user.csv')"
   ]
  },
  {
   "cell_type": "code",
   "execution_count": 31,
   "metadata": {},
   "outputs": [
    {
     "name": "stdout",
     "output_type": "stream",
     "text": [
      "time: 19.5 ms\n"
     ]
    }
   ],
   "source": [
    "transaction_user.createOrReplaceTempView(\"transaction_user\")\n",
    "social_network_metrics.createOrReplaceTempView(\"social_network_metrics\")\n",
    "# Combine social metrics variables and Y variables into one dataframe\n",
    "social_network_metrics_Y = spark.sql(\"select transaction_user.count as count, \\\n",
    "                            social_network_metrics.user as user,\\\n",
    "                                profile_num,pagerank,friends_count,friends_of_friends_count,cluster_coef\\\n",
    "                      from social_network_metrics \\\n",
    "                       join \\\n",
    "                      transaction_user\\\n",
    "                      on transaction_user.user = social_network_metrics.user \\\n",
    "                        order by social_network_metrics.user, social_network_metrics.profile_num \")"
   ]
  },
  {
   "cell_type": "code",
   "execution_count": 32,
   "metadata": {},
   "outputs": [
    {
     "name": "stdout",
     "output_type": "stream",
     "text": [
      "+-----+----+-----------+-----------+-------------+------------------------+------------+\n",
      "|count|user|profile_num|   pagerank|friends_count|friends_of_friends_count|cluster_coef|\n",
      "+-----+----+-----------+-----------+-------------+------------------------+------------+\n",
      "|    1|  19|          0|1.057785886|            0|                       0|         0.0|\n",
      "|    1|  19|          1|1.057785886|            0|                       0|         0.0|\n",
      "|    1|  19|          2|1.057785886|            0|                       0|         0.0|\n",
      "|    1|  19|          3|1.057785886|            0|                       0|         0.0|\n",
      "|    1|  19|          4|1.057785886|            0|                       0|         0.0|\n",
      "|    1|  19|          5|1.057785886|            0|                       0|         0.0|\n",
      "|    1|  19|          6|1.057785886|            0|                       0|         0.0|\n",
      "|    1|  19|          7|1.057785886|            0|                       0|         0.0|\n",
      "|    1|  19|          8|1.057785886|            0|                       0|         0.0|\n",
      "|    1|  19|          9|1.057785886|            0|                       0|         0.0|\n",
      "|    1|  19|         10|1.057785886|            0|                       0|         0.0|\n",
      "|    1|  19|         11|1.057785886|            0|                       0|         0.0|\n",
      "|    1|  19|         12|1.057785886|            0|                       0|         0.0|\n",
      "|    1|  28|          0|0.455995419|            0|                       0|         0.0|\n",
      "|    1|  28|          1|0.455995419|            0|                       0|         0.0|\n",
      "|    1|  28|          2|0.455995419|            0|                       0|         0.0|\n",
      "|    1|  28|          3|0.455995419|            0|                       0|         0.0|\n",
      "|    1|  28|          4|0.455995419|            0|                       0|         0.0|\n",
      "|    1|  28|          5|0.455995419|            0|                       0|         0.0|\n",
      "|    1|  28|          6|0.455995419|            0|                       0|         0.0|\n",
      "|    1|  28|          7|0.455995419|            0|                       0|         0.0|\n",
      "|    1|  28|          8|0.455995419|            0|                       0|         0.0|\n",
      "|    1|  28|          9|0.455995419|            0|                       0|         0.0|\n",
      "|    1|  28|         10|0.455995419|            0|                       0|         0.0|\n",
      "|    1|  28|         11|0.455995419|            0|                       0|         0.0|\n",
      "|    1|  28|         12|0.455995419|            0|                       0|         0.0|\n",
      "|    3|  34|          0|0.896102629|            0|                       0|         0.0|\n",
      "|    3|  34|          1|0.896102629|            0|                       0|         0.0|\n",
      "|    3|  34|          2|0.896102629|            0|                       0|         0.0|\n",
      "|    3|  34|          3|0.896102629|            0|                       0|         0.0|\n",
      "|    3|  34|          4|0.896102629|            0|                       0|         0.0|\n",
      "|    3|  34|          5|0.896102629|            0|                       0|         0.0|\n",
      "|    3|  34|          6|0.896102629|            0|                       0|         0.0|\n",
      "|    3|  34|          7|0.896102629|            0|                       0|         0.0|\n",
      "|    3|  34|          8|0.896102629|            0|                       0|         0.0|\n",
      "|    3|  34|          9|0.896102629|            0|                       0|         0.0|\n",
      "|    3|  34|         10|0.896102629|            0|                       0|         0.0|\n",
      "|    3|  34|         11|0.896102629|            0|                       0|         0.0|\n",
      "|    3|  34|         12|0.896102629|            0|                       0|         0.0|\n",
      "|   12|  43|          0|2.005437045|            0|                       0|         0.0|\n",
      "|   12|  43|          1|2.005437045|            0|                       0|         0.0|\n",
      "|   12|  43|          2|2.005437045|            0|                       0|         0.0|\n",
      "|   12|  43|          3|2.005437045|            0|                       0|         0.0|\n",
      "|   12|  43|          4|2.005437045|            2|                       5|         0.4|\n",
      "|   12|  43|          5|2.005437045|            2|                       5|         0.4|\n",
      "|   12|  43|          6|2.005437045|            2|                       5|         0.4|\n",
      "|   12|  43|          7|2.005437045|            2|                       5|         0.4|\n",
      "|   12|  43|          8|2.005437045|            2|                       5|         0.4|\n",
      "|   12|  43|          9|2.005437045|            2|                       5|         0.4|\n",
      "|   12|  43|         10|2.005437045|            2|                       5|         0.4|\n",
      "|   12|  43|         11|2.005437045|            2|                       5|         0.4|\n",
      "|   12|  43|         12|2.005437045|            2|                       5|         0.4|\n",
      "|    1|  52|          0|6.142092079|            0|                       0|         0.0|\n",
      "|    1|  52|          1|6.142092079|            0|                       0|         0.0|\n",
      "|    1|  52|          2|6.142092079|            0|                       0|         0.0|\n",
      "|    1|  52|          3|6.142092079|            0|                       0|         0.0|\n",
      "|    1|  52|          4|6.142092079|            0|                       0|         0.0|\n",
      "|    1|  52|          5|6.142092079|            0|                       0|         0.0|\n",
      "|    1|  52|          6|6.142092079|            0|                       0|         0.0|\n",
      "|    1|  52|          7|6.142092079|            0|                       0|         0.0|\n",
      "|    1|  52|          8|6.142092079|            0|                       0|         0.0|\n",
      "|    1|  52|          9|6.142092079|            0|                       0|         0.0|\n",
      "|    1|  52|         10|6.142092079|            0|                       0|         0.0|\n",
      "|    1|  52|         11|6.142092079|            0|                       0|         0.0|\n",
      "|    1|  52|         12|6.142092079|            0|                       0|         0.0|\n",
      "|    1|  56|          0|0.344073685|            0|                       0|         0.0|\n",
      "|    1|  56|          1|0.344073685|            0|                       0|         0.0|\n",
      "|    1|  56|          2|0.344073685|            0|                       0|         0.0|\n",
      "|    1|  56|          3|0.344073685|            0|                       0|         0.0|\n",
      "|    1|  56|          4|0.344073685|            0|                       0|         0.0|\n",
      "|    1|  56|          5|0.344073685|            0|                       0|         0.0|\n",
      "|    1|  56|          6|0.344073685|            0|                       0|         0.0|\n",
      "|    1|  56|          7|0.344073685|            0|                       0|         0.0|\n",
      "|    1|  56|          8|0.344073685|            0|                       0|         0.0|\n",
      "|    1|  56|          9|0.344073685|            0|                       0|         0.0|\n",
      "|    1|  56|         10|0.344073685|            0|                       0|         0.0|\n",
      "|    1|  56|         11|0.344073685|            0|                       0|         0.0|\n",
      "|    1|  56|         12|0.344073685|            0|                       0|         0.0|\n",
      "|    2| 112|          0|2.648665591|            0|                       0|         0.0|\n",
      "|    2| 112|          1|2.648665591|            0|                       0|         0.0|\n",
      "|    2| 112|          2|2.648665591|            0|                       0|         0.0|\n",
      "|    2| 112|          3|2.648665591|            0|                       0|         0.0|\n",
      "|    2| 112|          4|2.648665591|            0|                       0|         0.0|\n",
      "|    2| 112|          5|2.648665591|            0|                       0|         0.0|\n",
      "|    2| 112|          6|2.648665591|            0|                       0|         0.0|\n",
      "|    2| 112|          7|2.648665591|            0|                       0|         0.0|\n",
      "|    2| 112|          8|2.648665591|            0|                       0|         0.0|\n",
      "|    2| 112|          9|2.648665591|            0|                       0|         0.0|\n",
      "|    2| 112|         10|2.648665591|            0|                       0|         0.0|\n",
      "|    2| 112|         11|2.648665591|            0|                       0|         0.0|\n",
      "|    2| 112|         12|2.648665591|            0|                       0|         0.0|\n",
      "|    2| 126|          0|0.765372494|            0|                       0|         0.0|\n",
      "|    2| 126|          1|0.765372494|            0|                       0|         0.0|\n",
      "|    2| 126|          2|0.765372494|            0|                       0|         0.0|\n",
      "|    2| 126|          3|0.765372494|            0|                       0|         0.0|\n",
      "|    2| 126|          4|0.765372494|            0|                       0|         0.0|\n",
      "|    2| 126|          5|0.765372494|            0|                       0|         0.0|\n",
      "|    2| 126|          6|0.765372494|            0|                       0|         0.0|\n",
      "|    2| 126|          7|0.765372494|            0|                       0|         0.0|\n",
      "|    2| 126|          8|0.765372494|            0|                       0|         0.0|\n",
      "+-----+----+-----------+-----------+-------------+------------------------+------------+\n",
      "only showing top 100 rows\n",
      "\n",
      "time: 20.8 s\n"
     ]
    }
   ],
   "source": [
    "social_network_metrics_Y.show(100)"
   ]
  },
  {
   "cell_type": "code",
   "execution_count": null,
   "metadata": {},
   "outputs": [],
   "source": [
    "#social_network_metrics_Y.toPandas().to_csv('social_network_metrics_Y.csv',index=False)"
   ]
  },
  {
   "cell_type": "code",
   "execution_count": 57,
   "metadata": {},
   "outputs": [
    {
     "name": "stdout",
     "output_type": "stream",
     "text": [
      "time: 9.5 ms\n"
     ]
    }
   ],
   "source": [
    "# Define a function to get MSEs for models\n",
    "months = [0,1,2,3,4,5,6,7,8,9,10,11,12]\n",
    "# Create regression model\n",
    "Random_Forest= RandomForestRegressor() \n",
    "Linear_Regression= LinearRegression()\n",
    "def mse_regression(data, month):\n",
    "    # Subset the data within a month\n",
    "    month_data = data.where(data.profile_num==month)\n",
    "    # Convert the data to dense vector (features and label)\n",
    "    transformed_month_data= month_data.rdd.map(lambda r: [Vectors.dense(r[3:]),r[0]]).toDF(['features','label'])\n",
    "    # Split the data into training and test sets (20% hold for testing)\n",
    "    (trainingData, testData) = transformed_month_data.randomSplit([0.8, 0.2],101)\n",
    "    # Fit Linear_Regression/Generalized_Linear_Regression/Random_Forest Model\n",
    "    fit = Linear_Regression.fit(trainingData)\n",
    "    # Make predictions\n",
    "    predictions = fit.transform(testData)\n",
    "    # Select (prediction, true label)\n",
    "    evaluator = RegressionEvaluator(labelCol=\"label\", predictionCol=\"prediction\", metricName=\"mse\")\n",
    "    # Compute mean square error\n",
    "    mse = evaluator.evaluate(predictions)\n",
    "    return mse"
   ]
  },
  {
   "cell_type": "code",
   "execution_count": 63,
   "metadata": {},
   "outputs": [
    {
     "name": "stdout",
     "output_type": "stream",
     "text": [
      "4.331099373790486\n",
      "4.457373670562405\n",
      "4.543684765211619\n",
      "4.740032884630207\n",
      "4.801762400518622\n",
      "4.54360047002864\n",
      "4.693853490152524\n",
      "4.624530059574171\n",
      "4.969478428498018\n",
      "5.062355939214927\n",
      "5.0840496869190455\n",
      "5.297543598582458\n",
      "5.244371289376029\n",
      "time: 7min 54s\n"
     ]
    }
   ],
   "source": [
    "# Get the MSEs for 12 months\n",
    "sn_mse=[]\n",
    "for m in months:\n",
    "    mse = mse_regression(social_network_metrics_Y,m)\n",
    "    sn_mse.append(mse)\n",
    "    print(mse)"
   ]
  },
  {
   "cell_type": "code",
   "execution_count": 69,
   "metadata": {},
   "outputs": [
    {
     "name": "stdout",
     "output_type": "stream",
     "text": [
      "Coefficients: [0.6265900289644059,0.5797984481128586,0.0029434767715604826,-0.41040857810557246]\n",
      "numIterations: 1\n",
      "objectiveHistory: [0.0]\n",
      "time: 1min 56s\n"
     ]
    }
   ],
   "source": [
    "# find informative feature\n",
    "to_train_social_network_metrics_Y = social_network_metrics_Y.rdd.map(lambda r: [Vectors.dense(r[3:]),r[0]]).toDF(['features','label'])\n",
    "fit = Linear_Regression.fit(to_train_social_network_metrics_Y)\n",
    "print(\"Coefficients: %s\" % str(fit.coefficients))"
   ]
  },
  {
   "cell_type": "code",
   "execution_count": 64,
   "metadata": {},
   "outputs": [
    {
     "data": {
      "image/png": "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\n",
      "text/plain": [
       "<Figure size 576x288 with 1 Axes>"
      ]
     },
     "metadata": {
      "needs_background": "light"
     },
     "output_type": "display_data"
    },
    {
     "name": "stdout",
     "output_type": "stream",
     "text": [
      "time: 403 ms\n"
     ]
    }
   ],
   "source": [
    "fig = plt.figure(figsize=(8,4))\n",
    "sns.lineplot(x=months,y=sn_mse)\n",
    "plt.title('MSE for Each Lifetime Point',fontsize=16)\n",
    "plt.xlabel('Month', fontsize=10)\n",
    "plt.ylabel('Mean Squared Error ', fontsize=10)\n",
    "plt.show()"
   ]
  },
  {
   "cell_type": "markdown",
   "metadata": {},
   "source": [
    "## Q12 [5 pts]​: For each user’s lifetime point, regress her social network metrics ​and the spending behavior of her social network​ on ​Y. Plot the MSE for each lifetime point like above. Does the spending behavior of her social network add any predictive benefit compared to Q10?"
   ]
  },
  {
   "cell_type": "code",
   "execution_count": 5,
   "metadata": {},
   "outputs": [
    {
     "name": "stdout",
     "output_type": "stream",
     "text": [
      "time: 1.53 s\n"
     ]
    }
   ],
   "source": [
    "# load the social_network data\n",
    "social_network = spark\\\n",
    "        .read\\\n",
    "        .option('header','true')\\\n",
    "        .option('inferSchema','true')\\\n",
    "        .csv(r'social_network.csv')"
   ]
  },
  {
   "cell_type": "code",
   "execution_count": 6,
   "metadata": {},
   "outputs": [
    {
     "name": "stdout",
     "output_type": "stream",
     "text": [
      "+-----+-------+----------------+----------+-----------+\n",
      "|user1|  user2|        datetime|start_date|profile_num|\n",
      "+-----+-------+----------------+----------+-----------+\n",
      "|    2|    220|2012/11/22 22:03|2012/11/22|          0|\n",
      "|    3|1204190| 2016/10/8 18:56| 2016/9/22|          1|\n",
      "|    3|7854140| 2016/10/8 20:36| 2016/9/22|          1|\n",
      "|    3|1079020| 2016/10/7 16:37| 2016/9/22|          1|\n",
      "|    3|     52| 2016/9/22 08:30| 2016/9/22|          0|\n",
      "|    3|2382556| 2016/10/7 01:50| 2016/9/22|          1|\n",
      "|    3|2382556| 2016/10/6 03:49| 2016/9/22|          1|\n",
      "|    4| 122744| 2012/12/2 19:35| 2012/12/2|          0|\n",
      "|    4| 125527|2012/12/14 21:51| 2012/12/2|          1|\n",
      "|   10|  71056|  2013/4/5 02:48|2012/11/25|          5|\n",
      "|   10|    255| 2013/1/14 00:18|2012/11/25|          2|\n",
      "|   10|     43|  2013/3/3 04:47|2012/11/25|          4|\n",
      "|   10|    255|2012/11/25 01:20|2012/11/25|          0|\n",
      "|   10|     43|2012/12/31 04:44|2012/11/25|          2|\n",
      "|   10|    255| 2013/3/10 21:38|2012/11/25|          4|\n",
      "|   10|     43|2012/12/23 03:08|2012/11/25|          1|\n",
      "|   11| 133784|2012/10/12 23:32| 2012/5/24|          5|\n",
      "|   11|  57391| 2012/5/24 04:30| 2012/5/24|          0|\n",
      "|   11|  50225|  2012/8/9 19:01| 2012/5/24|          3|\n",
      "|   11|  49778| 2012/10/6 21:57| 2012/5/24|          5|\n",
      "+-----+-------+----------------+----------+-----------+\n",
      "only showing top 20 rows\n",
      "\n",
      "time: 687 ms\n"
     ]
    }
   ],
   "source": [
    "social_network.orderBy('user1').show()"
   ]
  },
  {
   "cell_type": "code",
   "execution_count": 7,
   "metadata": {},
   "outputs": [
    {
     "name": "stdout",
     "output_type": "stream",
     "text": [
      "time: 1.32 s\n"
     ]
    }
   ],
   "source": [
    "# load the profile_category_count data\n",
    "profile_category_count = spark\\\n",
    "        .read\\\n",
    "        .option('header','true')\\\n",
    "        .option('inferSchema','true')\\\n",
    "        .csv(r'profile_category_count.csv')"
   ]
  },
  {
   "cell_type": "code",
   "execution_count": 8,
   "metadata": {},
   "outputs": [
    {
     "name": "stdout",
     "output_type": "stream",
     "text": [
      "+---+--------+-----------+--------------------+\n",
      "|_c0|   user1|profile_num|       category_list|\n",
      "+---+--------+-----------+--------------------+\n",
      "|  0| 1000240|          0|            ['Food']|\n",
      "|  1| 1000280|          0|            ['Food']|\n",
      "|  2| 1000280|          2|  ['Food', 'Others']|\n",
      "|  3| 1000280|          6|['Food', 'Others'...|\n",
      "|  4| 1000280|          7|['Food', 'Others'...|\n",
      "|  5| 1000839|          0|         ['Utility']|\n",
      "|  6| 1000839|          1|['Utility', 'Peop...|\n",
      "|  7| 1000839|          8|['Utility', 'Peop...|\n",
      "|  8| 1000839|          9|['Utility', 'Peop...|\n",
      "|  9| 1000839|         11|['Utility', 'Peop...|\n",
      "| 10|10008810|          0|            ['Food']|\n",
      "| 11|10017665|          0|         ['Utility']|\n",
      "| 12|10017665|          3|['Utility', 'Acti...|\n",
      "| 13|10020776|          0|          ['Others']|\n",
      "| 14|10023519|          0|           ['Event']|\n",
      "| 15|10023519|          5| ['Event', 'Others']|\n",
      "| 16|10024817|          0|            ['Food']|\n",
      "| 17|10028788|          0|            ['Food']|\n",
      "| 18|10029175|          0|            ['Food']|\n",
      "| 19|10029175|          2|['Food', 'Others'...|\n",
      "+---+--------+-----------+--------------------+\n",
      "only showing top 20 rows\n",
      "\n",
      "time: 122 ms\n"
     ]
    }
   ],
   "source": [
    "profile_category_count.show()"
   ]
  },
  {
   "cell_type": "code",
   "execution_count": 9,
   "metadata": {},
   "outputs": [
    {
     "name": "stdout",
     "output_type": "stream",
     "text": [
      "time: 938 µs\n"
     ]
    }
   ],
   "source": [
    "emoji_categories = ['Event','Travel','Food','Activity','Transportation','People','Utility']\n",
    "word_categories = [ 'People','Food','Event','Activity','Travel','Transportation','Utility','Cash','Illegal_Sarcasm']\n",
    "\n",
    "all_categories = list(set(emoji_categories + word_categories))\n",
    "all_categories.append('Others')"
   ]
  },
  {
   "cell_type": "code",
   "execution_count": 10,
   "metadata": {},
   "outputs": [
    {
     "name": "stdout",
     "output_type": "stream",
     "text": [
      "time: 246 ms\n"
     ]
    }
   ],
   "source": [
    "# Create binary variables for each categories \n",
    "def binary_profile(dataset, categories):\n",
    "    for category in categories:\n",
    "        dataset = dataset.withColumn(\"%s\" % category, (F.instr(dataset.category_list, \"%s\" % category) > 0).cast('int'))\n",
    "    dataset = dataset.drop('category_list')\n",
    "    return dataset\n",
    "\n",
    "# Create binary variables for each categories \n",
    "spending_behavior_profile = binary_profile(profile_category_count, all_categories)"
   ]
  },
  {
   "cell_type": "code",
   "execution_count": 11,
   "metadata": {
    "scrolled": true
   },
   "outputs": [
    {
     "name": "stdout",
     "output_type": "stream",
     "text": [
      "+---+--------+-----------+------+----+--------------+--------+----+---------------+-----+-------+------+------+\n",
      "|_c0|user1   |profile_num|People|Cash|Transportation|Activity|Food|Illegal_Sarcasm|Event|Utility|Travel|Others|\n",
      "+---+--------+-----------+------+----+--------------+--------+----+---------------+-----+-------+------+------+\n",
      "|0  |1000240 |0          |0     |0   |0             |0       |1   |0              |0    |0      |0     |0     |\n",
      "|1  |1000280 |0          |0     |0   |0             |0       |1   |0              |0    |0      |0     |0     |\n",
      "|2  |1000280 |2          |0     |0   |0             |0       |1   |0              |0    |0      |0     |1     |\n",
      "|3  |1000280 |6          |1     |0   |0             |0       |1   |0              |0    |0      |0     |1     |\n",
      "|4  |1000280 |7          |1     |0   |0             |0       |1   |0              |0    |0      |1     |1     |\n",
      "|5  |1000839 |0          |0     |0   |0             |0       |0   |0              |0    |1      |0     |0     |\n",
      "|6  |1000839 |1          |1     |0   |0             |0       |0   |0              |0    |1      |0     |0     |\n",
      "|7  |1000839 |8          |1     |0   |0             |0       |0   |0              |0    |1      |0     |1     |\n",
      "|8  |1000839 |9          |1     |0   |0             |0       |0   |0              |0    |1      |0     |1     |\n",
      "|9  |1000839 |11         |1     |0   |0             |0       |0   |0              |0    |1      |0     |1     |\n",
      "|10 |10008810|0          |0     |0   |0             |0       |1   |0              |0    |0      |0     |0     |\n",
      "|11 |10017665|0          |0     |0   |0             |0       |0   |0              |0    |1      |0     |0     |\n",
      "|12 |10017665|3          |0     |0   |0             |1       |0   |0              |0    |1      |0     |0     |\n",
      "|13 |10020776|0          |0     |0   |0             |0       |0   |0              |0    |0      |0     |1     |\n",
      "|14 |10023519|0          |0     |0   |0             |0       |0   |0              |1    |0      |0     |0     |\n",
      "|15 |10023519|5          |0     |0   |0             |0       |0   |0              |1    |0      |0     |1     |\n",
      "|16 |10024817|0          |0     |0   |0             |0       |1   |0              |0    |0      |0     |0     |\n",
      "|17 |10028788|0          |0     |0   |0             |0       |1   |0              |0    |0      |0     |0     |\n",
      "|18 |10029175|0          |0     |0   |0             |0       |1   |0              |0    |0      |0     |0     |\n",
      "|19 |10029175|2          |0     |0   |0             |0       |1   |0              |0    |0      |0     |1     |\n",
      "+---+--------+-----------+------+----+--------------+--------+----+---------------+-----+-------+------+------+\n",
      "only showing top 20 rows\n",
      "\n",
      "time: 145 ms\n"
     ]
    }
   ],
   "source": [
    "spending_behavior_profile.show(truncate = False)"
   ]
  },
  {
   "cell_type": "code",
   "execution_count": 16,
   "metadata": {},
   "outputs": [
    {
     "name": "stdout",
     "output_type": "stream",
     "text": [
      "time: 36.7 ms\n"
     ]
    }
   ],
   "source": [
    "social_network.createOrReplaceTempView(\"social_network\")\n",
    "spending_behavior_profile.createOrReplaceTempView(\"spending_behavior_profile\")\n",
    "# Combine social metrics variables and Y variables into one dataframe\n",
    "sn_spending_behavior_profile = spark.sql(\"(select distinct social_network.user1 as user, \\\n",
    "                                     spending_behavior_profile.user1 as friend, \\\n",
    "                                       Activity, \\\n",
    "                                       People,\\\n",
    "                                       Transportation,\\\n",
    "                                       Event,\\\n",
    "                                       Utility,Cash,Travel,Illegal_Sarcasm,Food,Others \\\n",
    "                                 from social_network\\\n",
    "                                       join \\\n",
    "                      spending_behavior_profile\\\n",
    "                      on social_network.user2 = spending_behavior_profile.user1)\\\n",
    "                      union \\\n",
    "                      (select spending_behavior_profile.user1 as user, \\\n",
    "                      spending_behavior_profile.user1 as friend, \\\n",
    "                                       Activity, \\\n",
    "                                       People,\\\n",
    "                                       Transportation,\\\n",
    "                                       Event,\\\n",
    "                                       Utility,Cash,Travel,Illegal_Sarcasm,Food,Others\\\n",
    "                                from spending_behavior_profile)\\\n",
    "                      order by user \")"
   ]
  },
  {
   "cell_type": "code",
   "execution_count": 17,
   "metadata": {
    "scrolled": true
   },
   "outputs": [
    {
     "name": "stdout",
     "output_type": "stream",
     "text": [
      "+----+-------+--------+------+--------------+-----+-------+----+------+---------------+----+------+\n",
      "|user| friend|Activity|People|Transportation|Event|Utility|Cash|Travel|Illegal_Sarcasm|Food|Others|\n",
      "+----+-------+--------+------+--------------+-----+-------+----+------+---------------+----+------+\n",
      "|   2|      2|       0|     0|             0|    0|      0|   0|     0|              0|   0|     1|\n",
      "|   3|      3|       0|     1|             0|    0|      0|   0|     0|              0|   0|     0|\n",
      "|   3|1079020|       0|     0|             0|    0|      0|   0|     0|              0|   0|     0|\n",
      "|   3|     52|       0|     0|             0|    0|      0|   0|     0|              0|   1|     0|\n",
      "|   3|1079020|       0|     0|             0|    0|      0|   0|     0|              0|   0|     1|\n",
      "|   3|      3|       0|     1|             0|    0|      1|   0|     0|              0|   1|     1|\n",
      "|   3|1204190|       0|     0|             0|    0|      0|   0|     0|              0|   0|     1|\n",
      "|   4| 125527|       0|     0|             1|    0|      0|   0|     0|              0|   0|     0|\n",
      "|   4|      4|       0|     0|             0|    0|      0|   0|     0|              0|   1|     0|\n",
      "|   4| 125527|       1|     0|             1|    0|      0|   0|     0|              0|   0|     0|\n",
      "|  10|     10|       0|     1|             0|    0|      0|   0|     0|              0|   1|     0|\n",
      "|  10|     10|       1|     1|             0|    0|      0|   0|     0|              0|   1|     1|\n",
      "|  10|     10|       0|     1|             0|    0|      0|   0|     0|              0|   0|     0|\n",
      "|  10|     43|       0|     0|             0|    0|      0|   0|     0|              0|   1|     0|\n",
      "|  10|     43|       0|     0|             0|    0|      0|   0|     0|              0|   1|     1|\n",
      "|  10|     43|       0|     0|             1|    0|      0|   0|     0|              0|   1|     1|\n",
      "|  11|     42|       0|     0|             0|    0|      0|   0|     0|              0|   1|     0|\n",
      "|  11|  49778|       0|     0|             0|    0|      0|   0|     0|              0|   1|     0|\n",
      "|  11|     11|       0|     0|             0|    1|      1|   0|     0|              0|   1|     1|\n",
      "|  11|     11|       0|     0|             0|    0|      0|   0|     0|              0|   1|     0|\n",
      "+----+-------+--------+------+--------------+-----+-------+----+------+---------------+----+------+\n",
      "only showing top 20 rows\n",
      "\n",
      "time: 13.9 s\n"
     ]
    }
   ],
   "source": [
    "sn_spending_behavior_profile.show()"
   ]
  },
  {
   "cell_type": "code",
   "execution_count": 18,
   "metadata": {},
   "outputs": [
    {
     "name": "stdout",
     "output_type": "stream",
     "text": [
      "time: 68.8 ms\n"
     ]
    }
   ],
   "source": [
    "sn_spending_behavior_profile.createOrReplaceTempView(\"sn_spending_behavior_profile\")\n",
    "user_sn_spending_behavior_profile = spark.sql(\"select user, \\\n",
    "                                       avg(Activity) as Activity, \\\n",
    "                                       avg(People) as People,\\\n",
    "                                       avg(Transportation) as Transportation,\\\n",
    "                                       avg(Event) as Event ,\\\n",
    "                                       avg(Utility) as Utility,\\\n",
    "                                       avg(Cash) as Cash,\\\n",
    "                                       avg(Travel) as Travel,\\\n",
    "                                       avg(Illegal_Sarcasm) as Illegal_Sarcasm,\\\n",
    "                                       avg(Food) as Food,\\\n",
    "                                       avg(Others) as Others  \\\n",
    "                                 from sn_spending_behavior_profile\\\n",
    "                      group by user \")"
   ]
  },
  {
   "cell_type": "code",
   "execution_count": 19,
   "metadata": {},
   "outputs": [
    {
     "name": "stdout",
     "output_type": "stream",
     "text": [
      "+----+-------------------+------------------+-------------------+------------------+-------------------+----+-------------------+---------------+------------------+-------------------+\n",
      "|user|           Activity|            People|     Transportation|             Event|            Utility|Cash|             Travel|Illegal_Sarcasm|              Food|             Others|\n",
      "+----+-------------------+------------------+-------------------+------------------+-------------------+----+-------------------+---------------+------------------+-------------------+\n",
      "|   2|                0.0|               0.0|                0.0|               0.0|                0.0| 0.0|                0.0|            0.0|               0.0|                1.0|\n",
      "|   3|                0.0|0.3333333333333333|                0.0|               0.0|0.16666666666666666| 0.0|                0.0|            0.0|0.3333333333333333|                0.5|\n",
      "|   4| 0.3333333333333333|               0.0| 0.6666666666666666|               0.0|                0.0| 0.0|                0.0|            0.0|0.3333333333333333|                0.0|\n",
      "|  10|0.16666666666666666|               0.5|0.16666666666666666|               0.0|                0.0| 0.0|                0.0|            0.0|0.8333333333333334|                0.5|\n",
      "|  11| 0.1111111111111111|0.2222222222222222|                0.0|0.4444444444444444| 0.2222222222222222| 0.0|                0.0|            0.0|0.7777777777777778| 0.5555555555555556|\n",
      "|  12| 0.4444444444444444|               0.0|                0.0|0.1111111111111111| 0.1111111111111111| 0.0|                0.0|            0.0|0.2222222222222222| 0.7777777777777778|\n",
      "|  13|0.09090909090909091|0.6363636363636364|                0.0|0.2727272727272727|0.18181818181818182| 0.0|0.36363636363636365|            0.0|0.7272727272727273|0.45454545454545453|\n",
      "|  16|                0.0|0.3333333333333333|                0.0|               0.0|                0.0| 0.0|                0.0|            0.0|0.6666666666666666| 0.3333333333333333|\n",
      "|  19| 0.3333333333333333|               0.0|                0.0|               0.0|                0.0| 0.0|                0.0|            0.0|0.3333333333333333| 0.6666666666666666|\n",
      "|  28|                0.0|               0.0| 0.3333333333333333|               0.0|                0.0| 0.0|                0.0|            0.0|               0.0|                1.0|\n",
      "|  34|                0.0|               0.0|                0.0|               0.0|                0.0| 0.0|                0.5|            0.0|               1.0|                0.0|\n",
      "|  42|                0.0|0.3333333333333333|                0.0|0.6666666666666666| 0.3333333333333333| 0.0|                0.0|            0.0|               1.0|                0.5|\n",
      "|  43|                0.2|               0.3|                0.1|               0.0|                0.0| 0.0|                0.0|            0.0|               0.8|                0.4|\n",
      "|  47|                0.0|               0.0|                0.0|               1.0|                0.0| 0.0|                0.0|            0.0|               0.0|                0.0|\n",
      "|  52|                0.0|               0.0|                0.0|               0.0|                0.5| 0.0|                0.0|            0.0|               0.5|                0.0|\n",
      "|  56|               0.25|               0.0|                0.0|               0.0|               0.75| 0.0|                0.0|            0.0|               0.5|               0.25|\n",
      "| 112|                0.0|               0.0|                0.0|               0.0|                0.0| 0.0|                0.0|            0.0|               0.0|                1.0|\n",
      "| 126|                1.0|               0.0|                0.0|               0.0|                0.0| 0.0|                0.0|            0.0|               0.0|                0.5|\n",
      "| 129| 0.3333333333333333|               0.0|                0.0|               0.0|                0.0| 0.0|                0.0|            0.0|               0.0| 0.3333333333333333|\n",
      "| 134|                0.0|               0.5|                0.0|               0.0|                0.0| 0.0|                0.0|            0.0|               0.0|                1.0|\n",
      "+----+-------------------+------------------+-------------------+------------------+-------------------+----+-------------------+---------------+------------------+-------------------+\n",
      "only showing top 20 rows\n",
      "\n",
      "time: 20.5 s\n"
     ]
    }
   ],
   "source": [
    "user_sn_spending_behavior_profile.show()"
   ]
  },
  {
   "cell_type": "code",
   "execution_count": 36,
   "metadata": {},
   "outputs": [
    {
     "name": "stdout",
     "output_type": "stream",
     "text": [
      "time: 34.3 ms\n"
     ]
    }
   ],
   "source": [
    "social_network_metrics_Y.createOrReplaceTempView(\"social_network_metrics_Y\")\n",
    "user_sn_spending_behavior_profile.createOrReplaceTempView(\"user_sn_spending_behavior_profile\")\n",
    "user_metrics_sn_spending_behavior = spark.sql(\"select count,social_network_metrics_Y.user as user,profile_num,pagerank,\\\n",
    "                                              friends_count,friends_of_friends_count,cluster_coef, \\\n",
    "                                        ifnull(Activity,0) as Activity, \\\n",
    "                                       ifnull(People,0) as People,\\\n",
    "                                       ifnull(Transportation,0) as Transportation,\\\n",
    "                                       ifnull(Event,0) as Event ,\\\n",
    "                                       ifnull(Utility,0) as Utility,\\\n",
    "                                       ifnull(Cash,0) as Cash,\\\n",
    "                                       ifnull(Travel,0) as Travel,\\\n",
    "                                       ifnull(Illegal_Sarcasm,0) as Illegal_Sarcasm,\\\n",
    "                                       ifnull(Food,0) as Food,\\\n",
    "                                       ifnull(Others,0) as Others  \\\n",
    "                                 from social_network_metrics_Y\\\n",
    "                                 left join\\\n",
    "                                 user_sn_spending_behavior_profile\\\n",
    "                            on social_network_metrics_Y.user=user_sn_spending_behavior_profile.user\\\n",
    "                      order by user,profile_num \")"
   ]
  },
  {
   "cell_type": "code",
   "execution_count": 37,
   "metadata": {},
   "outputs": [
    {
     "name": "stdout",
     "output_type": "stream",
     "text": [
      "+-----+----+-----------+-----------+-------------+------------------------+------------+------------------+------+------------------+-----+-------+----+------+---------------+------------------+------------------+\n",
      "|count|user|profile_num|   pagerank|friends_count|friends_of_friends_count|cluster_coef|          Activity|People|    Transportation|Event|Utility|Cash|Travel|Illegal_Sarcasm|              Food|            Others|\n",
      "+-----+----+-----------+-----------+-------------+------------------------+------------+------------------+------+------------------+-----+-------+----+------+---------------+------------------+------------------+\n",
      "|    1|  19|          0|1.057785886|            0|                       0|         0.0|0.3333333333333333|   0.0|               0.0|  0.0|    0.0| 0.0|   0.0|            0.0|0.3333333333333333|0.6666666666666666|\n",
      "|    1|  19|          1|1.057785886|            0|                       0|         0.0|0.3333333333333333|   0.0|               0.0|  0.0|    0.0| 0.0|   0.0|            0.0|0.3333333333333333|0.6666666666666666|\n",
      "|    1|  19|          2|1.057785886|            0|                       0|         0.0|0.3333333333333333|   0.0|               0.0|  0.0|    0.0| 0.0|   0.0|            0.0|0.3333333333333333|0.6666666666666666|\n",
      "|    1|  19|          3|1.057785886|            0|                       0|         0.0|0.3333333333333333|   0.0|               0.0|  0.0|    0.0| 0.0|   0.0|            0.0|0.3333333333333333|0.6666666666666666|\n",
      "|    1|  19|          4|1.057785886|            0|                       0|         0.0|0.3333333333333333|   0.0|               0.0|  0.0|    0.0| 0.0|   0.0|            0.0|0.3333333333333333|0.6666666666666666|\n",
      "|    1|  19|          5|1.057785886|            0|                       0|         0.0|0.3333333333333333|   0.0|               0.0|  0.0|    0.0| 0.0|   0.0|            0.0|0.3333333333333333|0.6666666666666666|\n",
      "|    1|  19|          6|1.057785886|            0|                       0|         0.0|0.3333333333333333|   0.0|               0.0|  0.0|    0.0| 0.0|   0.0|            0.0|0.3333333333333333|0.6666666666666666|\n",
      "|    1|  19|          7|1.057785886|            0|                       0|         0.0|0.3333333333333333|   0.0|               0.0|  0.0|    0.0| 0.0|   0.0|            0.0|0.3333333333333333|0.6666666666666666|\n",
      "|    1|  19|          8|1.057785886|            0|                       0|         0.0|0.3333333333333333|   0.0|               0.0|  0.0|    0.0| 0.0|   0.0|            0.0|0.3333333333333333|0.6666666666666666|\n",
      "|    1|  19|          9|1.057785886|            0|                       0|         0.0|0.3333333333333333|   0.0|               0.0|  0.0|    0.0| 0.0|   0.0|            0.0|0.3333333333333333|0.6666666666666666|\n",
      "|    1|  19|         10|1.057785886|            0|                       0|         0.0|0.3333333333333333|   0.0|               0.0|  0.0|    0.0| 0.0|   0.0|            0.0|0.3333333333333333|0.6666666666666666|\n",
      "|    1|  19|         11|1.057785886|            0|                       0|         0.0|0.3333333333333333|   0.0|               0.0|  0.0|    0.0| 0.0|   0.0|            0.0|0.3333333333333333|0.6666666666666666|\n",
      "|    1|  19|         12|1.057785886|            0|                       0|         0.0|0.3333333333333333|   0.0|               0.0|  0.0|    0.0| 0.0|   0.0|            0.0|0.3333333333333333|0.6666666666666666|\n",
      "|    1|  28|          0|0.455995419|            0|                       0|         0.0|               0.0|   0.0|0.3333333333333333|  0.0|    0.0| 0.0|   0.0|            0.0|               0.0|               1.0|\n",
      "|    1|  28|          1|0.455995419|            0|                       0|         0.0|               0.0|   0.0|0.3333333333333333|  0.0|    0.0| 0.0|   0.0|            0.0|               0.0|               1.0|\n",
      "|    1|  28|          2|0.455995419|            0|                       0|         0.0|               0.0|   0.0|0.3333333333333333|  0.0|    0.0| 0.0|   0.0|            0.0|               0.0|               1.0|\n",
      "|    1|  28|          3|0.455995419|            0|                       0|         0.0|               0.0|   0.0|0.3333333333333333|  0.0|    0.0| 0.0|   0.0|            0.0|               0.0|               1.0|\n",
      "|    1|  28|          4|0.455995419|            0|                       0|         0.0|               0.0|   0.0|0.3333333333333333|  0.0|    0.0| 0.0|   0.0|            0.0|               0.0|               1.0|\n",
      "|    1|  28|          5|0.455995419|            0|                       0|         0.0|               0.0|   0.0|0.3333333333333333|  0.0|    0.0| 0.0|   0.0|            0.0|               0.0|               1.0|\n",
      "|    1|  28|          6|0.455995419|            0|                       0|         0.0|               0.0|   0.0|0.3333333333333333|  0.0|    0.0| 0.0|   0.0|            0.0|               0.0|               1.0|\n",
      "+-----+----+-----------+-----------+-------------+------------------------+------------+------------------+------+------------------+-----+-------+----+------+---------------+------------------+------------------+\n",
      "only showing top 20 rows\n",
      "\n",
      "time: 1min 6s\n"
     ]
    }
   ],
   "source": [
    "user_metrics_sn_spending_behavior.show()"
   ]
  },
  {
   "cell_type": "code",
   "execution_count": 39,
   "metadata": {},
   "outputs": [
    {
     "name": "stdout",
     "output_type": "stream",
     "text": [
      "time: 37.6 ms\n"
     ]
    }
   ],
   "source": [
    "# Define a function to get MSEs for models\n",
    "months = [0,1,2,3,4,5,6,7,8,9,10,11,12]\n",
    "# Create regression model\n",
    "Random_Forest= RandomForestRegressor() \n",
    "Linear_Regression= LinearRegression()\n",
    "def mse_regression(data, month):\n",
    "    # Subset the data within a month\n",
    "    month_data = data.where(data.profile_num==month)\n",
    "    # Convert the data to dense vector (features and label)\n",
    "    transformed_month_data= month_data.rdd.map(lambda r: [Vectors.dense(r[3:]),r[0]]).toDF(['features','label'])\n",
    "    # Split the data into training and test sets (20% hold for testing)\n",
    "    (trainingData, testData) = transformed_month_data.randomSplit([0.8, 0.2],101)\n",
    "    # Fit Linear_Regression/Generalized_Linear_Regression/Random_Forest Model\n",
    "    fit = Linear_Regression.fit(trainingData)\n",
    "    # Make predictions\n",
    "    predictions = fit.transform(testData)\n",
    "    # Select (prediction, true label)\n",
    "    evaluator = RegressionEvaluator(labelCol=\"label\", predictionCol=\"prediction\", metricName=\"mse\")\n",
    "    # Compute mean square error\n",
    "    mse = evaluator.evaluate(predictions)\n",
    "    return mse"
   ]
  },
  {
   "cell_type": "code",
   "execution_count": 41,
   "metadata": {},
   "outputs": [
    {
     "name": "stdout",
     "output_type": "stream",
     "text": [
      "2.4336111830989724\n",
      "2.256003895500532\n",
      "2.625176329036466\n",
      "2.3468372453996005\n",
      "2.6523506660233096\n",
      "2.4374487271244387\n",
      "2.722823932220442\n",
      "2.635065201615711\n",
      "2.5553715153897834\n",
      "2.82779108474463\n",
      "2.695052432686103\n",
      "2.711420481830585\n",
      "2.9904728489327934\n",
      "time: 16min 24s\n"
     ]
    }
   ],
   "source": [
    "# Get the MSEs for 12 months\n",
    "user_metrics_sn_spending_behavior_mse=[]\n",
    "for m in months:\n",
    "    mse = mse_regression(user_metrics_sn_spending_behavior,m)\n",
    "    user_metrics_sn_spending_behavior_mse.append(mse)\n",
    "    print(mse)"
   ]
  },
  {
   "cell_type": "code",
   "execution_count": 43,
   "metadata": {},
   "outputs": [
    {
     "name": "stdout",
     "output_type": "stream",
     "text": [
      "Coefficients: [0.2907258111816803,0.2835564430394419,0.0014031371274997146,-0.25151546322671825,2.702110091768203,2.836394896857132,2.763263752814082,2.5234694634191994,2.8739046154666505,2.6573942587720008,2.5438941555729353,0.0,2.9636396732449537,3.1651943485597522]\n",
      "time: 3min 47s\n"
     ]
    }
   ],
   "source": [
    "# find informative feature\n",
    "to_train_user_metrics_sn_spending_behavior = user_metrics_sn_spending_behavior.rdd.map(lambda r: [Vectors.dense(r[3:]),r[0]]).toDF(['features','label'])\n",
    "fit = Linear_Regression.fit(to_train_user_metrics_sn_spending_behavior)\n",
    "print(\"Coefficients: %s\" % str(fit.coefficients))"
   ]
  },
  {
   "cell_type": "code",
   "execution_count": 42,
   "metadata": {},
   "outputs": [
    {
     "data": {
      "image/png": "iVBORw0KGgoAAAANSUhEUgAAAfEAAAEYCAYAAABMec83AAAABHNCSVQICAgIfAhkiAAAAAlwSFlzAAALEgAACxIB0t1+/AAAADh0RVh0U29mdHdhcmUAbWF0cGxvdGxpYiB2ZXJzaW9uMy4yLjEsIGh0dHA6Ly9tYXRwbG90bGliLm9yZy+j8jraAAAgAElEQVR4nOzdd3gU19X48e9RR0IFIYkqIdGb6b264A7u3WAbG5fESezETuJUx8kvyfsmeYnt2IlNcwHcjQsYN2wMiF4liqiqSAIkBOpd9/fHLo4sS2Il7WwR5/M88yDt3pk5uxJ7NHfuPVeMMSillFLK+/i4OwCllFJKtY4mcaWUUspLaRJXSimlvJQmcaWUUspLaRJXSimlvJQmcaWUUspLaRJXbiEi94mIsW/9G3l+er3nZ9R73EdE5orINhE5IyKlInJMRN4SkXFNHL/hdtaB+CaKyFb78Y2IjHDeq//eudKbifVxC853ccP3tYX7fyMiiedpY0TkDw0eu19EjohIlSM/g3r7RYjIH0RkVBOxfOPosaxkj/E7v2f239O7W3GsdBF5tRX7xdvj6N3SfZV38nN3AOqCVwzMAX7X4PF77c+FNnj8H8BPgGeBPwDVQH/gRmA8sK1B+1uB4w0eq3EgrsVAOTALKAMOO7BPW3yO7fU0lG7xea0ykXrvu4h0BxYAy4G5QEULjhUBPG0/3q4Gz/2wbWFaYgpQC0QCDwLLRCTQGLOkBce4EShqxbnjsb1XiUBqK/ZXXkaTuHK3FcBsEfm9sVceEpEOwC3A+8B95xraH38U+Jcx5sl6x/gSeFFEGutZ2mOMOdqSgOzHGQD82RjzdUv2beJ4AvgbY6qaaZZvjNnS1nN5ikZeSz/AF3jNGNPsVXwLz3PAWcdyoq3GmBoAEfkCSAEeBxxO4saY3RbFptoZ7U5X7rYU6IXt6uWcG7H9br7foG0IEACcaOxAxpi6tgYjIvdhu4ryAX5n7xZNr/f8bBFJEpEKEckXkaUi0q3BMdJFZJm9+/ggUAVc64TY7hCRr0UkT0RKRGS3iNzbSDs/EfmliBywx5knIp+JyMAGTYNF5AX768i3xxzR1jjtMXzbnW7vFv7G/tRX9uderdf2oQbv6WIRibQ/Fw+k2ZsurNdVfZ/9+e90p9e7VXCDiLwsIgX2bu1nRcRXRMaKSKL9Nsl+Ebmykdini8hXIlJsb/e5iAxtzftgT+a7gb71ju/o71D99+jc7aEJIrJcRIpEJEdEnheRoHOvHVhr3+XLeu/Vxa2JXXkHTeLK3TKA9di61M+5B/gAKKnf0BiTj+0D/UkReURE4hw4vq89qdXfmvu9/4T//kGxGFu38I1gSzbY/uhIAW4CngKuBNaJSMcGx7kE+BnwDHAVkHyeOKWROBv2lPUG3gPuBm4AVgKLROSRBu3eAv4MrLa3exA4AHRr0O45wAB32eO82f6Ys/0J2y0QsPWkTLQ/hoj8D/AisAa4Dvg5tvfrUxHxBXKxvdcAf7XvOxHbz6k5zwKlwO3Av4DH7I+9ju2K+CagAFghIlHndhKRa4GvsP3uzcb23oQCG0QktlWvHhKAs/bjt+R3qDFLgWP2ff+D7f38lf25XfbvwfZ+n3uvGt6CUO2JMUY33Vy+YesmN9iuUO4HzgBB2BJNDXA5cLG9zYx6+03Adp/Y2LdsbMl2XBPHb2xbdZ7Y/Ozt/lDvMV/gJLC2Qdsp9rY/qfdYOrb76F0dfC/Sm4l1TBP7+NjjXAgk1Xv80obxNLLvuff1tQaPv4DtXrWcJ95vgMTztGn4/s2wP3ZxvcfisfV6/L7BvpPtbW+o184A85qI5ZtGXtuSBu122R+fUu+xYfbH7q332FHgqwb7hgH5wLPnec1/sB8v0P6zicF2f9pg+wOipb9Drzby+/xMg31XAYcbef0zmotVt/az6ZW48gTvYvvgm4XtKvMEtquh7zG2e60DgKuB/8P2YXcvsFlE7mlklxuBsQ221oz4HoDtQ3l5g3gSsfUmTG/QfosxptFu/yZ82kicY7FdQQMgIv1E5E0RycY2oK8amGeP7ZwrsH2IL3TgnA2vZvdi+zl0aUHcbXE5tj9GljfofdiKbVDjtDYc+9MG3x8ESs1378cftP8bC7b3F+jTSDxlwOYWxFOB7WdzEvg1tgT+FC3/HWpMYz8zR3qkVDulA9uU2xljikXkQ2xd6vHAcmNMnW08WKPtK4HP7Btim6K2FpiPrbu0vn2mhQPbmhBp/ze3kedO1HueZto1p8AYs6OpJ+1drV9iSyhPYetSrQJ+gK0n45zO9mOVO3LOBt9X2v8NcjToNoqx/9vUz6dzG459psH3Vdi7tM8xxlTZf8fOvd5z8Sy2bw1lOnjuCdh6GM4AmcaYaoBz9/lx/HeoMY39zAIdjEu1Q5rElad4HdtVhg9wZ0t2NMYcFpG3gZ+KSIwx5pQF8Z378OzayHNdgZ0Nw3Ly+SdiGwA4tf7VZCP3zfOBSBHp4GAid6fT9n+v4PtJt/7zrnLufL/Cdo++oeZmF9S309hHpzfQ0t8hpc5Lu9OVp/gSeAd4yRizv7EGIuIvIk1dnQ3ENq+70KL4DmHrHr2jQUyTsCXXbyw67znB9n+r6527E3B9g3ZfAIKtm93TfQnUAXHGmB2NbOdGpZ/rIehgcTyHsN2eGdJEPOcbnOjI8a3+HXLVe6U8hF6JK49gjKnl/Ffg4UC6/ap7DbbiH52xfSheDfzN3tVe34j6o4/r2dHE1VKT8YnI74GXRWQZsAzogW0U+BFaMAe4CVEiMqGRx08YY9KBTdiKf7woIk9jm273W2xX3uH14lwrIu8D8+2jqb8G/LHdz/3EGPNNG+M8p7OI3NLI48nGGIcK4xhjjonI/wIviMgAYB22+8mx2O6XLzLGrMWW+E4Dd4hIMrZR52nGGKdeqRtjjIg8CnwkIgHY/qjMxzZGYBK2rvH5bTi+1b9DYCtKVAPcLyIF2JL6IWNMsROOrTyQJnHlTYqwTYW6HPg7tnuYFcB+4GEaH8z1bhPHisb2Ae0wY8wCESnDNg3qI2zTkFYDvzDGlLbkWI240r419CLwI2NMnojciG0w33tADrbpYJHYRkDXdwfwS2wD/h7H1juxHVjUxhjrG0jj7+3PsVXVc4gx5tcikoJtatSj2G5DZGEb2HjE3qZOROYBf8H2x5sftqpvr7Yh/qbiWS0i04DfYHu/OmC7X70FeNsJx7fydwhjzGkR+RG2n/86bCPiL8H6niLlJmKMs2/dKaWUUsoV9J64Ukop5aU0iSullFJeSpO4Ukop5aU0iSullFJeyutGp0dFRZn4+Hh3h6GUUkq5zM6dO/ONMdENH/e6JB4fH8+OHU1Wp1RKKaXaHRHJaOxx7U5XSimlvJQmcaWUUspLaRJXSimlvJRlSVxEgkRkm4gkich+EXmmkTaBIvK2iBwVka0iEm9VPEoppVR7Y+WVeCVwqTFmODACuKqRBR4eAM4YY/oC/wT+18J4lFJKqXbFsiRubErs3/rbt4aF2q8HXrN//R5wmYiIVTEppZRS7Yml98RFxFdE9gCngC+NMVsbNOmBbcUi7MtCFmJbWrLhcR4SkR0isiMvL8/KkJVSSimvYWkSN8bUGmNGAD2BcSIytJXHWWCMGWOMGRMd/b257koppZRHSMkt4tk1hymqqHbJ+VwyOt0YcxZYC1zV4KlsIBZARPyAcOC0K2JSSimlnG3h+lQWrE/F1LnmfFaOTo8WkQj71x2Ay4GDDZp9DNxr//oW4GujC5wrpZTyQicKK/g4KYfbxsQSHuzvknNaWXa1G/CaiPhi+2PhHWPMKhH5I7DDGPMxsBhYKiJHgQLgDgvjUUoppSzz6qZ06ozhgSkJLjunZUncGJMMjGzk8d/X+7oCuNWqGJRSSilXKKmsYfnWDK4e2o3YyGCXnVcrtimllFJt9M72LIorapg31XVX4aBJXCmllGqTmto6lmxMY0yvToyM6+TSc2sSV0oppdrgs/0nOH6mnAen9Xb5uTWJK6WUUq1kjGHhhjTiOwczY1AXl59fk7hSSinVSjsyzpCUdZYHpiTg6+P6quGaxJVSSqlWWrg+lYhgf24ZHeuW82sSV0oppVohLb+UL1NOMmdCLzoE+LolBk3iSimlVCssTkzF38eHORN7uS0GTeJKKaVUC50preK9nce5YWR3YkKD3BaHJnGllFKqhZZtyaCiuo55U10/raw+TeJKKaVUC1RU1/La5nQuHhBN/y6hbo1Fk7hSSinVAh/tySa/pIoH3XwVDprElVJKKYfV1dmKuwzqFsakPp3dHY4mcaWUUspR6w7ncfRUCQ9NS0DE9cVdGtIkrpRSSjlo4YZUuoYFMXNYd3eHAmgSV0oppRyyP6eQTcdOc9/kePx9PSN9ekYUSimllIdbtCGNkABf7hwX5+5QvmVZEheRWBFZKyIHRGS/iDzWSJtOIvKBiCSLyDYRGWpVPEoppVRr5RaWszIph9vHxhHewd/d4XzLyivxGuAJY8xgYALwqIgMbtDm18AeY8ww4B7gOQvjUUoppVrl1Y3p1BnD3Mnx7g7lOyxL4saYXGPMLvvXxUAK0KNBs8HA1/Y2B4F4EXH9gqxKKaVUE0oqa3hjWyZXX9SN2Mhgd4fzHS65Jy4i8cBIYGuDp5KAm+xtxgG9gJ6uiEkppZRyxNvbsyiuqPGI4i4NWZ7ERaQj8D7wuDGmqMHT/wNEiMge4MfAbqC2kWM8JCI7RGRHXl6e1SErpZRSANTU1rEkMY1x8ZGMiI1wdzjfY2kSFxF/bAl8uTFmRcPnjTFFxpi5xpgR2O6JRwOpjbRbYIwZY4wZEx0dbWXISiml1Lc+3XeC7LPlzJua4O5QGmXl6HQBFgMpxpj5TbSJEJEA+7fzgPWNXK0rpZRSLmeMYdGGVBKiQpgxyDOHa/lZeOzJwBxgr727HGyj0eMAjDEvAYOA10TEAPuBByyMRymllHLY9vQzJB0v5P/dMBQfH/eXWG2MZUncGJMINPuqjTGbgf5WxaCUUkq11oL1qXQK9ufmUZ473lortimllFINpOaV8NXBk8yZ0IsOAb7uDqdJmsSVUkqpBhYnpuHv68OcifHuDqVZmsSVUkqpek6XVPLezuPcNLIH0aGB7g6nWZrElVJKqXqWbcmksqbOY6eV1adJXCmllLKrqK5l6ZZ0LhkQTd+YUHeHc16axJVSSim7D3dnk19S5ZElVhujSVwppZQC6uoMCzekMqR7GBP7dHZ3OA7RJK6UUkoB3xw+xbG8Uh6c2htb0VHPp0lcKaWUAhauT6NbeBDXDuvm7lAcpklcKaXUBW9fdiGbU08zd3I8/r7ekxq9J1KllFLKIgs3pNIx0I87xsW5O5QW0SSulFLqgpZztpxVybncPjaWsCB/d4fTIprElVJKXdBe3ZQOwNzJ8W6NozU0iSullJd6ce1RViXnuDsMr1ZcUc2bWzO55qJu9OwU7O5wWszK9cSVUkpZZF92IX///BAiUGfguuHd3R2SV3p7exbFlTU86AUlVhujSVwppbzQy+tTCQ30Y2C3UH729h6C/X2ZMbiLu8PyKjW1dbyyMZ1xCZEM6xnh7nBaRbvTlVLKy2QVlPFJcg53TYhjyX1jGdI9jB++sYuNR/PdHZpXWb3vBNlny72mxGpjNIkrpZSXWbQhFV8f4f7JCYQG+fPq3HEkdA7hwdd3sDPjjLvD8wrGGBauT6V3VAiXDYxxdzitZlkSF5FYEVkrIgdEZL+IPNZIm3ARWSkiSfY2c62KRyml2oPTJZW8vSOLG0f2oEtYEACdQgJYOm8cMaGBzH1lG/tzCt0cpefbmlbA3uxCHpiagI+Pd5RYbYyVV+I1wBPGmMHABOBRERncoM2jwAFjzHDgYuD/RCTAwpiUUsqrvb45g4rqOh6a9t0u4JjQIJbNG0/HQD/uWbyNo6dK3BShd1i0IZXIkABuHtXT3aG0iWVJ3BiTa4zZZf+6GEgBejRsBoSKrdJ8R6AAW/JXSinVQFlVDa9vTmfGoC6NrnXds1Mwy+aNRwRmL9pKVkGZ64P0AsfySliTcorZE3oR5O/r7nDaxCX3xEUkHhgJbG3w1AvAICAH2As8Zoypc0VMSinlbd7dcZwzZdU8Mr3pgVi9ozuy9IHxlFfXcveirZwsqnBhhN5h0YY0Avx8uGdiL3eH0mbNJnER8RGRSW05gYh0BN4HHjfGFDV4+kpgD9AdGAG8ICJhjRzjIRHZISI78vLy2hKOUkp5pZraOhZuSGV0r06MiY9stu2gbmG8Oncsp0sqmb1oKwWlVS6K0vOdLqlkxa7j3DyqB1EdA90dTps1m8TtV8UvtvbgIuKPLYEvN8asaKTJXGCFsTkKpAEDG4ljgTFmjDFmTHR0dGvDUUopr7V63wmOnynn4WmOTYcaGdeJRfeOJbOgjHuXbKOootriCL3D0i0ZVNbU8cAU751WVp8j3elficjN0sIV0u3tFwMpxpj5TTTLBC6zt+8CDABSW3IepZRq74wxvLzuGL2jQ5gxyPGCLhP7dOY/s0eRklvEA69up7yq1sIoPV9FdS1LN2dw2cAY+sZ0dHc4TuFIEn8YeBeoEpEiESkWkYbd4o2ZDMwBLhWRPfbtGhF5REQesbf5EzBJRPYCXwG/NMZotQKllKpn49HT7M8p4uFpvVs8HerSgV147o6R7Mw4w0NLd1BZc+Em8hW7sjldWsU8Ly7u0tB5y64aY74/BNIBxphEoNnfNmNMDnBFa46vlFIXipfXHyM6NJAbRjac4OOYa4d1o7RyGL94P5mfvLmbF+8ahZ/vhVXrq67OsCgxlaE9wpjQu/kxBd7EoZ+iiFwnIv+wbzOtDkoppZTNvuxCNhzJ5/7JCQT6tX461G1jY3l61mA+33+SX7yXTF2dcWKUnm/toVOk5pXy4NTetPDusEc775W4iPwPMBZYbn/oMRGZbIz5laWRKaWUYsH6VDoG+nHX+Lg2H2vu5ARKK2v4xxeHCQ705U/XD21XCa05C9an0j08iGsu6ubuUJzKkVXMrgFGnJu/LSKvAbsBTeJKKWWhrIIyPtmbywNTEgjv4O+UYz56SV+KK2t4eV0qIYF+PHXVwHafyPceL2RrWgG/uWYQ/u3sNoKjS5FGYKumBhBuUSxKKaXqWZyYho/A/ZOdt9a1iPDUVQMptSfysCB/Hr2kr9OO74kWbrD1Ztw+LtbdoTidI0n8L8BuEVmLbaDaNOApS6NSSqkLXEFpFW9tz+SGET3oGh7k1GOLCH+8bihllbX8/fNDBAf4MteJfyh4kuyz5XyyN5e5k+IJC3JOb4YnaTaJi4gPUIdtAZOx9od/aYw5YXVgSil1IXt9c3qjC504i4+P8LdbhlFaVcMzKw8QEujHbWPa35XqK4lpAMyd0j7/SHGkYtsv7IuZfGzfNIErpZSFyqtqeW1TOjMGxdCvS6tm+TrEz9eH5+8cydR+UTz1fjKfJOdadi53KKqo5q3tWVx7UTd6RHRwdziWcOQO/xoRedK+Pnjkuc3yyJRS6gL17s4szpRV8/D0PpafK9DPl5fnjGZ0r0489tZu1h48Zfk5XeXtbVmUVNbwYDsq7tKQI0n8dmzrfq8Hdtq3HVYGpZRSF6pzC52MiotgTK9OLjlncIAfi+8by8BuoTyybCebj512yXmtVF1bxysb0xifEMlFPdvveOzzrmIGPGWMSWiwtd8/a5RSyo0+3XeCrIJyHp7ex6VTv8KC/Hn9/vHERQYz77Xt7Mk667JzW2H13lxyCissG1PgKRy5J/5zF8WilFIXNGMML68/Ru+oEC5vwUInzhIZEsCyeePp3DGQe5ds4+AJR5bJ8DzGGBZuSKV3dAiXDIhxdziW0nviSinlITYdO82+7CIeasVCJ87SJSyI5fPG08Hfl9mLtpGaV+KWONpiS2oB+7KLmDfFfe+jq+g9caWU8hAvrWvbQifOEhsZzLJ54zHGMHvRVrLPlrs1npZauCGVziEB3DTKve+jK5w3iTdyP1zviSullJPtz7EtdDJ3cjxB/q1f6MRZ+sZ05PUHxlFcWcPdC7dwqrjC3SE55OipYr4+eIo5E3t5xPtotSaTuIj8ot7XtzZ47i9WBqWU8ixlVTW8v/M4FdUX7lrUVluwPpWQAF/uHt/L3aF8a0j3cF6dO45TxZXcs3gbZ8uq3B3SeS1OTCPQz4c5EzznfbRSc1fid9T7uuFiJ1dZEItSykO9uPYoT7ybxMx/JbIvu9Dd4bQ7WQVlrErO5a7xcU5b6MRZRvfqxMJ7xpCaX8q9S7ZRUlnj7pCalF9Syfu7srlpVE86dwx0dzgu0VwSlya+bux7pVQ7VV5Vy/KtmQzvGU5xRTU3/nsjL649Su0Fth61lb5d6MRDS4NO7hvFv+8axb6cIh54dbvH9si8vjmDqpo65k31zPfRCs0lcdPE1419r5Rqpz7Ync3Zsmp+c+1gPn98GlcM6crfPz/EHQs2k1VQ5u7wvN6Z0ire3p7F9SN60C3cc0uDzhjchfm3DWdbegGPLNtJVU2du0MCoKK6lmN5Jaw9dIplWzKYMSiGPtEd3R2WyzS3AMpwESnCdtXdwf419u/Pu6SOiMQCrwNdsCX9BcaY5xq0+Tlwd71YBgHRxpgClFJuZ4xhycY0hvYIY2x8J0SEF+4cyYxBMfz+w/1c/dwGnp41mFtG92z3a1Jb5fXNGZRX13pFUZLrR/SgrKqWX63Yy+Nv7+b5O0biZ/H63HV1hhNFFWQVlJF1ppzMgjKOF5SRdaaMzIIyThZVfts2wM+HH1xsfalaT9JkEjfGtHVYXw3whDFml4iEAjtF5EtjzIF65/g78HcAEZkF/FQTuFKeY93hPI6eKuGftw//NkmLCDeO7Mm4hM488c4efv5eMmtSTvLXm4YRGRLg5oi9S3lVLa9tTueygTH0t3ChE2e6c1wcpZU1/L9PUggO2Mvfbh7WprnYxhgKy6vJKij/NjGfS9hZBWVknymnqva/V/0i0C0siNjIYKb2iya2UzBxnTsQ2ymYhKiQC+Ze+DmOrCfeKsaYXCDX/nWxiKQAPYADTexyJ/CmVfEopVpuycZ0YkIDufai7t97rkdEB96YN4FFian84/PDXPnsev52y7B2XyHLmd7bmUVBaZVLFjpxpnlTe1NSWcOza47QMdCPp2cNbrYnpqK6luNnbEk6y56kbcna9lhxxXcHy0UE+xMXGczgbmFcMaQLcZHBtmQdGUz3iA4E+Fl79e9NLEvi9YlIPDAS2NrE88HYRrz/qInnHwIeAoiLi7MkRqXUdx05Wcz6w3k8eUX/Jj80fXyEh6b1YWq/aB5/aw9zX9nOnAm9+PU1g+gQ0P7n6LaFbaGTNEbGRTA23jULnTjTY5f1o6SihkWJaYQE2qbGfZuc7VfRWfZu7/pd3gCBfj7ERgYT26kDY+M7ERsZTE97ko6N7EBokGeN0PdklidxEekIvA88boxpqhDvLGBjU13pxpgFwAKAMWPG6KA6pVxgyUbbfNu7HJi3PKhbGB/9aDL/+PwQixLT2Hg0n3/ePoLhsREuiNQ7fbb/BJkFZfz6mkFeOZ5ARPjNtYMorarhxbXHeHHtsW+f8xHoFt6Bnp06MK1ftC1hR3b49oo6OjTQK1+zJ7I0iYuIP7YEvtwYs6KZpnegXelKeYyC0ipW2OfbOnqfO8jfl9/OHMylA2N48t0kbv7PJn5yWT9+eHEfywc/eRtjDC+vS7UtdDLY9QudOIuI8P9uuIiRsZ2oqTPERtruTWuXt+s0mcRFpJhmppIZY8KaO7DY/sxaDKQYY+Y30y4cmA7MPm+0SimXeGNrBpU1ddw/Ob7F+07qG8Wnj0/j6Y/2Mf/Lw6w9dIpnbx9Br84hzg/US20+dpq92YX89aaL8PXyBTp8fYTbxsa6O4wLVpN/KhljQu2J+jngKWyD0noCvwSedeDYk4E5wKUisse+XSMij4jII/Xa3Qh8YYwpbfWrUEo5TVVNHa9vzmBa/2j6tXLEdHgHf569YyT/unMkx06VcPVzG3hzWybG6N0wgJfWpxLVMZAb3bzQifJ+jnSnX2eMGV7v+/+ISBLw++Z2MsYk4kBlN2PMq8CrDsShlHKBVck5nCqu5O+3tr3q1azh3RkT34kn303iVyv28lXKKf7n5ouIusCmAdV3IKeI9Yfz+PmVAy6IBTqUtRy5aVEqIneLiK+I+IjI3YBeNSvVDhljWJyYRt+YjkzrF+WUY3YL78DS+8fzu5mDWX8kj6ueXc+aAyedcmxvtGD9MUICfJntQQudKO/lSBK/C7gNOGnfbrU/ppRqZ7alFbA/p4j7Jyc4dfSwj4/wwJQEVv5oCtGhQcx7fQe/WrGXUg9eTMMKx8+UsTI5lzvHxREerNOoVNudtzvdGJMOXG99KEopd1ucmEanYH9uGmXNvdoBXUP58NFJ/PPLI7y8/hibj+Uz//YRjIrzvnnSrbE4MQ3Bcxc6Ud7nvFfiItJfRL4SkX3274eJyG+tD00p5UoZp0v5MuUkd4/vZem92kA/X566eiBvPTiB6lrDrS9tZv6Xh6mu9YwFNaxyprSKt7Zlcd2I7nSP8NyFTpR3caQ7fSG29cSrAYwxyXx3rXGlVDvw6qZ0/HyEORNdc692fO/OfPr4VK4f0Z3nvzrCLf/ZRGpeiUvO7Q5Lt9gWOnl4mneVWFWezZEkHmyM2dbgsQvrRpZS7VxRRTXvbM9i5rDudAk77yKFThMW5M/820bw77tHkVFQxjXPb2Dplox2NxWtorqWVzelc+nAGAZ09Y6FTpR3cCSJ54tIH+yFX0TkFuwLmyjVnn2clHPBrJf9zvYsSqtqecBN92qvuagbnz8+jXEJnfndh/u4/9XtnCqucEssVnh353HbQidesNyo8i6OJPFHgZeBgSKSDTwOPNL8Lkp5t6OnivnJm7t57K3d1NW1r6vChmpq63hlYzrjEiIZ2iPcbXF0CQvitbljeea6IWw6dpqrnt3A5/tPuC0eZ6mtMyxcn8qI2AjGJUS6OxzVzjSbxEXEF/ihMWYGEA0MNMZMMcZkuCQ6pdxk2ZZMAHZlnuXDPdlujsZaXx44SfbZcu6f7P4R0yLCvZPi+eQnU+geEcTDS3fy89tj5EwAACAASURBVHeTKPHiqWif7bMtdPLI9N666IdyumaTuDGmFphi/7rUGFPskqiUcqOyqhre33WcWcO7MyI2gr9+etCrk8j5LE5MIy4y2KMW4ugbE8qKH0zmR5f05f1dx7n6ufXsSG90kUOPZozhpXXHSIgK4fLBXd0djmqHHOlO3y0iH4vIHBG56dxmeWRKucnKpByKK2qYM6EXf7huCHnFlbzw9VF3h2WJpKyz7Mg4w32T4j1uIY4APx+evHIA7zw8EUG47eXN/P3zg1TVeM9UtM2ptoVOHpza2+PeX9U+OJLEg4DTwKXY1v2eBcy0Miil3MUYw9ItGQzoEsrY+E6MiI3g1tE9WZyYSlp++6s2vGRjGh0D/bh1TE93h9KkMfGRrH5sKreM7smLa49x4783si+70N1hOeTldalEdQywrHiOUudN4saYuY1s97siOKVcLel4Ifuyi5g9Ie7b+5e/uGogQX6+/GnVATdH51wnCiv4JDmX28fGEhrk2SVAOwb68bdbhvPynNGcKq7k+hc38pfVKZRVee5tjpTcItYdzmPu5ARd6ERZxpGKbUEi8qiI/FtElpzbXBGccq2K6loKy6rdHYZbLduSQXCALzfUWyIyOjSQn1zWj68PnmLtwVNujM65XtucTp0x3Dcp3t2hOOzKIV1Z89Pp3DYmlgXrU7ny2fWsO5zn7rAatWB9KsG60ImymCPd6UuBrsCVwDpsa4rrALd26Lcf7uPq59ZTWVPr7lDc4mxZFSuTcrhxZI/vXZneOyme3tEh/HHVAa+6J9uUsqoa3tiayZVDuhIbGezucFokPNifv950Ee88PJEAXx/uXbKNx9/aTX5JpbtD+9bxM2V8nJSjC50oyzmSxPsaY34HlBpjXgOuBcZbG5ZytfKqWlbvzSWnsIKP9+S4Oxy3eG/ncSpr6pg94ftXTgF+Pvx+5mDS8kt5ZWOaG6JzrhW7siksr/bqhTjGJdjulT92WT8+2ZvLjPnreG/ncY+o9rYkMV0XOlEu4UgSP9e/elZEhgLhQIx1ISl3WHvoFGVVtYQG+bFoQ5pHfBC6Ul2dYfnWTEb36sSgbmGNtrl4QAwzBsXw/FdHOFXkvdXE6uoMSzamMaxnOGN6effqYYF+vvz08v6s/slU+kZ35Ml3k7h70VbS3TgI8WxZFW9tz+S64d3poQudKIs5ksQXiEgn4HfAx8AB4G+WRqVcblVyDlEdA/ndzMEcOlnM+iP57g7JpTYeyyctv5Q5jVyF1/fbawdTXWv4388OuSgy51t3OI/UvFIemOLcNcPdqV+XUN55eCJ/vnEoe48XcuWz6/n3N0fdsjLasi0ZlFXV8tB0LbGqrOfI6PRFxpgzxph1xpjexpgYY8xL59tPRGJFZK2IHBCR/SLyWBPtLhaRPfY261rzIlTblFTW8PXBU1xzUVduGNGDLmGBLFyf6u6wXGrZlgwiQwK4+qLmC3LER4Uwb2oC7+86zq7MMy6KzrmWbEyjS1ggVw/t5u5QnMrHR7h7fC/WPDGdSwfG8LfPDjHrX4nsduHPqaK6llc2pnPxgGgGdm28R0cpZ3JkdPrvG9scOHYN8IQxZjAwAXhURAY3OHYE8G/gOmPMEODWVrwG1UZfpZykorqOmcO6E+Dnw32TEkg8ms+BnCJ3h+YSJworWJNyilvH9CTQ7/xTgR69pC9dwgJ55uP9XldX/dCJYjYcyeeeifEE+DnSEed9uoQF8Z/Zo1kwZzRny6q56T+b+MPH+11Sde+9ncc5XVrFI9N1uVHlGo78Ly6tt9UCVwPx59vJGJNrjNll/7oYSAEaVjy4C1hhjMm0t2s/83e8yMqkXLqGBX17f/SucXEEB/iyaMOFcTX+5rZM6ozh7nGOTQUKCfTjV1cPIul4Ie/tOm5xdM61JDGNIH8f7h4f5+5QLHfFkK58+bNp3DOhF69tTufy+etYc+CkZeerrTMs3JDK8NgIxutCJ8pFHOlO/79625+Bi4EW3ewRkXhgJLC1wVP9gU4i8o2I7BSRe5rY/yER2SEiO/LyPHNOqLcqLK9m/eE8rrmoGz72spDhwf7cPjaWj5NyyC0sd3OE1qqurePNbZlM7x9NXGfHp1pdP6I7o3t14m+fHaSowjvm1ueXVPLBnmxuHtWTiOAAd4fjEqFB/jxz/VDe/8EkwoL8mff6Dh5dvsuSgYmf7z9BxukyHpmmC50o12lNf1owtrniDhGRjsD7wOPGmIb9s37AaGzT1q4Efici/RsewxizwBgzxhgzJjo6uhUhq6Z8eeAkVbV1zBz+3fuj909OoM4YXt2U7p7AXGTNgZOcKq5scUEOEeGZ64ZwurSK59ccsSg653pjayZVNXXM9YDVylxtVFwnVv54Cj+/cgBfppzksvnrbD0wTrodYozh5XXHiO8czBVDdKET5TqO3BPfKyLJ9m0/cAh41pGDi4g/tgS+3BizopEmx4HP7Suk5QPrgeGOh6/aalVyDj0iOjAyNuI7j8dGBnP1Rd14Y2tmu17Ba9nWDHpEdOCSgS2fNTm0Rzh3jI3l1U3pHD1VYkF0zlNZU8vrmzO4eEA0fWM6ujsctwjw8+HRS/ry2WNTGdI9jF+t2MsdC7Y45We3JbWApOOFPDhNFzpRruXIlfhM/rvwyRVAd2PMC+fbSWz9SYuBFGPM/CaafQRMERE/EQnGVkQmxaHIVZudKa0i8Ug+M4d3a7T776GpvSmuqOHt7VluiM56x/JK2Hj0NHeNj2v1B++TVwygQ4Avz6zc79Fz61cm5ZJfUskDWnyE3tEdefPBCfzt5mEcOlnMNc9t4Nk1h9tUqfDl9ceI6hjAzaM8dyEZ1T45ksSL623lQJiIRJ7bmtlvMjAHuNQ+hWyPiFwjIo+IyCMAxpgU4DMgGdgGLDLG7GvLC1KO+3z/CWrqDLOGdW/0+eGxEYyLj2RJYho1bphva7XlWzLx9xVuGxPb6mN07hjIT2f0Z8ORfNakeOa4TGMMixPT6N+lI1P6Rrk7HI8gItw2NpY1P5vOVUO78uyaI1z7fCLbW7FmeUpuEd8cyuO+SfG60IlyOUeS+C4gDzgMHLF/vdO+7WhqJ2NMojFGjDHDjDEj7NtqY8xL9eeZG2P+bowZbIwZaoxxqJteOceq5FziOwczpHvT81kfnNab7LPlfLrvhAsjs155VS3v7cziyiFdiQ4NbNOx5kzsRb+Yjvxp1QEqqj2v7vyW1AJScou4f3L7Ke7iLNGhgTx/50heuW8s5VW13PrSZn7zwV4Kyx0frLjw3EIn5ykUpJQVHEniXwKzjDFRxpjO2LrXvzDGJBhjtCSRl8orrmTTsXxmDuve7Af7ZQNj6B0VwoL1qR7dXdxSK5NzKKqoccoHr7+vD0/PGkJmQRmLEz2vrvrixDQiQwK+szKb+q5LBsbwxU+n8cCUBN7clsnl89fx6d7c8/7OZ58t5+OkHO4YG3fBjPhXnsWRJD7BGLP63DfGmE+BSdaFpFzhs3251Bm+Nyq9IR8f4YGpCezNLmRrWsu7Gj3Vsi0Z9Ivp6LT5vFP6RXHlkC688PVRj5qWl55fylcHTzJ7fJx29Z5HSKAfv5s5mA8fnUxUx0B+sHwXDy3d2ezPc0liGgZ4YKqONVDu4UgSzxGR34pIvH37DXBhLnPVjqxMzqVvTEcGdAk9b9ubR/UkMiSg3RR/ST5+luTjhcye0Mup3cu/vXYwtcbwP58edNox2+rVTen4+Yh29bbAsJ4RfPyjyfzq6oFsOJLH5fPX89qmdGobTEcrLKvmzW260IlyL0eS+J1ANPCBfYuxP6a81MmiCranFzBzWOOj0hsK8vdlzoRerEk55fFTqRyxbEsGHfx9uXGUc7uXYyODeWRabz7ak8OOVgyQcrbC8mre2ZHFrOHdiQkLcnc4XsXP14eHp/fhi8enMzIugqc/3s8tL23i4In/lrpYttW+0Mk0vauo3MeRim0FxpjHjDEjgUuxFW1x/yeUarVPknMxBmY2MSq9MXMm9iLAz8cj7/m2RGFZNR8n5XDDyB6EBfk7/fiPXNyHbuFBPP3x/u9dubna29szKauq5f4LsLiLs8R1Dub1+8fxz9uHk3G6jJnPJ/KPzw9RWFbNKxvTmN4/usmla5VyhSaTuH2hk4H2rwNF5GvgKHBSRGa4KkDlfKuScxjULaxFRT+iOgZy86ievL/rOPkllRZGZ633dh2norqO2ROsqR0eHODHr68ZxP6cIrfOr6+preO1TRmMT4hkaI9wt8XRHogIN47syZqfTee6Ed15Ye1Rpvzta/JLqnhYlxtVbtbclfjt2KqzAdxrbxsDTAf+YnFcyiLHz5SxK/MsM4e1fBnKeVMTqKqpY+nmDAsis54xhuVbMhgZF8GQ7tYltpnDujEuIZJ/fGG7YnOHz/efJPtsuRZ3caLIkADm3zaCZQ+MJzIkgHEJkUzs3dndYakLXHNJvMr8d37FlcCbxphae4EWP+tDU1b4JDkXoMkCL83pE92RGYNiWLolg/Iqz5sPfT6bjp0mNb+0xXXSW0pE+MOsIZwtq+Kfaw5beq6mLE5MpVfnYC4b1MUt52/PpvSL4psnL+aNeeN13r1yu+aSeKWIDBWRaOAS4It6zzm+3JPyKKuScxnWM7xFK3bV9+DU3hSUVvG+ly3BCbYBbRHB/lzbil6IlhrcPYy7xsexdEsGh04UW36++nZnnmFX5lnmTorXOt4WERH8fNvneuzKuzT3W/gY8B5wEPinMSYNQESuAXa7IDblZOn5pezNLmxVV/o54xIiGdYznMWJaU5bAcoVThZV8MWBk9w2JtZl86WfuHwAHQP9+OMq19ZVX7IxndBAP25pQzlZpZR3aDKJG2O2GmMGGmM6G2P+VO/x1cYYnWLmhT7Za+tKv7YVXenniAgPTu1NWn4pa1JOOis0y721LYvaOsNd46wZ0NaYTiEBPHFFfzYePc3n+11TtjbnbDmr9+Zyx7hYOgbqXS+l2jvtD7qArEzKYXSvTm0uTHH10K70iOjAog3eMd2spraON7dlMq1/NPFRIS49913j4hjYNZQ/rUpxSV311zanY4zh3knxlp9LKeV+msQvEEdPlXDwRHGbutLP8fP14f4pCWxLL2BP1lknRGetNSmnOFFUwezxrrsKP8fPXlc9+2w5C9ZbW/GutLKGN7dmctXQrvTspMNWlLoQaBK/QKxKzkEErrnIOYO6bh8bS2iQHwu9oBTr8q0ZdAsP4tKBMW45/8Q+nbn2om78+5ujZJ+1rq76il3HKaqo0WllSl1AHEriIjJJRO4SkXvObVYHppzHGMPKpBzGxUfSxUnlNzsG+nHX+Dg+3ZtLVkGZU45phbT8UjYcyefOcXFuHU38q2sGAvCX1SmWHL+uzrBkYzrDYyMYFdfJknMopTzPeT/VRGQp8A9gCjDWvo2xOC7lRAdPFHMsr5SZw1s/oK0xcycl4CPi0aVYl2/JwM9HuGOse0dq9+wUzA+m9+WT5Fw2Hzvt9OOvPXSKtPxSHpiia4YrdSFx5NJkDDDZGPNDY8yP7dtPrA5MOc+q5Bx8xDYgzZm6hgdx3fDuvLMjy22VyZpTUV3LuzuPc+WQrh6xAMjD03vTI6IDz6zcT01tnVOPvWRjGt3Cg5z+M1ZKeTZHkvg+QD8ZvJQxhlXJuUzqE0VUx0CnH3/e1N6UVdWyfJvnlWJdlZxLYXk1d1tUJ72lgvx9+e21gzh4opg3t2U67bgpuUVsPHqaeybG468FSJS6oDjyPz4KOCAin4vIx+e28+0kIrEislZEDojIfhF5rJE2F4tIoYjssW+/b82LUE3bl11ExukyZg23pkrZ4O5hTOkbxasb06mqce7VZVst3ZJBn+gQj6pvfdXQrkzq05l/fHGYM6VVTjnmksQ0Ovj7cuc4Le6i1IXGkST+B+AGbIue/F+97XxqgCeMMYOBCcCjIjK4kXYbjDEj7NsfHQtbOWpVcg5+PsKVQ6zrTHlwWm9OFVfycVKOZedoqX3ZhSRlnWX2hF4edY9YRHh61hBKKmuY/2Xb66rnFVfy0Z4cbh7dg4jgACdEqJTyJo6sJ76usc2B/XKNMbvsXxcDKUCPtoesHHWuK31qvyhLP+Cn9YtiQJdQFm1IdWl50eYs25JBB39fbhrV092hfM+ArqHMmdCL5VszOJBT1KZjLd+aQVVtHXN1zXClLkiOjE6fICLbRaRERKpEpFZEWvTJIyLxwEhgayNPTxSRJBH5VESGNLH/QyKyQ0R25OXlteTUF7TdWWfJPlvOzDaUWXWEiDBvagIHTxSz4Ui+pedyRGF5NR/uyeb6Ed0J7+Dv7nAa9dMZ/Qnv4M8fVra+rnpFdS3LtmRw6cAY+kQ7vja8Uqr9cKQ7/QXgTuAI0AGYB7zo6AlEpCPwPvC4MaZh8t8F9DLGDAf+BXzY2DGMMQuMMWOMMWOio6MdPfUFb1VSLgG+Plw+xPrlKK8b0Z2Y0ECPKP6yYtdxKqrrmD3B2iVH2yI82J8nrxzAtrSCb2vat9THSTnkl1RpcRelLmAODWU1xhwFfO3rib8CXOXIfiLijy2BLzfGrGjkuEXGmBL716sBfxGJcjh61aS6OsMne3OYPiCasCDrr0YD/Xy5d1I8G47kk5Lbti7itjDGsHxrJsNjIxjaI9xtcTjijrFxDO4Wxl8+SaGsqqZF+xpjWJKYxsCuoUzq4zkD95RSruVIEi8TkQBgj4j8TUR+6sh+YhtNtBhIMcbMb6JNV3s7RGSc/bjOr4RxAdqeXsDJokqn1Ep31N3j4wgO8HXr1fiW1AKOnipxS530lvL1EZ65fgg5hRW89M2xFu27+dhpDp4o5v7JWtxFqQuZI0l8jr3dj4BSIBa42YH9Jtv3vbTeFLJrROQREXnE3uYWYJ+IJAHPA3cYTxkZ5eVWJecS5O/DjEHWd6WfExEcwG1jYlmZlMOJwgqXnbe+ZVsyCO/gzywnV6ezytj4SK4b3p2X1qe2qHzt4sQ0OocEcN0I73idSilrODI6PQMQoJsx5hljzM/s3evn2y/RGCPGmGH1ppCtNsa8ZIx5yd7mBWPMEGPMcGPMBGPMpra/JFVTW8en+3K5bGAXQly8pvT9kxOorTO8uindpecFOFVUwef7T3Dr6J4E+fu6/Pyt9atrBuIrwp8/cayuempeCV8dPMXdE3p51etUSjmfI93is4A9wGf270c4UuxFuc/WtALyS6pc2pV+TlznYK4a2pU3tmZQUtmy+7xt9fb2LGrqDHd78IC2xnQL78CPLu3LZ/tPsPHo+Uf3v7opnQBfH+Z42etUSjmfo8VexgFnAYwxewAdDuvBViXnEBLgyyVuWnrzwam9Kaqo4Z3tWS47Z01tHW9sy2RqvygSokJcdl5neWBKAnGRwTyzcj/VzdRVLyyr5t0dx7luRHeiQ51fRlcp5V0cSeLVxpjCBo/pfWsPVV1bx6f7TjBjcBe3dbWOjOvE2PhOLE5Mc/pCH035+uApcgsruHu8d16dnqurfvhkCcu2NF2H/s3tmZRX13K/FndRSuFYEt8vIncBviLST0T+Bei9aw+VeDSfs2XVlhd4OZ95U3uTfbacz/afcMn5lm3NpGtYEDMGuaf3wRkuH9yFqf2imP/lYU6XVH7v+eraOl7blM7E3p0Z3D3MDREqpTyNI0n8x8AQoBJ4EygCHrcyKNV6q5JyCQ3yY1p/9063nzGoCwlRISxcb30p1vT8UtYfzuOOcbH4efEqXra66oMpr6rlH18c+t7zn+07QW5hhRZ3UUp9y5HR6WXGmN8YY8baq6b9xhjjnvlDqlmVNbV8ceAEVwzuSqCfe0ct+/oI909JIOl4IdvTz1h6rje2ZeLrI9w5zvPnhp9P35hQ7p0Uz1vbs9iX/d27WIsT04jvHMylbhrroJTyPE0m8frLjja2uTJI5Zj1h/MprqixbNnRlrplVE86BfuzYL11xV8qqmt5d0cWVwzuQpewIMvO40qPzehH55AAnv74v3XVd2acYU/WWeZOTsDHR4u7KKVsmptEPBHIwtaFvhXbXHHlwVYl59Ap2J/JfT2jcm2HAF/mTOjFv9Ye5VheiSWLdKzem8uZsmqPrpPeUmFB/vziyoH84v1kPtqTww0je7BkYxphQX7cMtrzVmVTSrlPc93pXYFfA0OB54DLgXxHlyJVrlVRXcuaAye5amhX/D3ovvCcifH4+/qwODHNkuMv3ZJB7+iQdlc//JbRPRnWM5y/fprCkZPFfLbvBHeOi3N58R6llGdr8tPevtjJZ8aYe4EJwFHgGxH5kcuiUw5be/AUpVW1bh+V3lB0aCA3j+rB+zuPNzriui325xSyO/Msd4/v1e7qh/v4CE/PGsLJokruWmRbwfeeSfHuDUop5XGavWQTkUARuQlYBjyKrb75B64ITLXMquRcojoGMD4h0t2hfM8DU3pTWVPH0mbmP7fGsi2ZBPn7cMuo9tnFPLpXJ24a1YO84kquGtqVHhEd3B2SUsrDNDew7XVgMzAKeMY+Ov1Pxphsl0VnsbT8Uua9tp2C0ip3h9ImpZU1fHXwJFcP7eaRU6z6xnTksoExvL45g4rqWqccs6iimg93ZzNrWHfCg61fatVdnrpqIFP6RvHjS/u6OxSllAdq7hN/NtAPeAzYJCJF9q1YRNy3YLQTlVXVsO5wHk+9n2z5XGYrrUk5SUV1nVtqpTtq3tTeFJRWsWKXc/4G/GBXNuXVtcyZ2H4GtDUmJiyIZfPGM7CrFndRSn1fc/fEfYwxofYtrN4WaoxpF58oQ7qH8/MrB/DFgZO87cI63862KjmXLmGBjI33vK70cyb0juSiHuEs2pBKXV3b/mAyxrBsSwbDeoYzrGeEkyJUSinv43l9ry42b0pvJvXpzDMrD5CWX+rucFqsqKKadYfyuPai7h49f1hEmDc1gdT8Ur4+eKpNx9qWVsCRUyXM9tI66Uop5SwXfBL38RH+77bhBPj58Phbu5tdQcoTfbn/JFW1dcz0kAIvzbnmom70iOjAgg1tK/6ydEsGYUF+zBruWSPxlVLK1S74JA629Zz/cuNFJB0v5Pmvjrg7nBZZlZxDj4gOjIz1/G5lf18f5k6OZ1taAUlZZ1t1jLziSj7ff4JbRsfSIcC9pWWVUsrdNInbXTusG7eM7smLa4+yPb3A3eE45GxZFRuO5DNzWDevmSd9+9hYQgP9WNjKq/F3dmRRXWu4e4L310lXSqm2siyJi0isiKwVkQMisl9EHmum7VgRqRGRW6yKxxF/uG4IPTsF8/hbeyiqqHZnKA75fP8JauqMxxV4aU5okD93jY9j9d5csgrKWrRvbZ3hja2ZTOrT2ZISrkop5W2svBKvAZ4wxgzGVvHtUREZ3LCRiPgC/wt8YWEsDukY6Mc/bx/BiaIKnv5ov7vDOa+VSbn06hzM0B7eNVngvsnx+Ijwysb0Fu239uApss+WM6cd1UlXSqm2sCyJG2NyjTG77F8XAylAj0aa/hh4H2jbkGUnGd2rEz+6pC8f7M7m46Qcd4fTpPySSjYdy2fWsO5e05V+TrfwDswa3p23t2dSWO54j8eyrRnEhAYyY3AXC6NTSinv4ZJ74iISD4zEthpa/cd7ADcC/znP/g+JyA4R2ZGXl2dVmN/68aV9GRkXwW8+2Ev22XLLz9can+47QZ3BK0alN2be1ARKq2p5c1umQ+0zT5ex7nAed4yL86gFXpRSyp0s/zQUkY7YrrQfN8Y0rPT2LPBLY0yz87qMMQuMMWOMMWOio6OtCvVbfr4+PHv7COrqDD97ew+1bSxOYoVVSTn0jenIgC6h7g6lVYZ0D2dy3868sjGNqprzT+tbvi0DHxHuHBfrguiUUso7WJrERcQfWwJfboxZ0UiTMcBbIpIO3AL8W0RusDImR/XqHMLT1w1ha1oBC9a3bV6zs50sqmBbeoFXjUpvzLypvTlZVMmq5OZvW1TW1PLujuPMGBRDt3BdBEQppc6xcnS6AIuBFGPM/MbaGGMSjDHxxph44D3gh8aYD62KqaVuHd2Tq4d2Zf6Xh9iXXejucL61em8uxuBVo9Ibc3H/aPrFdGTB+tRma9d/uvcEBaVVzNYBbUop9R1WXolPBuYAl4rIHvt2jYg8IiKPWHhepxER/nLjRUSGBPCTt3ZTXuWcFbjaalVyLgO7htI3xrunWYkID07rzcETxSQezW+y3dItGSREhTC5T5QLo1NKKc9n5ej0RGOMGGOGGWNG2LfVxpiXjDEvNdL+PmPMe1bF01qdQgKYf9sIUvNK+fPqA+4Oh+yz5ezMONNuSo5eP6I70aGBLNyQ1ujzKblF7Mw4w93j4zy6NrxSSrmDDvN1wOS+UTw4NYFlWzL5KuWkW2P5xH7/2JOXHW2JQD9f7psUz/rDeRw88f0VbpdtySDQz4dbRvd0Q3RKKeXZNIk76MkrBzCoWxi/eC+ZvOJKt8WxKjmXYT3D6dU5xG0xONvd4+Po4O/LogZX48UV1XywO5uZw7oTERzgpuiUUspzaRJ3UKCfL8/dMYKSyhp+8V5SswOxrJJxupTk44Xt5ir8nIjgAG4b05OP9mRzsqji28c/3J1NWVUtcybqgDallGqMJvEW6N8llF9dPZC1h/JYuiXD5edflZwLwLVePiq9MfdPSaCmzvDapnQAjDEs25LJ0B5hDO8Z7t7glFLKQ2kSb6F7J8UzvX80f/4khSMni1167lXJuYyKi6BHRPubK92rcwhXDenKsi0ZlFbWsCPjDIdOFjN7fC+vnguvlFJW0iTeQiLC328dRkigH4+9tYfKGtdMOzuWV0JKbpHXzw1vzoPTelNUUcM7O7JYujmD0CA/rhvRfl+vUkq1lSbxVogJDeJ/bx7Ggdwi5n9x2CXnXJWUi4ht3fP2alRcJ0b36sSC9al8ui+Xm0f1JDjAz91hKaWUx9Ik3kqXD+7CXePjWLAhlU3Hmi5U4gzGGFYm5zA2iG5cRgAACu1JREFUPpIuYUGWnsvdHpzam9zCCqprDbMnxLk7HKWU8miaxNvgt9cOIqFzCE+8k0RhmeNLarbUoZPFHD1V0m4KvDTn8sFd6B0dwpS+UfSN8c7FXZRSylU0ibdBcIAfz90xkrziSn79wV7Lpp2tSsrFR+DqoV0tOb4n8fURVvxgEv+ZPcrdoSillMfTJN5GF/UM56eX9+eTvbm8vyvb6cc3xrAqOYdJfaKI6hjo9ON7oojgAEKD/N0dhlJKeTxN4k7wyPQ+jEuI5OmP9pF5usypx96fU0T66bJ2V+BFKaVU22kSdwJfH2H+bcPx8REef3s3NbV1Tjv2yuQc/HyEqy6ArnSllFIto0ncSXp2Cub/3TCUXZlneXHtMacc0xjDJ8m5TOkXpbXDlVJKfY8mcSe6fkQPrh/Rnee/PsKuzDNtPt6erLMcP1Pergu8KKWUaj1N4k72x+uH0jUsiJ++vYeSypo2HWtlUi4Bvj5cMaSLk6JTSinVnmgSd7LwDv788/YRZBWU8ceV+1t9nLo6w+q9uUwfEE2YjtRWSinVCE3iFhiXEMkPLu7DOzuO89m+3FYdY0fGGU4UVeiodKWUUk2yLImLSKyIrBWRAyKyX0Qea6TN9SKSLCJ7RGSHiEyxKh5Xe3xGf4b1DOepFXs5UVhx/h0aWJWcQ5C/DzMGaVe6Ukqpxll5JV4DPGGMGQxMAB4VkcEN2nwFDDfGjADuBxZZGI9L+fv68OztI6isruOJd/dQV+d4NbfaOsPqvSe4dGAMIYG6AIhSSqnGWZbEjTG5xphd9q+LgRSgR4M2Jea/tUpDAGvqlrpJ7+iO/G7mYDYePc2SjWkO77c19TT5JZU6Kl0ppVSzXHJPXETi4f+3d/dBVtV1HMffH3aXJ1ckHkQSCkgFVkRRdEwYhzQKzBGtHGWU0bGZxrFSmsrB+kOtmcJwHG20HEdNKwYtRVPxiTTTKE0TXBAQlUwWV1isVHR4Wr79cY6zu7jLYu7d357O5zWzs/c83Hs+84N7v3t+59zfj0nAM+1sO0PSWmAJ2dl4e8//et7d/lxTU1Mlo3a52ceNZHrdMH768EusfuOdfXrO/fWN9O9dxefGHljhdGZmVmQVL+KSaoG7gbkR8aEqFhH3RMQ44HTgR+29RkTcFBGTI2Ly0KFDKxu4i0li/peP4ID+Ncy9cznbdjbvdf+dzbt5eFUj0+uG0a93VTelNDOzIqpoEZdUQ1bAF0bE4r3tGxFPAmMkDalkphQG1/ZhwVcnsm7TVuY/tHav+y57ZQv/fn+nu9LNzKxTlbw7XcAtwJqIuKaDfQ7J90PS0UAf4K1KZUpp2tgDOf+EUdz2l9f407qOLwk8UN/I/n2rOfGw/7u/ZczMrItV8kx8CjAHOCn/CtkKSadIulDShfk+XwFWSVoB3ACcFZWalLsHmDdzHIcNq+W7v3uBt7Zu/9D27buaeeTFN/lC3UH0qXZXupmZ7V3Fvr8UEX8G1Mk+VwFXVSpDT9O3porrzp7ErOuXMW/xSm6acwx5RwQAT63bwrvbdnHqkR7gxczMOucR27rZ+OEDuHTGWJau3sQdz25os+2B+jcY2L+GqYe4K93MzDrnIp7ABVNGM/WQIfzw/tWsb9oKwLadzSxdvYkZhx9ETZX/WczMrHOuFgn06iWuPvNI+tT0Yu6dK9jZvJsnXtrMezuafVe6mZntMxfxRA46oC8/OeMI6hve5to/rOP+FxoZUtub48cMSh3NzMwKwgNzJzTziOGcecwIfv7Eq9T06sVZx46k2l3pZma2j1wxErv8tMP51KD+7Gje7WlHzczsI/GZeGK1faq58dxjuHfFRo4d5a50MzPbdy7iPcD44QMYP3xA6hhmZlYw7k43MzMrKBdxMzOzgnIRNzMzKygXcTMzs4JyETczMysoF3EzM7OCchE3MzMrKBdxMzOzglJEpM7wkUhqAv7ZhS85BNjSha9XdG6PttweLdwWbbk92nJ7tKhEW3w6IobuubJwRbyrSXouIianztFTuD3acnu0cFu05fZoy+3Rojvbwt3pZmZmBeUibmZmVlAu4nBT6gA9jNujLbdHC7dFW26PttweLbqtLUp/TdzMzKyofCZuZmZWUC7iZmZmBVXqIi5phqSXJL0iaV7qPClJGinpj5JWS3pR0iWpM6UmqUrSckkPpM6SmqSBku6StFbSGkmfTZ0pJUnfzt8nqyQtktQ3dabuIulWSZslrWq1bpCkpZJezn9/ImXG7tRBeyzI3yv1ku6RNLBSxy9tEZdUBdwAzATqgNmS6tKmSmoX8J2IqAOOB75R8vYAuARYkzpED3Ed8HBEjAOOpMTtIulg4GJgckRMAKqAs9Om6la3ATP2WDcPeCwiDgUey5fL4jY+3B5LgQkRMRFYB1xWqYOXtogDxwGvRMT6iNgB3AHMSpwpmYhojIjn88fvkn1IH5w2VTqSRgBfAm5OnSU1SQcAJwK3AETEjoj4T9pUyVUD/SRVA/2BNxLn6TYR8STwrz1WzwJuzx/fDpzeraESaq89IuLRiNiVLz4NjKjU8ctcxA8GNrRabqDERas1SaOAScAzaZMkdS1wKbA7dZAeYDTQBPwyv7xws6T9UodKJSI2AlcDrwONwNsR8WjaVMkNi4jG/PGbwLCUYXqYC4CHKvXiZS7i1g5JtcDdwNyIeCd1nhQknQpsjoi/p87SQ1QDRwO/iIhJwHuUq7u0jfx67yyyP24+Cewn6dy0qXqOyL637O8uA5J+QHapcmGljlHmIr4RGNlqeUS+rrQk1ZAV8IURsTh1noSmAKdJeo3sMstJkn6TNlJSDUBDRHzQM3MXWVEvq88D/4iIpojYCSwGTkicKbVNkoYD5L83J86TnKTzgVOBc6KCA7KUuYg/CxwqabSk3mQ3ptyXOFMykkR2zXNNRFyTOk9KEXFZRIyIiFFk/y8ej4jSnmlFxJvABklj81UnA6sTRkrtdeB4Sf3z983JlPhGv9x9wHn54/OA3yfMkpykGWSX406LiPcreazSFvH8poNvAo+QvQF/GxEvpk2V1BRgDtlZ54r855TUoazH+BawUFI9cBTw48R5ksl7JO4CngdWkn2OlmbIUUmLgL8CYyU1SPoaMB+YLullsp6K+SkzdqcO2uN6YH9gaf5ZemPFju9hV83MzIqptGfiZmZmRecibmZmVlAu4mZmZgXlIm5mZlZQLuJmZmYF5SJuVjKSovXgNZKqJTX9r7O15TOcXdRqeZpnfjPrHi7iZuXzHjBBUr98eTofb7TCgcBFne5lZl3ORdysnB4km6UNYDaw6IMN+dzQ9+ZzIT8taWK+/op87uQnJK2XdHH+lPnAZ/JBLRbk62pbzT++MB/ZzMy6mIu4WTndAZwtqS8wkbYz1l0JLM/nQv4+8KtW28YBXySbyvfyfLz9ecCrEXFURHwv328SMBeoA8aQjQhoZl3MRdyshCKiHhhFdhb+4B6bpwK/zvd7HBgsaUC+bUlEbI+ILWSTXHQ05eTfIqIhInYDK/JjmVkXq04dwMySuY9sXuxpwOB9fM72Vo+b6fgzZF/3M7OPwWfiZuV1K3BlRKzcY/1TwDmQ3WkObOlkbvl3ySZ7MLNu5r+OzUoqIhqAn7Wz6Qrg1nzGsvdpmWKyo9d5S9IySauAh4AlXZ3VzNrnWczMzMwKyt3pZmZmBeUibmZmVlAu4mZmZgXlIm5mZlZQLuJmZmYF5SJuZmZWUC7iZmZmBfVfmFBUcKg1+yAAAAAASUVORK5CYII=\n",
      "text/plain": [
       "<Figure size 576x288 with 1 Axes>"
      ]
     },
     "metadata": {
      "needs_background": "light"
     },
     "output_type": "display_data"
    },
    {
     "name": "stdout",
     "output_type": "stream",
     "text": [
      "time: 178 ms\n"
     ]
    }
   ],
   "source": [
    "fig = plt.figure(figsize=(8,4))\n",
    "sns.lineplot(x=months,y=user_metrics_sn_spending_behavior_mse)\n",
    "plt.title('MSE for Each Lifetime Point',fontsize=16)\n",
    "plt.xlabel('Month', fontsize=10)\n",
    "plt.ylabel('Mean Squared Error ', fontsize=10)\n",
    "plt.show()"
   ]
  }
 ],
 "metadata": {
  "kernelspec": {
   "display_name": "Python 3",
   "language": "python",
   "name": "python3"
  },
  "language_info": {
   "codemirror_mode": {
    "name": "ipython",
    "version": 3
   },
   "file_extension": ".py",
   "mimetype": "text/x-python",
   "name": "python",
   "nbconvert_exporter": "python",
   "pygments_lexer": "ipython3",
   "version": "3.7.3"
  },
  "toc": {
   "base_numbering": 1,
   "nav_menu": {},
   "number_sections": false,
   "sideBar": true,
   "skip_h1_title": false,
   "title_cell": "Table of Contents",
   "title_sidebar": "Contents",
   "toc_cell": false,
   "toc_position": {
    "height": "calc(100% - 180px)",
    "left": "10px",
    "top": "150px",
    "width": "165px"
   },
   "toc_section_display": true,
   "toc_window_display": true
  },
  "varInspector": {
   "cols": {
    "lenName": 16,
    "lenType": 16,
    "lenVar": 40
   },
   "kernels_config": {
    "python": {
     "delete_cmd_postfix": "",
     "delete_cmd_prefix": "del ",
     "library": "var_list.py",
     "varRefreshCmd": "print(var_dic_list())"
    },
    "r": {
     "delete_cmd_postfix": ") ",
     "delete_cmd_prefix": "rm(",
     "library": "var_list.r",
     "varRefreshCmd": "cat(var_dic_list()) "
    }
   },
   "types_to_exclude": [
    "module",
    "function",
    "builtin_function_or_method",
    "instance",
    "_Feature"
   ],
   "window_display": false
  }
 },
 "nbformat": 4,
 "nbformat_minor": 2
}
